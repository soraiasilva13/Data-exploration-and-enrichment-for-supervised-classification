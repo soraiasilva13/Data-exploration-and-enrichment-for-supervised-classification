{
  "nbformat": 4,
  "nbformat_minor": 0,
  "metadata": {
    "colab": {
      "provenance": [],
      "collapsed_sections": [
        "PtkY5Q8xjLbf"
      ]
    },
    "kernelspec": {
      "name": "python3",
      "display_name": "Python 3"
    },
    "language_info": {
      "name": "python"
    }
  },
  "cells": [
    {
      "cell_type": "markdown",
      "source": [
        "# **Trabalho EIACD 2**\n",
        "### \"Data exploration and enrichment for supervised classification\"\n",
        "###### Trabalho realizado por: Cristiana Silva, Filipa Marinha e Filipa Ferreira"
      ],
      "metadata": {
        "id": "FS4FTtagGRzd"
      }
    },
    {
      "cell_type": "markdown",
      "source": [
        "# Índice\n",
        "#### 1. Introdução\n",
        "#### 2. Bibliotecas utilizadas\n",
        "#### 3. Formulação do problema\n",
        "#### 4. Exploração de dados\n",
        "- observações gerais\n",
        "- identificação de dados \"?\"\n",
        "- identificação de dados nulos\n",
        "- gráficos acerca de diversos parâmetros avaliados no dataset\n",
        "\n",
        "#### 5. Pré-processamento de dados\n",
        "- eliminação de dados desconhecidos\n",
        "- substituição de \"?\" (dados em falta) por médias\n",
        "- guardar os dados pré-processados\n",
        "\n",
        "#### 6. Modelação de dados\n",
        "#### 7. Classificação (algoritmos)\n",
        "- Teste 1\n",
        "- Teste 2\n",
        "- Teste 3 (com grid search)\n",
        "- Teste 4\n",
        "\n",
        "#### 8. Comparar resultados\n",
        "#### 9. Conclusão\n",
        "\n"
      ],
      "metadata": {
        "id": "2hA347NFGRzd"
      }
    },
    {
      "cell_type": "markdown",
      "source": [
        "# Introdução\n",
        "[[voltar ao índice]](#Indice)\n",
        "###### A ciência de dados tornou-se um domínio indispensável para extrair informações valiosas e tomar decisões informadas a partir de grandes quantidades de dados.\n",
        "###### Neste projeto, o objetivo é abordar um caso de uso real desta ciência, desde a limpeza de dados e avaliação de recursos até a inspeção visual e comunicação de resultados, utilizando o 'Hepatocellular Carcinoma Dataset'. Para o efeito, foi essencial o desenvolvimento de uma machine learning pipeline com a capacidade de determinar a sobrevivência dos pacientes após 1 ano de diagnóstico (este método será capaz de ditar se o paciente sobrevive ou morre).\n",
        "---"
      ],
      "metadata": {
        "id": "fB0mFdgwGRzd"
      }
    },
    {
      "cell_type": "markdown",
      "source": [
        "# Import das bibliotecas utilizadas"
      ],
      "metadata": {
        "id": "h3-yY71YbK70"
      }
    },
    {
      "cell_type": "code",
      "source": [
        "import time\n",
        "from collections import OrderedDict\n",
        "from sklearn import tree\n",
        "from sklearn.tree import DecisionTreeClassifier\n",
        "from sklearn.model_selection import train_test_split, GridSearchCV\n",
        "from sklearn.preprocessing import LabelEncoder\n",
        "from sklearn.neighbors import KNeighborsClassifier\n",
        "from sklearn.metrics import accuracy_score, classification_report, confusion_matrix\n",
        "from matplotlib import pyplot as plt\n",
        "from matplotlib.ticker import MaxNLocator\n",
        "import numpy as np\n",
        "import pandas as pd\n",
        "import seaborn as sns\n",
        "import copy"
      ],
      "metadata": {
        "id": "I-LDFCtPbMJ_"
      },
      "execution_count": null,
      "outputs": []
    },
    {
      "cell_type": "markdown",
      "source": [
        "###### Recomenda-se a utilização da Anaconda Python distribution para a visualização deste projeto, dado que este permite o acesso às diversas bibliotecas Python usadas.\n",
        "###### As principais bibliotecas usadas são:\n",
        "- Numpy: permite realizar uma grande variedade de operações matemáticas em matrizes.\n",
        "- Pandas: possibilita uma análise e manipulação de dados mais eficientemente\n",
        "- Scikit-learn: dispõe de ferramentas simples e eficientes para análise preditiva de dados.\n",
        "- Matplotlib: destina-se à criação de gráficos e à visualização de dados em geral\n",
        "- Seaborn: fornece uma interface de alto nível, trabalhando em simultâneo com o Matplotlib.\n",
        "\n",
        "\n",
        "---"
      ],
      "metadata": {
        "id": "6iPln8g1bRE3"
      }
    },
    {
      "cell_type": "markdown",
      "source": [
        "# Formulação do problema\n",
        "[[voltar ao índice]](#Indice)\n",
        "###### O objetivo deste trabalho é prever certas condições em pacientes (inclusive se o paciente 'lives' ou 'dies') com base no dataset do 'Hepatocellular Carcinoma' fornecido. Para este efeito, será realizada uma análise exploratória dos dados do dataset e, posteriormente aplicados alguns modelos de 'Supervised Learning', em que nos foram fornecidos os seguintes dados:\n",
        "- Categorical: gender (male or female), class (lives or dies), PS (active, ambulatory, restricted, selfcare, disable), Encephalophathy (None, Grade I/II, Grade III/IV), Ascites (None, Mild, Moderate/Severe\n",
        "\n",
        "- Numerical: age, grams_day, packs_year, INR, AFP, hemoglobin, MCV, leucocytes, platelets, albumin, total_bil, ALT, AST, GGT, ALP, TP, creatinine, nodules, major_dim, dir_bil, iron, sat, ferritin\n",
        "\n",
        "- Boolean: symptoms, alcohol, HBsAg, HBeAg, HBcAb, HCVAb, Cirrhosis, Endemic, Smoking, Diabetes, Obesity, Hemochro, AHT, CRI, HIV, NASH, Varices, Spleno, PHT, PVT, Metastasis, Hallmark\n",
        "\n",
        "###### Os dados apresentados como 'Boolean' são na verdade expressos como 'Yes' ou 'No' invés de 'True' ou 'False'.Para além disso, todas as categorias apresentadas estão sujeitas a alguns valores em falta.\n",
        "###### Por fim, visto que estamos a realizar uma 'classificação', podemos comprovar o quão precisos foram os resultados de modo a avaliar a eficácia dos métodos usados.\n",
        "\n",
        "---"
      ],
      "metadata": {
        "id": "fAICZTt4bXDp"
      }
    },
    {
      "cell_type": "markdown",
      "source": [
        "## Exploração de dados\n",
        "[[voltar ao índice]](#Indice)\n",
        "###### Esta etapa destina-se à examinação  dos dados, tendo como objetico identificar a existência de erros e a relevância dos dados recolhidos, devendo estes ser identificados e posteriormente retificados ou eliminados."
      ],
      "metadata": {
        "id": "6ncvK_iFblw2"
      }
    },
    {
      "cell_type": "code",
      "source": [
        "df = pd.read_csv(\"hcc_dataset.csv\", sep = \",\")\n",
        "# Leitura do ficheiro"
      ],
      "metadata": {
        "id": "GIDTDAU9cJCg"
      },
      "execution_count": null,
      "outputs": []
    },
    {
      "cell_type": "markdown",
      "source": [
        "### Observações gerais"
      ],
      "metadata": {
        "id": "r2cINNfUb7rE"
      }
    },
    {
      "cell_type": "code",
      "source": [
        "df.shape"
      ],
      "metadata": {
        "colab": {
          "base_uri": "https://localhost:8080/"
        },
        "id": "JPsRkLJVebRu",
        "outputId": "f85a6db3-48f0-4dc2-a4ef-3f7b2e14499f"
      },
      "execution_count": null,
      "outputs": [
        {
          "output_type": "execute_result",
          "data": {
            "text/plain": [
              "(165, 50)"
            ]
          },
          "metadata": {},
          "execution_count": 3321
        }
      ]
    },
    {
      "cell_type": "markdown",
      "source": [
        "Através do comando \"shape\", é possível contemplar que existem, no total, 165 pacientes e 50 critérios de classificação."
      ],
      "metadata": {
        "id": "o-cGzL6hcCHR"
      }
    },
    {
      "cell_type": "code",
      "source": [
        "categories = []\n",
        "for category in df:\n",
        "  categories.append(category)\n",
        "print(categories)"
      ],
      "metadata": {
        "id": "2uIbNoU8hxLW",
        "colab": {
          "base_uri": "https://localhost:8080/"
        },
        "outputId": "cabbcbb5-32fc-4142-d259-8bb08154265a"
      },
      "execution_count": null,
      "outputs": [
        {
          "output_type": "stream",
          "name": "stdout",
          "text": [
            "['Gender', 'Symptoms', 'Alcohol', 'HBsAg', 'HBeAg', 'HBcAb', 'HCVAb', 'Cirrhosis', 'Endemic', 'Smoking', 'Diabetes', 'Obesity', 'Hemochro', 'AHT', 'CRI', 'HIV', 'NASH', 'Varices', 'Spleno', 'PHT', 'PVT', 'Metastasis', 'Hallmark', 'Age', 'Grams_day', 'Packs_year', 'PS', 'Encephalopathy', 'Ascites', 'INR', 'AFP', 'Hemoglobin', 'MCV', 'Leucocytes', 'Platelets', ' Albumin', 'Total_Bil', 'ALT', 'AST', 'GGT', 'ALP', 'TP', 'Creatinine', 'Nodules', 'Major_Dim', 'Dir_Bil', 'Iron', 'Sat', 'Ferritin', 'Class']\n"
          ]
        }
      ]
    },
    {
      "cell_type": "markdown",
      "source": [
        "Lista de todos os critérios presentes no dataset."
      ],
      "metadata": {
        "id": "9wERB5aYhzic"
      }
    },
    {
      "cell_type": "code",
      "source": [
        "df[\"Age\"].mean()"
      ],
      "metadata": {
        "id": "jVv_DLX9u3KE",
        "colab": {
          "base_uri": "https://localhost:8080/"
        },
        "outputId": "8091c31b-c1e0-4dda-cffd-85fe4f629cf7"
      },
      "execution_count": null,
      "outputs": [
        {
          "output_type": "execute_result",
          "data": {
            "text/plain": [
              "64.69090909090909"
            ]
          },
          "metadata": {},
          "execution_count": 3323
        }
      ]
    },
    {
      "cell_type": "markdown",
      "source": [
        "Média das idades dos pacientes."
      ],
      "metadata": {
        "id": "sfNYg2cS3bad"
      }
    },
    {
      "cell_type": "code",
      "source": [
        "df.head()"
      ],
      "metadata": {
        "id": "CvWEbG3Le5XB",
        "colab": {
          "base_uri": "https://localhost:8080/",
          "height": 235
        },
        "outputId": "79d53d2c-f978-4825-8819-ba8d46272d6f"
      },
      "execution_count": null,
      "outputs": [
        {
          "output_type": "execute_result",
          "data": {
            "text/plain": [
              "   Gender Symptoms Alcohol HBsAg HBeAg HBcAb HCVAb Cirrhosis Endemic Smoking  \\\n",
              "0    Male       No     Yes    No    No    No    No       Yes      No     Yes   \n",
              "1  Female        ?      No    No    No    No   Yes       Yes       ?       ?   \n",
              "2    Male       No     Yes   Yes    No   Yes    No       Yes      No     Yes   \n",
              "3    Male      Yes     Yes    No    No    No    No       Yes      No     Yes   \n",
              "4    Male      Yes     Yes   Yes    No   Yes    No       Yes      No     Yes   \n",
              "\n",
              "   ...  ALP   TP Creatinine Nodules Major_Dim Dir_Bil Iron Sat Ferritin  Class  \n",
              "0  ...  150  7.1        0.7       1       3.5     0.5    ?   ?        ?  Lives  \n",
              "1  ...    ?    ?          ?       1       1.8       ?    ?   ?        ?  Lives  \n",
              "2  ...  109    7        2.1       5        13     0.1   28   6       16  Lives  \n",
              "3  ...  174  8.1       1.11       2      15.7     0.2    ?   ?        ?   Dies  \n",
              "4  ...  109  6.9        1.8       1         9       ?   59  15       22  Lives  \n",
              "\n",
              "[5 rows x 50 columns]"
            ],
            "text/html": [
              "\n",
              "  <div id=\"df-af1ef768-2233-4a52-bd55-f969d6e23bba\" class=\"colab-df-container\">\n",
              "    <div>\n",
              "<style scoped>\n",
              "    .dataframe tbody tr th:only-of-type {\n",
              "        vertical-align: middle;\n",
              "    }\n",
              "\n",
              "    .dataframe tbody tr th {\n",
              "        vertical-align: top;\n",
              "    }\n",
              "\n",
              "    .dataframe thead th {\n",
              "        text-align: right;\n",
              "    }\n",
              "</style>\n",
              "<table border=\"1\" class=\"dataframe\">\n",
              "  <thead>\n",
              "    <tr style=\"text-align: right;\">\n",
              "      <th></th>\n",
              "      <th>Gender</th>\n",
              "      <th>Symptoms</th>\n",
              "      <th>Alcohol</th>\n",
              "      <th>HBsAg</th>\n",
              "      <th>HBeAg</th>\n",
              "      <th>HBcAb</th>\n",
              "      <th>HCVAb</th>\n",
              "      <th>Cirrhosis</th>\n",
              "      <th>Endemic</th>\n",
              "      <th>Smoking</th>\n",
              "      <th>...</th>\n",
              "      <th>ALP</th>\n",
              "      <th>TP</th>\n",
              "      <th>Creatinine</th>\n",
              "      <th>Nodules</th>\n",
              "      <th>Major_Dim</th>\n",
              "      <th>Dir_Bil</th>\n",
              "      <th>Iron</th>\n",
              "      <th>Sat</th>\n",
              "      <th>Ferritin</th>\n",
              "      <th>Class</th>\n",
              "    </tr>\n",
              "  </thead>\n",
              "  <tbody>\n",
              "    <tr>\n",
              "      <th>0</th>\n",
              "      <td>Male</td>\n",
              "      <td>No</td>\n",
              "      <td>Yes</td>\n",
              "      <td>No</td>\n",
              "      <td>No</td>\n",
              "      <td>No</td>\n",
              "      <td>No</td>\n",
              "      <td>Yes</td>\n",
              "      <td>No</td>\n",
              "      <td>Yes</td>\n",
              "      <td>...</td>\n",
              "      <td>150</td>\n",
              "      <td>7.1</td>\n",
              "      <td>0.7</td>\n",
              "      <td>1</td>\n",
              "      <td>3.5</td>\n",
              "      <td>0.5</td>\n",
              "      <td>?</td>\n",
              "      <td>?</td>\n",
              "      <td>?</td>\n",
              "      <td>Lives</td>\n",
              "    </tr>\n",
              "    <tr>\n",
              "      <th>1</th>\n",
              "      <td>Female</td>\n",
              "      <td>?</td>\n",
              "      <td>No</td>\n",
              "      <td>No</td>\n",
              "      <td>No</td>\n",
              "      <td>No</td>\n",
              "      <td>Yes</td>\n",
              "      <td>Yes</td>\n",
              "      <td>?</td>\n",
              "      <td>?</td>\n",
              "      <td>...</td>\n",
              "      <td>?</td>\n",
              "      <td>?</td>\n",
              "      <td>?</td>\n",
              "      <td>1</td>\n",
              "      <td>1.8</td>\n",
              "      <td>?</td>\n",
              "      <td>?</td>\n",
              "      <td>?</td>\n",
              "      <td>?</td>\n",
              "      <td>Lives</td>\n",
              "    </tr>\n",
              "    <tr>\n",
              "      <th>2</th>\n",
              "      <td>Male</td>\n",
              "      <td>No</td>\n",
              "      <td>Yes</td>\n",
              "      <td>Yes</td>\n",
              "      <td>No</td>\n",
              "      <td>Yes</td>\n",
              "      <td>No</td>\n",
              "      <td>Yes</td>\n",
              "      <td>No</td>\n",
              "      <td>Yes</td>\n",
              "      <td>...</td>\n",
              "      <td>109</td>\n",
              "      <td>7</td>\n",
              "      <td>2.1</td>\n",
              "      <td>5</td>\n",
              "      <td>13</td>\n",
              "      <td>0.1</td>\n",
              "      <td>28</td>\n",
              "      <td>6</td>\n",
              "      <td>16</td>\n",
              "      <td>Lives</td>\n",
              "    </tr>\n",
              "    <tr>\n",
              "      <th>3</th>\n",
              "      <td>Male</td>\n",
              "      <td>Yes</td>\n",
              "      <td>Yes</td>\n",
              "      <td>No</td>\n",
              "      <td>No</td>\n",
              "      <td>No</td>\n",
              "      <td>No</td>\n",
              "      <td>Yes</td>\n",
              "      <td>No</td>\n",
              "      <td>Yes</td>\n",
              "      <td>...</td>\n",
              "      <td>174</td>\n",
              "      <td>8.1</td>\n",
              "      <td>1.11</td>\n",
              "      <td>2</td>\n",
              "      <td>15.7</td>\n",
              "      <td>0.2</td>\n",
              "      <td>?</td>\n",
              "      <td>?</td>\n",
              "      <td>?</td>\n",
              "      <td>Dies</td>\n",
              "    </tr>\n",
              "    <tr>\n",
              "      <th>4</th>\n",
              "      <td>Male</td>\n",
              "      <td>Yes</td>\n",
              "      <td>Yes</td>\n",
              "      <td>Yes</td>\n",
              "      <td>No</td>\n",
              "      <td>Yes</td>\n",
              "      <td>No</td>\n",
              "      <td>Yes</td>\n",
              "      <td>No</td>\n",
              "      <td>Yes</td>\n",
              "      <td>...</td>\n",
              "      <td>109</td>\n",
              "      <td>6.9</td>\n",
              "      <td>1.8</td>\n",
              "      <td>1</td>\n",
              "      <td>9</td>\n",
              "      <td>?</td>\n",
              "      <td>59</td>\n",
              "      <td>15</td>\n",
              "      <td>22</td>\n",
              "      <td>Lives</td>\n",
              "    </tr>\n",
              "  </tbody>\n",
              "</table>\n",
              "<p>5 rows × 50 columns</p>\n",
              "</div>\n",
              "    <div class=\"colab-df-buttons\">\n",
              "\n",
              "  <div class=\"colab-df-container\">\n",
              "    <button class=\"colab-df-convert\" onclick=\"convertToInteractive('df-af1ef768-2233-4a52-bd55-f969d6e23bba')\"\n",
              "            title=\"Convert this dataframe to an interactive table.\"\n",
              "            style=\"display:none;\">\n",
              "\n",
              "  <svg xmlns=\"http://www.w3.org/2000/svg\" height=\"24px\" viewBox=\"0 -960 960 960\">\n",
              "    <path d=\"M120-120v-720h720v720H120Zm60-500h600v-160H180v160Zm220 220h160v-160H400v160Zm0 220h160v-160H400v160ZM180-400h160v-160H180v160Zm440 0h160v-160H620v160ZM180-180h160v-160H180v160Zm440 0h160v-160H620v160Z\"/>\n",
              "  </svg>\n",
              "    </button>\n",
              "\n",
              "  <style>\n",
              "    .colab-df-container {\n",
              "      display:flex;\n",
              "      gap: 12px;\n",
              "    }\n",
              "\n",
              "    .colab-df-convert {\n",
              "      background-color: #E8F0FE;\n",
              "      border: none;\n",
              "      border-radius: 50%;\n",
              "      cursor: pointer;\n",
              "      display: none;\n",
              "      fill: #1967D2;\n",
              "      height: 32px;\n",
              "      padding: 0 0 0 0;\n",
              "      width: 32px;\n",
              "    }\n",
              "\n",
              "    .colab-df-convert:hover {\n",
              "      background-color: #E2EBFA;\n",
              "      box-shadow: 0px 1px 2px rgba(60, 64, 67, 0.3), 0px 1px 3px 1px rgba(60, 64, 67, 0.15);\n",
              "      fill: #174EA6;\n",
              "    }\n",
              "\n",
              "    .colab-df-buttons div {\n",
              "      margin-bottom: 4px;\n",
              "    }\n",
              "\n",
              "    [theme=dark] .colab-df-convert {\n",
              "      background-color: #3B4455;\n",
              "      fill: #D2E3FC;\n",
              "    }\n",
              "\n",
              "    [theme=dark] .colab-df-convert:hover {\n",
              "      background-color: #434B5C;\n",
              "      box-shadow: 0px 1px 3px 1px rgba(0, 0, 0, 0.15);\n",
              "      filter: drop-shadow(0px 1px 2px rgba(0, 0, 0, 0.3));\n",
              "      fill: #FFFFFF;\n",
              "    }\n",
              "  </style>\n",
              "\n",
              "    <script>\n",
              "      const buttonEl =\n",
              "        document.querySelector('#df-af1ef768-2233-4a52-bd55-f969d6e23bba button.colab-df-convert');\n",
              "      buttonEl.style.display =\n",
              "        google.colab.kernel.accessAllowed ? 'block' : 'none';\n",
              "\n",
              "      async function convertToInteractive(key) {\n",
              "        const element = document.querySelector('#df-af1ef768-2233-4a52-bd55-f969d6e23bba');\n",
              "        const dataTable =\n",
              "          await google.colab.kernel.invokeFunction('convertToInteractive',\n",
              "                                                    [key], {});\n",
              "        if (!dataTable) return;\n",
              "\n",
              "        const docLinkHtml = 'Like what you see? Visit the ' +\n",
              "          '<a target=\"_blank\" href=https://colab.research.google.com/notebooks/data_table.ipynb>data table notebook</a>'\n",
              "          + ' to learn more about interactive tables.';\n",
              "        element.innerHTML = '';\n",
              "        dataTable['output_type'] = 'display_data';\n",
              "        await google.colab.output.renderOutput(dataTable, element);\n",
              "        const docLink = document.createElement('div');\n",
              "        docLink.innerHTML = docLinkHtml;\n",
              "        element.appendChild(docLink);\n",
              "      }\n",
              "    </script>\n",
              "  </div>\n",
              "\n",
              "\n",
              "<div id=\"df-ec016824-21ad-4040-b3a7-6194a298d733\">\n",
              "  <button class=\"colab-df-quickchart\" onclick=\"quickchart('df-ec016824-21ad-4040-b3a7-6194a298d733')\"\n",
              "            title=\"Suggest charts\"\n",
              "            style=\"display:none;\">\n",
              "\n",
              "<svg xmlns=\"http://www.w3.org/2000/svg\" height=\"24px\"viewBox=\"0 0 24 24\"\n",
              "     width=\"24px\">\n",
              "    <g>\n",
              "        <path d=\"M19 3H5c-1.1 0-2 .9-2 2v14c0 1.1.9 2 2 2h14c1.1 0 2-.9 2-2V5c0-1.1-.9-2-2-2zM9 17H7v-7h2v7zm4 0h-2V7h2v10zm4 0h-2v-4h2v4z\"/>\n",
              "    </g>\n",
              "</svg>\n",
              "  </button>\n",
              "\n",
              "<style>\n",
              "  .colab-df-quickchart {\n",
              "      --bg-color: #E8F0FE;\n",
              "      --fill-color: #1967D2;\n",
              "      --hover-bg-color: #E2EBFA;\n",
              "      --hover-fill-color: #174EA6;\n",
              "      --disabled-fill-color: #AAA;\n",
              "      --disabled-bg-color: #DDD;\n",
              "  }\n",
              "\n",
              "  [theme=dark] .colab-df-quickchart {\n",
              "      --bg-color: #3B4455;\n",
              "      --fill-color: #D2E3FC;\n",
              "      --hover-bg-color: #434B5C;\n",
              "      --hover-fill-color: #FFFFFF;\n",
              "      --disabled-bg-color: #3B4455;\n",
              "      --disabled-fill-color: #666;\n",
              "  }\n",
              "\n",
              "  .colab-df-quickchart {\n",
              "    background-color: var(--bg-color);\n",
              "    border: none;\n",
              "    border-radius: 50%;\n",
              "    cursor: pointer;\n",
              "    display: none;\n",
              "    fill: var(--fill-color);\n",
              "    height: 32px;\n",
              "    padding: 0;\n",
              "    width: 32px;\n",
              "  }\n",
              "\n",
              "  .colab-df-quickchart:hover {\n",
              "    background-color: var(--hover-bg-color);\n",
              "    box-shadow: 0 1px 2px rgba(60, 64, 67, 0.3), 0 1px 3px 1px rgba(60, 64, 67, 0.15);\n",
              "    fill: var(--button-hover-fill-color);\n",
              "  }\n",
              "\n",
              "  .colab-df-quickchart-complete:disabled,\n",
              "  .colab-df-quickchart-complete:disabled:hover {\n",
              "    background-color: var(--disabled-bg-color);\n",
              "    fill: var(--disabled-fill-color);\n",
              "    box-shadow: none;\n",
              "  }\n",
              "\n",
              "  .colab-df-spinner {\n",
              "    border: 2px solid var(--fill-color);\n",
              "    border-color: transparent;\n",
              "    border-bottom-color: var(--fill-color);\n",
              "    animation:\n",
              "      spin 1s steps(1) infinite;\n",
              "  }\n",
              "\n",
              "  @keyframes spin {\n",
              "    0% {\n",
              "      border-color: transparent;\n",
              "      border-bottom-color: var(--fill-color);\n",
              "      border-left-color: var(--fill-color);\n",
              "    }\n",
              "    20% {\n",
              "      border-color: transparent;\n",
              "      border-left-color: var(--fill-color);\n",
              "      border-top-color: var(--fill-color);\n",
              "    }\n",
              "    30% {\n",
              "      border-color: transparent;\n",
              "      border-left-color: var(--fill-color);\n",
              "      border-top-color: var(--fill-color);\n",
              "      border-right-color: var(--fill-color);\n",
              "    }\n",
              "    40% {\n",
              "      border-color: transparent;\n",
              "      border-right-color: var(--fill-color);\n",
              "      border-top-color: var(--fill-color);\n",
              "    }\n",
              "    60% {\n",
              "      border-color: transparent;\n",
              "      border-right-color: var(--fill-color);\n",
              "    }\n",
              "    80% {\n",
              "      border-color: transparent;\n",
              "      border-right-color: var(--fill-color);\n",
              "      border-bottom-color: var(--fill-color);\n",
              "    }\n",
              "    90% {\n",
              "      border-color: transparent;\n",
              "      border-bottom-color: var(--fill-color);\n",
              "    }\n",
              "  }\n",
              "</style>\n",
              "\n",
              "  <script>\n",
              "    async function quickchart(key) {\n",
              "      const quickchartButtonEl =\n",
              "        document.querySelector('#' + key + ' button');\n",
              "      quickchartButtonEl.disabled = true;  // To prevent multiple clicks.\n",
              "      quickchartButtonEl.classList.add('colab-df-spinner');\n",
              "      try {\n",
              "        const charts = await google.colab.kernel.invokeFunction(\n",
              "            'suggestCharts', [key], {});\n",
              "      } catch (error) {\n",
              "        console.error('Error during call to suggestCharts:', error);\n",
              "      }\n",
              "      quickchartButtonEl.classList.remove('colab-df-spinner');\n",
              "      quickchartButtonEl.classList.add('colab-df-quickchart-complete');\n",
              "    }\n",
              "    (() => {\n",
              "      let quickchartButtonEl =\n",
              "        document.querySelector('#df-ec016824-21ad-4040-b3a7-6194a298d733 button');\n",
              "      quickchartButtonEl.style.display =\n",
              "        google.colab.kernel.accessAllowed ? 'block' : 'none';\n",
              "    })();\n",
              "  </script>\n",
              "</div>\n",
              "    </div>\n",
              "  </div>\n"
            ],
            "application/vnd.google.colaboratory.intrinsic+json": {
              "type": "dataframe",
              "variable_name": "df"
            }
          },
          "metadata": {},
          "execution_count": 3324
        }
      ]
    },
    {
      "cell_type": "markdown",
      "source": [
        "Aqui, é-nos apresentada uma simplificação da estrutura geral do ficheiro, encontrando-se presentes os diferentes tipos de dados identificados na formulação do problema.\n",
        "\n",
        "Ressalta-se a existência de células com informação desconhecida, ou seja, preenchidas por \"?\". Estas terão que ser sujeitas a diversos processos de modo a não interferir com a leitura dos dados.\n",
        "\n",
        "Por exemplo, uma sugestão a seguir é a substituição de incógnitas nas categorias numéricas pela média das mesmas."
      ],
      "metadata": {
        "id": "xR9kc-5MfyGH"
      }
    },
    {
      "cell_type": "code",
      "source": [
        "for category in df:\n",
        "  print(df[category].value_counts())"
      ],
      "metadata": {
        "id": "BdS5-jpxg8ve",
        "colab": {
          "base_uri": "https://localhost:8080/"
        },
        "outputId": "9db5a34f-075a-457e-8359-fae5cf3ce043"
      },
      "execution_count": null,
      "outputs": [
        {
          "output_type": "stream",
          "name": "stdout",
          "text": [
            "Gender\n",
            "Male      133\n",
            "Female     32\n",
            "Name: count, dtype: int64\n",
            "Symptoms\n",
            "Yes    94\n",
            "No     53\n",
            "?      18\n",
            "Name: count, dtype: int64\n",
            "Alcohol\n",
            "Yes    122\n",
            "No      43\n",
            "Name: count, dtype: int64\n",
            "HBsAg\n",
            "No     132\n",
            "?       17\n",
            "Yes     16\n",
            "Name: count, dtype: int64\n",
            "HBeAg\n",
            "No     125\n",
            "?       39\n",
            "Yes      1\n",
            "Name: count, dtype: int64\n",
            "HBcAb\n",
            "No     103\n",
            "Yes     38\n",
            "?       24\n",
            "Name: count, dtype: int64\n",
            "HCVAb\n",
            "No     122\n",
            "Yes     34\n",
            "?        9\n",
            "Name: count, dtype: int64\n",
            "Cirrhosis\n",
            "Yes    149\n",
            "No      16\n",
            "Name: count, dtype: int64\n",
            "Endemic\n",
            "No     116\n",
            "?       39\n",
            "Yes     10\n",
            "Name: count, dtype: int64\n",
            "Smoking\n",
            "Yes    63\n",
            "No     61\n",
            "?      41\n",
            "Name: count, dtype: int64\n",
            "Diabetes\n",
            "No     106\n",
            "Yes     56\n",
            "?        3\n",
            "Name: count, dtype: int64\n",
            "Obesity\n",
            "No     135\n",
            "Yes     20\n",
            "?       10\n",
            "Name: count, dtype: int64\n",
            "Hemochro\n",
            "No     135\n",
            "?       23\n",
            "Yes      7\n",
            "Name: count, dtype: int64\n",
            "AHT\n",
            "No     103\n",
            "Yes     59\n",
            "?        3\n",
            "Name: count, dtype: int64\n",
            "CRI\n",
            "No     143\n",
            "Yes     20\n",
            "?        2\n",
            "Name: count, dtype: int64\n",
            "HIV\n",
            "No     148\n",
            "?       14\n",
            "Yes      3\n",
            "Name: count, dtype: int64\n",
            "NASH\n",
            "No     135\n",
            "?       22\n",
            "Yes      8\n",
            "Name: count, dtype: int64\n",
            "Varices\n",
            "Yes    69\n",
            "?      52\n",
            "No     44\n",
            "Name: count, dtype: int64\n",
            "Spleno\n",
            "Yes    84\n",
            "No     66\n",
            "?      15\n",
            "Name: count, dtype: int64\n",
            "PHT\n",
            "Yes    110\n",
            "No      44\n",
            "?       11\n",
            "Name: count, dtype: int64\n",
            "PVT\n",
            "No     126\n",
            "Yes     36\n",
            "?        3\n",
            "Name: count, dtype: int64\n",
            "Metastasis\n",
            "No     125\n",
            "Yes     36\n",
            "?        4\n",
            "Name: count, dtype: int64\n",
            "Hallmark\n",
            "Yes    111\n",
            "No      52\n",
            "?        2\n",
            "Name: count, dtype: int64\n",
            "Age\n",
            "71    8\n",
            "67    7\n",
            "73    7\n",
            "64    7\n",
            "62    7\n",
            "74    6\n",
            "76    6\n",
            "72    6\n",
            "63    6\n",
            "52    5\n",
            "56    5\n",
            "66    5\n",
            "61    5\n",
            "78    5\n",
            "60    4\n",
            "75    4\n",
            "79    4\n",
            "51    4\n",
            "82    3\n",
            "68    3\n",
            "55    3\n",
            "69    3\n",
            "65    3\n",
            "58    3\n",
            "59    3\n",
            "80    3\n",
            "57    3\n",
            "77    3\n",
            "50    3\n",
            "41    2\n",
            "36    2\n",
            "49    2\n",
            "40    2\n",
            "43    2\n",
            "87    2\n",
            "84    2\n",
            "81    2\n",
            "45    2\n",
            "46    1\n",
            "93    1\n",
            "85    1\n",
            "25    1\n",
            "47    1\n",
            "70    1\n",
            "83    1\n",
            "23    1\n",
            "88    1\n",
            "27    1\n",
            "86    1\n",
            "20    1\n",
            "44    1\n",
            "Name: count, dtype: int64\n",
            "Grams_day\n",
            "?      48\n",
            "0      43\n",
            "100    32\n",
            "200     7\n",
            "75      7\n",
            "80      5\n",
            "70      4\n",
            "50      4\n",
            "180     2\n",
            "60      2\n",
            "120     2\n",
            "137     1\n",
            "96      1\n",
            "90      1\n",
            "300     1\n",
            "150     1\n",
            "20      1\n",
            "500     1\n",
            "40      1\n",
            "250     1\n",
            "Name: count, dtype: int64\n",
            "Packs_year\n",
            "0       61\n",
            "?       53\n",
            "30       7\n",
            "60       5\n",
            "50       5\n",
            "40       4\n",
            "15       3\n",
            "20       2\n",
            "10       2\n",
            "48       2\n",
            "32       1\n",
            "1        1\n",
            "18       1\n",
            "37       1\n",
            "12       1\n",
            "510      1\n",
            "52.5     1\n",
            "23       1\n",
            "43       1\n",
            "7.5      1\n",
            "34.5     1\n",
            "33       1\n",
            "78       1\n",
            "44       1\n",
            "80       1\n",
            "8        1\n",
            "2        1\n",
            "67.5     1\n",
            "16       1\n",
            "47       1\n",
            "25       1\n",
            "Name: count, dtype: int64\n",
            "PS\n",
            "Active        80\n",
            "Ambulatory    32\n",
            "Restricted    30\n",
            "Selfcare      18\n",
            "Disabled       5\n",
            "Name: count, dtype: int64\n",
            "Encephalopathy\n",
            "Grade I/II      18\n",
            "Grade III/IV     4\n",
            "?                1\n",
            "Name: count, dtype: int64\n",
            "Ascites\n",
            "Mild               36\n",
            "Moderate/Severe    18\n",
            "?                   2\n",
            "Name: count, dtype: int64\n",
            "INR\n",
            "1.2     7\n",
            "1.17    5\n",
            "1.24    5\n",
            "1.33    5\n",
            "?       4\n",
            "       ..\n",
            "1.57    1\n",
            "2.07    1\n",
            "1.15    1\n",
            "1.92    1\n",
            "1.79    1\n",
            "Name: count, Length: 88, dtype: int64\n",
            "AFP\n",
            "?        8\n",
            "5.2      3\n",
            "2.6      3\n",
            "20       3\n",
            "3.1      3\n",
            "        ..\n",
            "19       1\n",
            "479      1\n",
            "5.4      1\n",
            "633      1\n",
            "44340    1\n",
            "Name: count, Length: 133, dtype: int64\n",
            "Hemoglobin\n",
            "12.6    8\n",
            "14.9    7\n",
            "13.3    5\n",
            "14.3    5\n",
            "13.1    5\n",
            "       ..\n",
            "15.5    1\n",
            "10.7    1\n",
            "15.9    1\n",
            "11.9    1\n",
            "7.9     1\n",
            "Name: count, Length: 72, dtype: int64\n",
            "MCV\n",
            "95.1    5\n",
            "89.5    4\n",
            "93.8    3\n",
            "96.1    3\n",
            "92      3\n",
            "       ..\n",
            "80.2    1\n",
            "91.4    1\n",
            "78.7    1\n",
            "96.2    1\n",
            "95.8    1\n",
            "Name: count, Length: 129, dtype: int64\n",
            "Leucocytes\n",
            "4.9     6\n",
            "5.5     5\n",
            "4.3     4\n",
            "5.4     4\n",
            "6.1     4\n",
            "       ..\n",
            "5700    1\n",
            "2.42    1\n",
            "3500    1\n",
            "3.7     1\n",
            "14.4    1\n",
            "Name: count, Length: 106, dtype: int64\n",
            "Platelets\n",
            "77000     5\n",
            "99        3\n",
            "91000     3\n",
            "96000     3\n",
            "109000    3\n",
            "         ..\n",
            "78        1\n",
            "277000    1\n",
            "167000    1\n",
            "88        1\n",
            "412000    1\n",
            "Name: count, Length: 132, dtype: int64\n",
            " Albumin\n",
            "3.2     12\n",
            "3.1     12\n",
            "4.2     12\n",
            "3.5      9\n",
            "4.1      9\n",
            "3.4      8\n",
            "3.8      8\n",
            "3.6      7\n",
            "2.7      7\n",
            "2.4      6\n",
            "?        6\n",
            "3        6\n",
            "4        5\n",
            "3.3      5\n",
            "4.5      4\n",
            "4.3      4\n",
            "4.4      4\n",
            "3.7      4\n",
            "2.9      4\n",
            "2.6      4\n",
            "2.2      3\n",
            "4.7      2\n",
            "2.1      2\n",
            "4.6      2\n",
            "2.3      2\n",
            "1.9      2\n",
            "3.9      1\n",
            "3.28     1\n",
            "2.43     1\n",
            "3.44     1\n",
            "2.82     1\n",
            "3.88     1\n",
            "3.89     1\n",
            "3.68     1\n",
            "2.35     1\n",
            "3.11     1\n",
            "2.47     1\n",
            "3.15     1\n",
            "4.9      1\n",
            "4.54     1\n",
            "2.8      1\n",
            "4.8      1\n",
            "Name: count, dtype: int64\n",
            "Total_Bil\n",
            "1       11\n",
            "0.5     11\n",
            "1.3     10\n",
            "0.8      9\n",
            "0.7      7\n",
            "        ..\n",
            "8.2      1\n",
            "4.2      1\n",
            "3.9      1\n",
            "9.6      1\n",
            "28.5     1\n",
            "Name: count, Length: 63, dtype: int64\n",
            "ALT\n",
            "31     7\n",
            "35     6\n",
            "28     5\n",
            "43     5\n",
            "26     5\n",
            "      ..\n",
            "121    1\n",
            "33     1\n",
            "21     1\n",
            "145    1\n",
            "78     1\n",
            "Name: count, Length: 94, dtype: int64\n",
            "AST\n",
            "85     6\n",
            "38     4\n",
            "52     4\n",
            "63     4\n",
            "29     4\n",
            "      ..\n",
            "84     1\n",
            "42     1\n",
            "82     1\n",
            "96     1\n",
            "127    1\n",
            "Name: count, Length: 108, dtype: int64\n",
            "GGT\n",
            "196    3\n",
            "80     3\n",
            "23     3\n",
            "115    3\n",
            "82     3\n",
            "      ..\n",
            "236    1\n",
            "795    1\n",
            "62     1\n",
            "239    1\n",
            "444    1\n",
            "Name: count, Length: 140, dtype: int64\n",
            "ALP\n",
            "109    5\n",
            "97     4\n",
            "174    3\n",
            "113    3\n",
            "141    3\n",
            "      ..\n",
            "130    1\n",
            "62     1\n",
            "350    1\n",
            "539    1\n",
            "462    1\n",
            "Name: count, Length: 125, dtype: int64\n",
            "TP\n",
            "7.3     12\n",
            "?       11\n",
            "7        9\n",
            "7.1      8\n",
            "6.3      8\n",
            "7.2      8\n",
            "6.7      7\n",
            "7.6      7\n",
            "6.8      6\n",
            "7.5      6\n",
            "7.7      5\n",
            "6.5      5\n",
            "6.9      5\n",
            "5.4      5\n",
            "7.4      4\n",
            "6.1      4\n",
            "5.6      4\n",
            "6.2      4\n",
            "6.4      3\n",
            "8.4      3\n",
            "5        3\n",
            "5.9      3\n",
            "7.8      3\n",
            "8.1      3\n",
            "8        2\n",
            "6.6      2\n",
            "5.5      2\n",
            "7.9      2\n",
            "8.5      2\n",
            "8.2      2\n",
            "8.3      1\n",
            "8.8      1\n",
            "102      1\n",
            "4.3      1\n",
            "8.6      1\n",
            "5.2      1\n",
            "78       1\n",
            "5.7      1\n",
            "3.9      1\n",
            "16.8     1\n",
            "9.7      1\n",
            "69       1\n",
            "4.9      1\n",
            "58       1\n",
            "5.8      1\n",
            "37       1\n",
            "4.8      1\n",
            "Name: count, dtype: int64\n",
            "Creatinine\n",
            "0.7     11\n",
            "0.9     10\n",
            "0.8      8\n",
            "?        7\n",
            "0.77     6\n",
            "        ..\n",
            "0.62     1\n",
            "0.4      1\n",
            "0.2      1\n",
            "0.81     1\n",
            "3.95     1\n",
            "Name: count, Length: 85, dtype: int64\n",
            "Nodules\n",
            "1    67\n",
            "5    58\n",
            "2    24\n",
            "3    11\n",
            "4     2\n",
            "?     2\n",
            "0     1\n",
            "Name: count, dtype: int64\n",
            "Major_Dim\n",
            "?       20\n",
            "2        9\n",
            "3.5      7\n",
            "3        7\n",
            "9        6\n",
            "        ..\n",
            "15.4     1\n",
            "4.6      1\n",
            "7.8      1\n",
            "6.2      1\n",
            "18       1\n",
            "Name: count, Length: 69, dtype: int64\n",
            "Dir_Bil\n",
            "?       44\n",
            "0.3     19\n",
            "0.5     10\n",
            "0.7     10\n",
            "0.2      8\n",
            "1        7\n",
            "0.4      6\n",
            "1.1      5\n",
            "0.6      5\n",
            "1.3      4\n",
            "0.8      4\n",
            "1.9      3\n",
            "1.4      3\n",
            "1.2      3\n",
            "1.6      2\n",
            "5.5      2\n",
            "0.9      2\n",
            "3.8      2\n",
            "2.9      2\n",
            "1.5      2\n",
            "1.7      1\n",
            "2.8      1\n",
            "9.7      1\n",
            "0.12     1\n",
            "22.1     1\n",
            "0.33     1\n",
            "1.8      1\n",
            "2.3      1\n",
            "29.3     1\n",
            "19.5     1\n",
            "3.3      1\n",
            "9.6      1\n",
            "4.6      1\n",
            "2.2      1\n",
            "0.85     1\n",
            "4.1      1\n",
            "0.37     1\n",
            "0.77     1\n",
            "4.5      1\n",
            "2.19     1\n",
            "0.1      1\n",
            "19.8     1\n",
            "Name: count, dtype: int64\n",
            "Iron\n",
            "?      79\n",
            "94      4\n",
            "184     3\n",
            "93      3\n",
            "87      2\n",
            "       ..\n",
            "56      1\n",
            "32      1\n",
            "44      1\n",
            "0       1\n",
            "111     1\n",
            "Name: count, Length: 69, dtype: int64\n",
            "Sat\n",
            "?        80\n",
            "25        4\n",
            "37        4\n",
            "27        4\n",
            "17        3\n",
            "18        3\n",
            "56        3\n",
            "31        2\n",
            "8         2\n",
            "3         2\n",
            "33        2\n",
            "6         2\n",
            "10        2\n",
            "21        2\n",
            "7         2\n",
            "15        2\n",
            "73        2\n",
            "95        2\n",
            "24        2\n",
            "34        2\n",
            "12        1\n",
            "11        1\n",
            "99        1\n",
            "35        1\n",
            "94        1\n",
            "4         1\n",
            "51        1\n",
            "65        1\n",
            "39        1\n",
            "30        1\n",
            "54        1\n",
            "78        1\n",
            "96        1\n",
            "67        1\n",
            "1.52      1\n",
            "5         1\n",
            "47        1\n",
            "69        1\n",
            "0         1\n",
            "87        1\n",
            "26        1\n",
            "22        1\n",
            "126       1\n",
            "41        1\n",
            "84        1\n",
            "13        1\n",
            "58        1\n",
            "49        1\n",
            "89        1\n",
            "29.5      1\n",
            "50.18     1\n",
            "9         1\n",
            "59        1\n",
            "2.26      1\n",
            "20        1\n",
            "16        1\n",
            "90        1\n",
            "70        1\n",
            "Name: count, dtype: int64\n",
            "Ferritin\n",
            "?       80\n",
            "48       2\n",
            "48.9     1\n",
            "81       1\n",
            "489      1\n",
            "        ..\n",
            "802      1\n",
            "888      1\n",
            "279      1\n",
            "120      1\n",
            "283      1\n",
            "Name: count, Length: 85, dtype: int64\n",
            "Class\n",
            "Lives    102\n",
            "Dies      63\n",
            "Name: count, dtype: int64\n"
          ]
        }
      ]
    },
    {
      "cell_type": "markdown",
      "source": [
        "A presença de \"?\" no ficheiro é bastante visível se realizarmos um \"value_counts\" a todos os critérios de classificação.\n",
        "\n"
      ],
      "metadata": {
        "id": "ZwtLE2xuhb_D"
      }
    },
    {
      "cell_type": "markdown",
      "source": [
        "### Identificação de dados \"?\""
      ],
      "metadata": {
        "id": "-SCZAiIK4s3s"
      }
    },
    {
      "cell_type": "code",
      "source": [
        "unknown_cat = {}\n",
        "for category in df.columns:\n",
        "    count_question_marks = (df[category] == '?').sum()\n",
        "    unknown_cat[category] = count_question_marks\n",
        "    print(f\"{category}: {count_question_marks}\")"
      ],
      "metadata": {
        "id": "h5XUmEtM3kfC",
        "colab": {
          "base_uri": "https://localhost:8080/"
        },
        "outputId": "b595e025-cff1-4a64-caaf-758b5e13b6a4"
      },
      "execution_count": null,
      "outputs": [
        {
          "output_type": "stream",
          "name": "stdout",
          "text": [
            "Gender: 0\n",
            "Symptoms: 18\n",
            "Alcohol: 0\n",
            "HBsAg: 17\n",
            "HBeAg: 39\n",
            "HBcAb: 24\n",
            "HCVAb: 9\n",
            "Cirrhosis: 0\n",
            "Endemic: 39\n",
            "Smoking: 41\n",
            "Diabetes: 3\n",
            "Obesity: 10\n",
            "Hemochro: 23\n",
            "AHT: 3\n",
            "CRI: 2\n",
            "HIV: 14\n",
            "NASH: 22\n",
            "Varices: 52\n",
            "Spleno: 15\n",
            "PHT: 11\n",
            "PVT: 3\n",
            "Metastasis: 4\n",
            "Hallmark: 2\n",
            "Age: 0\n",
            "Grams_day: 48\n",
            "Packs_year: 53\n",
            "PS: 0\n",
            "Encephalopathy: 1\n",
            "Ascites: 2\n",
            "INR: 4\n",
            "AFP: 8\n",
            "Hemoglobin: 3\n",
            "MCV: 3\n",
            "Leucocytes: 3\n",
            "Platelets: 3\n",
            " Albumin: 6\n",
            "Total_Bil: 5\n",
            "ALT: 4\n",
            "AST: 3\n",
            "GGT: 3\n",
            "ALP: 3\n",
            "TP: 11\n",
            "Creatinine: 7\n",
            "Nodules: 2\n",
            "Major_Dim: 20\n",
            "Dir_Bil: 44\n",
            "Iron: 79\n",
            "Sat: 80\n",
            "Ferritin: 80\n",
            "Class: 0\n"
          ]
        }
      ]
    },
    {
      "cell_type": "code",
      "source": [
        "# dicionário ordenado por ordem crescente\n",
        "sorted_dict = {k: v for k, v in sorted(unknown_cat.items(), key=lambda item: item[1])}\n",
        "\n",
        "print(sorted_dict)"
      ],
      "metadata": {
        "colab": {
          "base_uri": "https://localhost:8080/"
        },
        "id": "WzLm13Wmpdee",
        "outputId": "33b525d9-7c43-496c-fa85-e57b88e283c4"
      },
      "execution_count": null,
      "outputs": [
        {
          "output_type": "stream",
          "name": "stdout",
          "text": [
            "{'Gender': 0, 'Alcohol': 0, 'Cirrhosis': 0, 'Age': 0, 'PS': 0, 'Class': 0, 'Encephalopathy': 1, 'CRI': 2, 'Hallmark': 2, 'Ascites': 2, 'Nodules': 2, 'Diabetes': 3, 'AHT': 3, 'PVT': 3, 'Hemoglobin': 3, 'MCV': 3, 'Leucocytes': 3, 'Platelets': 3, 'AST': 3, 'GGT': 3, 'ALP': 3, 'Metastasis': 4, 'INR': 4, 'ALT': 4, 'Total_Bil': 5, ' Albumin': 6, 'Creatinine': 7, 'AFP': 8, 'HCVAb': 9, 'Obesity': 10, 'PHT': 11, 'TP': 11, 'HIV': 14, 'Spleno': 15, 'HBsAg': 17, 'Symptoms': 18, 'Major_Dim': 20, 'NASH': 22, 'Hemochro': 23, 'HBcAb': 24, 'HBeAg': 39, 'Endemic': 39, 'Smoking': 41, 'Dir_Bil': 44, 'Grams_day': 48, 'Varices': 52, 'Packs_year': 53, 'Iron': 79, 'Sat': 80, 'Ferritin': 80}\n"
          ]
        }
      ]
    },
    {
      "cell_type": "code",
      "source": [
        "# dicionário ordenado por ordem decrescente\n",
        "reversed_dict_items = reversed(sorted_dict.items())\n",
        "reversed_dict = {}\n",
        "for key, value in reversed_dict_items:\n",
        "    reversed_dict[key] = value\n",
        "print(reversed_dict)"
      ],
      "metadata": {
        "colab": {
          "base_uri": "https://localhost:8080/"
        },
        "id": "sLEQjZBdsrRC",
        "outputId": "09adf0cb-40d1-4e32-c416-854f4654fec8"
      },
      "execution_count": null,
      "outputs": [
        {
          "output_type": "stream",
          "name": "stdout",
          "text": [
            "{'Ferritin': 80, 'Sat': 80, 'Iron': 79, 'Packs_year': 53, 'Varices': 52, 'Grams_day': 48, 'Dir_Bil': 44, 'Smoking': 41, 'Endemic': 39, 'HBeAg': 39, 'HBcAb': 24, 'Hemochro': 23, 'NASH': 22, 'Major_Dim': 20, 'Symptoms': 18, 'HBsAg': 17, 'Spleno': 15, 'HIV': 14, 'TP': 11, 'PHT': 11, 'Obesity': 10, 'HCVAb': 9, 'AFP': 8, 'Creatinine': 7, ' Albumin': 6, 'Total_Bil': 5, 'ALT': 4, 'INR': 4, 'Metastasis': 4, 'ALP': 3, 'GGT': 3, 'AST': 3, 'Platelets': 3, 'Leucocytes': 3, 'MCV': 3, 'Hemoglobin': 3, 'PVT': 3, 'AHT': 3, 'Diabetes': 3, 'Nodules': 2, 'Ascites': 2, 'Hallmark': 2, 'CRI': 2, 'Encephalopathy': 1, 'Class': 0, 'PS': 0, 'Age': 0, 'Cirrhosis': 0, 'Alcohol': 0, 'Gender': 0}\n"
          ]
        }
      ]
    },
    {
      "cell_type": "markdown",
      "source": [
        "Organizando os dados deste modo, torna-se mais fácil a visualização das colunas com uma grande quantidade de \"?\"."
      ],
      "metadata": {
        "id": "Np-Bp-jj3sip"
      }
    },
    {
      "cell_type": "code",
      "source": [
        "mean_unknown_cat = 0\n",
        "for value in unknown_cat.values():\n",
        "  mean_unknown_cat += value\n",
        "print(mean_unknown_cat / 50)"
      ],
      "metadata": {
        "colab": {
          "base_uri": "https://localhost:8080/"
        },
        "id": "0kmwuoIKp_Dr",
        "outputId": "bc48a0b3-669e-4fba-cb1b-cc72e7ec87bc"
      },
      "execution_count": null,
      "outputs": [
        {
          "output_type": "stream",
          "name": "stdout",
          "text": [
            "16.52\n"
          ]
        }
      ]
    },
    {
      "cell_type": "markdown",
      "source": [
        "Média de valores \"?\" por critério de classificação."
      ],
      "metadata": {
        "id": "hTF3UxGLscnZ"
      }
    },
    {
      "cell_type": "code",
      "source": [
        "values_moda = {}\n",
        "for value in unknown_cat.values():\n",
        "  if value not in values_moda:\n",
        "    values_moda[value] = 1\n",
        "  else:\n",
        "    values_moda[value] += 1\n",
        "print(sorted(values_moda.items(), key=lambda x:x[1]))"
      ],
      "metadata": {
        "id": "N6Eu2Lh8q7h3",
        "colab": {
          "base_uri": "https://localhost:8080/"
        },
        "outputId": "42730ad2-0de6-461a-83a0-edba3dc71ec2"
      },
      "execution_count": null,
      "outputs": [
        {
          "output_type": "stream",
          "name": "stdout",
          "text": [
            "[(18, 1), (17, 1), (24, 1), (9, 1), (41, 1), (10, 1), (23, 1), (14, 1), (22, 1), (52, 1), (15, 1), (48, 1), (53, 1), (1, 1), (8, 1), (6, 1), (5, 1), (7, 1), (20, 1), (44, 1), (79, 1), (39, 2), (11, 2), (80, 2), (4, 3), (2, 4), (0, 6), (3, 10)]\n"
          ]
        }
      ]
    },
    {
      "cell_type": "markdown",
      "source": [
        "Moda de valores \"?\" por critério de classificação.\n",
        "\n"
      ],
      "metadata": {
        "id": "28lL3-lFsgOI"
      }
    },
    {
      "cell_type": "markdown",
      "source": [
        "### Identificação de dados nulos"
      ],
      "metadata": {
        "id": "hmcDoMD47_so"
      }
    },
    {
      "cell_type": "code",
      "source": [
        "df.isnull().sum()"
      ],
      "metadata": {
        "id": "RlypSwcM7zRd",
        "colab": {
          "base_uri": "https://localhost:8080/"
        },
        "outputId": "e6680c82-b7f3-4d3b-b290-843b6cb7df27"
      },
      "execution_count": null,
      "outputs": [
        {
          "output_type": "execute_result",
          "data": {
            "text/plain": [
              "Gender              0\n",
              "Symptoms            0\n",
              "Alcohol             0\n",
              "HBsAg               0\n",
              "HBeAg               0\n",
              "HBcAb               0\n",
              "HCVAb               0\n",
              "Cirrhosis           0\n",
              "Endemic             0\n",
              "Smoking             0\n",
              "Diabetes            0\n",
              "Obesity             0\n",
              "Hemochro            0\n",
              "AHT                 0\n",
              "CRI                 0\n",
              "HIV                 0\n",
              "NASH                0\n",
              "Varices             0\n",
              "Spleno              0\n",
              "PHT                 0\n",
              "PVT                 0\n",
              "Metastasis          0\n",
              "Hallmark            0\n",
              "Age                 0\n",
              "Grams_day           0\n",
              "Packs_year          0\n",
              "PS                  0\n",
              "Encephalopathy    142\n",
              "Ascites           109\n",
              "INR                 0\n",
              "AFP                 0\n",
              "Hemoglobin          0\n",
              "MCV                 0\n",
              "Leucocytes          0\n",
              "Platelets           0\n",
              " Albumin            0\n",
              "Total_Bil           0\n",
              "ALT                 0\n",
              "AST                 0\n",
              "GGT                 0\n",
              "ALP                 0\n",
              "TP                  0\n",
              "Creatinine          0\n",
              "Nodules             0\n",
              "Major_Dim           0\n",
              "Dir_Bil             0\n",
              "Iron                0\n",
              "Sat                 0\n",
              "Ferritin            0\n",
              "Class               0\n",
              "dtype: int64"
            ]
          },
          "metadata": {},
          "execution_count": 3331
        }
      ]
    },
    {
      "cell_type": "markdown",
      "source": [
        "Para além dos \"?\", existem outras formas de valores nulos aparecerem. Vamos ver em que contexto ocorrem."
      ],
      "metadata": {
        "id": "cqFFMmf08Npc"
      }
    },
    {
      "cell_type": "code",
      "source": [
        "df[\"Encephalopathy\"].value_counts()"
      ],
      "metadata": {
        "id": "1PauPqN28wrb",
        "colab": {
          "base_uri": "https://localhost:8080/"
        },
        "outputId": "65357dd2-4609-4193-a0a3-27e984dac995"
      },
      "execution_count": null,
      "outputs": [
        {
          "output_type": "execute_result",
          "data": {
            "text/plain": [
              "Encephalopathy\n",
              "Grade I/II      18\n",
              "Grade III/IV     4\n",
              "?                1\n",
              "Name: count, dtype: int64"
            ]
          },
          "metadata": {},
          "execution_count": 3332
        }
      ]
    },
    {
      "cell_type": "code",
      "source": [
        "df[\"Ascites\"].value_counts()"
      ],
      "metadata": {
        "id": "lAc3VrqT9CL7",
        "colab": {
          "base_uri": "https://localhost:8080/"
        },
        "outputId": "98268095-39d5-4929-fd57-283ee224c049"
      },
      "execution_count": null,
      "outputs": [
        {
          "output_type": "execute_result",
          "data": {
            "text/plain": [
              "Ascites\n",
              "Mild               36\n",
              "Moderate/Severe    18\n",
              "?                   2\n",
              "Name: count, dtype: int64"
            ]
          },
          "metadata": {},
          "execution_count": 3333
        }
      ]
    },
    {
      "cell_type": "markdown",
      "source": [
        "Como é possível verificar, os valores nulos são completamente ocultados do \"value_counts\". Caso este análise não tivesse sido realizada, estas lacunas passariam despercebidas.\n",
        "\n",
        "Neste contexto, os dados nulos não representam a ausência de informação, mas indicam que o paciente não possui a doença em questão. Por este motivo, estas colunas não serão eliminadas no pré-processamento.\n",
        "\n"
      ],
      "metadata": {
        "id": "POVibYrz9IeQ"
      }
    },
    {
      "cell_type": "markdown",
      "source": [
        "### Gráficos\n",
        "\n",
        "Seguem-se alguns gráficos para representar melhor a informação disponibilizada pelo dataset antes de ser realizado o pré-processamento dos dados."
      ],
      "metadata": {
        "id": "CtMsN_oF-eu3"
      }
    },
    {
      "cell_type": "code",
      "source": [
        "yes_no_counts = df[\"Gender\"].value_counts()\n",
        "total_count = yes_no_counts.sum()\n",
        "\n",
        "# Calculate percentages\n",
        "percentages = (yes_no_counts / total_count) * 100\n",
        "\n",
        "plt.figure(figsize=(6, 4))\n",
        "percentages.plot(kind=\"bar\", color=[\"pink\", \"deepskyblue\"])\n",
        "plt.title(\"\\n Gender \\n\", fontsize=18, fontweight='bold')\n",
        "plt.ylabel(\"Percentage\")\n",
        "plt.xlabel(\"\")\n",
        "plt.xticks(rotation=0)\n",
        "plt.ylim(0, 100)\n",
        "\n",
        "# Display the percentage value on top of each bar\n",
        "for index, value in enumerate(percentages):\n",
        "    plt.text(index, value + 1, f'{value:.2f}%', ha='center', va='bottom')\n",
        "\n",
        "plt.show()"
      ],
      "metadata": {
        "colab": {
          "base_uri": "https://localhost:8080/",
          "height": 451
        },
        "id": "vCeKa9pZoqdt",
        "outputId": "0a18964a-7ab4-481d-e389-e13342291253"
      },
      "execution_count": null,
      "outputs": [
        {
          "output_type": "display_data",
          "data": {
            "text/plain": [
              "<Figure size 600x400 with 1 Axes>"
            ],
            "image/png": "[encoded data removed]"
          },
          "metadata": {}
        }
      ]
    },
    {
      "cell_type": "markdown",
      "source": [
        "Existe uma clara predominância de indivíduos do género masculino em relacão ao feminino."
      ],
      "metadata": {
        "id": "eDiq1WHMi35p"
      }
    },
    {
      "cell_type": "code",
      "source": [
        "yes_no_counts = df[\"Symptoms\"].value_counts()\n",
        "total_count = yes_no_counts.sum()\n",
        "\n",
        "# Calculate percentages\n",
        "percentages = (yes_no_counts / total_count) * 100\n",
        "\n",
        "plt.figure(figsize=(6, 4))\n",
        "percentages.plot(kind=\"bar\", color=[\"pink\", \"deepskyblue\", \"lightgreen\"])\n",
        "plt.title(\"\\n Symptoms \\n\", fontsize=18, fontweight='bold')\n",
        "plt.ylabel(\"Percentage\")\n",
        "plt.xlabel(\"\")\n",
        "plt.xticks(rotation=0)\n",
        "plt.ylim(0, 100)\n",
        "\n",
        "# Display the percentage value on top of each bar\n",
        "for index, value in enumerate(percentages):\n",
        "    plt.text(index, value + 1, f'{value:.2f}%', ha='center', va='bottom')\n",
        "\n",
        "plt.show()"
      ],
      "metadata": {
        "colab": {
          "base_uri": "https://localhost:8080/",
          "height": 451
        },
        "id": "8S7Lid9mrqnT",
        "outputId": "6b15cca6-e428-469b-8f9d-5f9d7228cb6f"
      },
      "execution_count": null,
      "outputs": [
        {
          "output_type": "display_data",
          "data": {
            "text/plain": [
              "<Figure size 600x400 with 1 Axes>"
            ],
            "image/png": "[encoded data removed]"
          },
          "metadata": {}
        }
      ]
    },
    {
      "cell_type": "markdown",
      "source": [
        "Apesar de quase 60% dos indivíduos manifestarem sintomas de carcinoma hepatocelular, cerca de 30% são assintomáticos. Tendo em conta que se trata de cancro, é essencial criar mecanismos de diagnósticos eficazes para previnir possíveis mortes que poderiam passar despercebidas."
      ],
      "metadata": {
        "id": "m4vYHyygjBwZ"
      }
    },
    {
      "cell_type": "code",
      "source": [
        "# Convert 'Symptoms' and 'Class' to categorical if they are not already\n",
        "df['Symptoms'] = df['Symptoms'].astype('category')\n",
        "df['Class'] = df['Class'].astype('category')\n",
        "\n",
        "# Create a count plot\n",
        "plt.figure(figsize=(10, 6))\n",
        "sns.countplot(x='Class', hue='Symptoms', data=df, palette=['pink', 'deepskyblue', 'lightgreen'])\n",
        "\n",
        "# Adding title and labels\n",
        "plt.title('\\n Symptoms by Survival Status \\n', fontsize=18, fontweight='bold')\n",
        "plt.xlabel('')\n",
        "plt.ylabel('Count', fontsize=14)\n",
        "\n",
        "# Show the plot\n",
        "plt.show()\n"
      ],
      "metadata": {
        "colab": {
          "base_uri": "https://localhost:8080/",
          "height": 605
        },
        "id": "Yeplb7EMk5kM",
        "outputId": "59091d6b-0f24-4a02-f840-a9ef0f75126d"
      },
      "execution_count": null,
      "outputs": [
        {
          "output_type": "display_data",
          "data": {
            "text/plain": [
              "<Figure size 1000x600 with 1 Axes>"
            ],
            "image/png": "[encoded data removed]"
          },
          "metadata": {}
        }
      ]
    },
    {
      "cell_type": "markdown",
      "source": [
        "De acordo com este gráfico, é possível concluir que um paciente com sintomas não possui necessáriamente maior chance de morrer ou viver, mas um assintomático terá, em princípio, uma melhor probabilidade de viver."
      ],
      "metadata": {
        "id": "EU4nruHL4dkm"
      }
    },
    {
      "cell_type": "code",
      "source": [
        "plt.figure(figsize=(10, 6))\n",
        "df[\"Age\"].plot(kind = \"hist\", bins = 20, color = \"deepskyblue\")\n",
        "plt.title(\"\\n Age Distribution \\n\", fontsize = 18, fontweight='bold')\n",
        "plt.ylabel(\"Frequency\")"
      ],
      "metadata": {
        "colab": {
          "base_uri": "https://localhost:8080/",
          "height": 622
        },
        "id": "5VKD9CUOtBuq",
        "outputId": "582e3a9a-de77-4785-f5c6-6843d9f4ee8e"
      },
      "execution_count": null,
      "outputs": [
        {
          "output_type": "execute_result",
          "data": {
            "text/plain": [
              "Text(0, 0.5, 'Frequency')"
            ]
          },
          "metadata": {},
          "execution_count": 3337
        },
        {
          "output_type": "display_data",
          "data": {
            "text/plain": [
              "<Figure size 1000x600 with 1 Axes>"
            ],
            "image/png": "[encoded data removed]"
          },
          "metadata": {}
        }
      ]
    },
    {
      "cell_type": "markdown",
      "source": [
        "A distribuição da idade dos pacientes alinha-se com a média préviamente calculada (65 anos)."
      ],
      "metadata": {
        "id": "dugc5Y7A5Q3V"
      }
    },
    {
      "cell_type": "code",
      "source": [
        "# Create the violin plot\n",
        "plt.figure(figsize=(10, 6))\n",
        "sns.violinplot(x='Class', y='Age', data=df, palette=['pink', 'deepskyblue'])\n",
        "\n",
        "# Adding title and labels\n",
        "plt.title('\\n Age Distribution by Class \\n', fontsize=18, fontweight='bold')\n",
        "plt.xlabel('')\n",
        "plt.ylabel('Age', fontsize=14)\n",
        "\n",
        "# Show the plot\n",
        "plt.show()"
      ],
      "metadata": {
        "colab": {
          "base_uri": "https://localhost:8080/",
          "height": 692
        },
        "id": "1ydUntmwuI_n",
        "outputId": "04b6582a-2646-41b1-ff70-90751755f308"
      },
      "execution_count": null,
      "outputs": [
        {
          "output_type": "stream",
          "name": "stderr",
          "text": [
            "<ipython-input-3338-1435e17fc554>:3: FutureWarning: \n",
            "\n",
            "Passing `palette` without assigning `hue` is deprecated and will be removed in v0.14.0. Assign the `x` variable to `hue` and set `legend=False` for the same effect.\n",
            "\n",
            "  sns.violinplot(x='Class', y='Age', data=df, palette=['pink', 'deepskyblue'])\n"
          ]
        },
        {
          "output_type": "display_data",
          "data": {
            "text/plain": [
              "<Figure size 1000x600 with 1 Axes>"
            ],
            "image/png": "[encoded data removed]"
          },
          "metadata": {}
        }
      ]
    },
    {
      "cell_type": "markdown",
      "source": [
        "Este \"Violin Plot\" demonstra que a idade não é um fator com um peso significativo relativamente à chance de vida ou morte do paciente."
      ],
      "metadata": {
        "id": "iWiz75zm5hXj"
      }
    },
    {
      "cell_type": "code",
      "source": [
        "alcohol_counts = df[\"Alcohol\"].value_counts()\n",
        "total_count = alcohol_counts.sum()\n",
        "\n",
        "# Calculate percentages\n",
        "percentages = (alcohol_counts / total_count) * 100\n",
        "\n",
        "plt.figure(figsize=(6, 4))\n",
        "percentages.plot(kind=\"bar\", color=[\"pink\", \"deepskyblue\"])\n",
        "plt.title(\"\\n Alcohol Consumption \\n\", fontsize=18, fontweight='bold')\n",
        "plt.ylabel(\"Percentage\")\n",
        "plt.xlabel(\"\")\n",
        "plt.xticks(rotation=0)\n",
        "plt.ylim(0, 100)\n",
        "\n",
        "# Display the percentage value on top of each bar\n",
        "for index, value in enumerate(percentages):\n",
        "    plt.text(index, value + 1, f'{value:.2f}%', ha='center', va='bottom')\n",
        "\n",
        "plt.show()"
      ],
      "metadata": {
        "colab": {
          "base_uri": "https://localhost:8080/",
          "height": 451
        },
        "id": "SyYj4G5EtQYy",
        "outputId": "e36f6ea3-3047-41cf-f9b9-52db98f9da47"
      },
      "execution_count": null,
      "outputs": [
        {
          "output_type": "display_data",
          "data": {
            "text/plain": [
              "<Figure size 600x400 with 1 Axes>"
            ],
            "image/png": "[encoded data removed]"
          },
          "metadata": {}
        }
      ]
    },
    {
      "cell_type": "markdown",
      "source": [
        "O consumo de álcool é predominante em cerca de 74% dos pacientes."
      ],
      "metadata": {
        "id": "ZgvTqO5o6Qsv"
      }
    },
    {
      "cell_type": "code",
      "source": [
        "diabetes_counts = df[\"Diabetes\"].value_counts()\n",
        "total_count = diabetes_counts.sum()\n",
        "\n",
        "# Calculate percentages\n",
        "percentages = (diabetes_counts / total_count) * 100\n",
        "\n",
        "plt.figure(figsize=(6, 4))\n",
        "percentages.plot(kind=\"bar\", color=[\"pink\", \"deepskyblue\", \"lightgreen\"])\n",
        "plt.title(\"\\n Diabetes \\n\", fontsize=18, fontweight='bold')\n",
        "plt.ylabel(\"Percentage\")\n",
        "plt.xlabel(\"\")\n",
        "plt.xticks(rotation=0)\n",
        "plt.ylim(0, 100)\n",
        "\n",
        "# Display the percentage value on top of each bar\n",
        "for index, value in enumerate(percentages):\n",
        "    plt.text(index, value + 1, f'{value:.2f}%', ha='center', va='bottom')\n",
        "\n",
        "plt.show()"
      ],
      "metadata": {
        "colab": {
          "base_uri": "https://localhost:8080/",
          "height": 451
        },
        "id": "knYczbTP8Zh8",
        "outputId": "e0ab64df-ed51-45c1-e1d7-28b80eacbec6"
      },
      "execution_count": null,
      "outputs": [
        {
          "output_type": "display_data",
          "data": {
            "text/plain": [
              "<Figure size 600x400 with 1 Axes>"
            ],
            "image/png": "[encoded data removed]"
          },
          "metadata": {}
        }
      ]
    },
    {
      "cell_type": "markdown",
      "source": [
        "É possível verificar que a maioria dos pacientes não é diabético."
      ],
      "metadata": {
        "id": "yHI1soVm6bp_"
      }
    },
    {
      "cell_type": "markdown",
      "source": [
        "---\n"
      ],
      "metadata": {
        "id": "QLKuAA4sJhgQ"
      }
    },
    {
      "cell_type": "markdown",
      "source": [
        "## Pré-processamento de dados\n",
        "[[voltar ao índice]](#Indice)\n",
        "\n",
        "Agora que se tem uma noção dos pontos fortes e dos pontos fracos deste dataset, passamos à próxima fase: o pré-processamento.\n"
      ],
      "metadata": {
        "id": "UDIKBfiy-ip-"
      }
    },
    {
      "cell_type": "markdown",
      "source": [
        "### Eliminação de dados desconhecidos\n",
        "\n",
        "Nas análises préviamente realizadas, foi possível verificar que existem algumas colunas com uma grande quantidade de dados desconhecidos.\n",
        "\n",
        "Nestes casos, a sua eliminação é essencial de modo a não interferir com os resultados. Desta forma para termos uma maior flexibilidade no uso dos algoritmos, vamos eliminar poucos critérios."
      ],
      "metadata": {
        "id": "17fS1dBSo8ym"
      }
    },
    {
      "cell_type": "code",
      "source": [
        "for category in df:\n",
        "  if unknown_cat[category] > 70:\n",
        "    del df[category]\n",
        "df.shape"
      ],
      "metadata": {
        "colab": {
          "base_uri": "https://localhost:8080/"
        },
        "id": "bon8QlaV2Qvr",
        "outputId": "71f3a231-fe6b-4e82-b731-c87be0c968e1"
      },
      "execution_count": null,
      "outputs": [
        {
          "output_type": "execute_result",
          "data": {
            "text/plain": [
              "(165, 47)"
            ]
          },
          "metadata": {},
          "execution_count": 3341
        }
      ]
    },
    {
      "cell_type": "markdown",
      "source": [
        "Usando este processo, foram eliminadas 3 colunas."
      ],
      "metadata": {
        "id": "3awddcOy3Ji_"
      }
    },
    {
      "cell_type": "markdown",
      "source": [
        "### Substituição de \"?\" por médias\n",
        "\n",
        "Como foi previamente observado, existem certas colunas com múltiplos valores marcados por \"?\".\n",
        "\n",
        "Perante esta situação, existem várias formas de lidar com a mesma. Para este ficheiro, optou-se por usar a estimação de valores através de uma média. Primeiro, todos os \"?\" serão substituídos por um valor nulo."
      ],
      "metadata": {
        "id": "jcP1Aqk39Zr5"
      }
    },
    {
      "cell_type": "code",
      "source": [
        "for category in df:\n",
        "  df[category].replace('?', np.nan, inplace = True)\n",
        "df"
      ],
      "metadata": {
        "id": "VUG__uTK-s-N",
        "colab": {
          "base_uri": "https://localhost:8080/",
          "height": 423
        },
        "outputId": "cd64f34f-0243-4e21-fa01-d3c7bd371300"
      },
      "execution_count": null,
      "outputs": [
        {
          "output_type": "execute_result",
          "data": {
            "text/plain": [
              "     Gender Symptoms Alcohol HBsAg HBeAg HBcAb HCVAb Cirrhosis Endemic  \\\n",
              "0      Male       No     Yes    No    No    No    No       Yes      No   \n",
              "1    Female      NaN      No    No    No    No   Yes       Yes     NaN   \n",
              "2      Male       No     Yes   Yes    No   Yes    No       Yes      No   \n",
              "3      Male      Yes     Yes    No    No    No    No       Yes      No   \n",
              "4      Male      Yes     Yes   Yes    No   Yes    No       Yes      No   \n",
              "..      ...      ...     ...   ...   ...   ...   ...       ...     ...   \n",
              "160  Female       No     Yes   NaN   NaN   NaN   Yes       Yes      No   \n",
              "161  Female      Yes      No   NaN   NaN   NaN   NaN       Yes      No   \n",
              "162    Male       No     Yes    No    No    No    No       Yes      No   \n",
              "163    Male       No     Yes   Yes    No   Yes   Yes       Yes     Yes   \n",
              "164    Male      Yes     Yes    No    No    No   Yes       Yes      No   \n",
              "\n",
              "    Smoking  ...  ALT  AST  GGT  ALP   TP Creatinine Nodules Major_Dim  \\\n",
              "0       Yes  ...   34   41  183  150  7.1        0.7       1       3.5   \n",
              "1       NaN  ...  NaN  NaN  NaN  NaN  NaN        NaN       1       1.8   \n",
              "2       Yes  ...   58   68  202  109    7        2.1       5        13   \n",
              "3       Yes  ...   16   64   94  174  8.1       1.11       2      15.7   \n",
              "4       Yes  ...  147  306  173  109  6.9        1.8       1         9   \n",
              "..      ...  ...  ...  ...  ...  ...  ...        ...     ...       ...   \n",
              "160     Yes  ...   35   40  449  109  7.6        0.7       5         3   \n",
              "161      No  ...   50   91  147  280  6.7        0.7       1       2.2   \n",
              "162     Yes  ...   53   52  164  181  7.5       1.46       5      18.6   \n",
              "163     Yes  ...   50   60  320  170  8.4       0.74       5        18   \n",
              "164     Yes  ...   78  127  444  462  6.6       3.95       5       8.5   \n",
              "\n",
              "    Dir_Bil  Class  \n",
              "0       0.5  Lives  \n",
              "1       NaN  Lives  \n",
              "2       0.1  Lives  \n",
              "3       0.2   Dies  \n",
              "4       NaN  Lives  \n",
              "..      ...    ...  \n",
              "160     NaN  Lives  \n",
              "161     2.3   Dies  \n",
              "162     NaN  Lives  \n",
              "163     NaN   Dies  \n",
              "164    19.8   Dies  \n",
              "\n",
              "[165 rows x 47 columns]"
            ],
            "text/html": [
              "\n",
              "  <div id=\"df-0565eedf-1041-46ff-8169-0e3849e04159\" class=\"colab-df-container\">\n",
              "    <div>\n",
              "<style scoped>\n",
              "    .dataframe tbody tr th:only-of-type {\n",
              "        vertical-align: middle;\n",
              "    }\n",
              "\n",
              "    .dataframe tbody tr th {\n",
              "        vertical-align: top;\n",
              "    }\n",
              "\n",
              "    .dataframe thead th {\n",
              "        text-align: right;\n",
              "    }\n",
              "</style>\n",
              "<table border=\"1\" class=\"dataframe\">\n",
              "  <thead>\n",
              "    <tr style=\"text-align: right;\">\n",
              "      <th></th>\n",
              "      <th>Gender</th>\n",
              "      <th>Symptoms</th>\n",
              "      <th>Alcohol</th>\n",
              "      <th>HBsAg</th>\n",
              "      <th>HBeAg</th>\n",
              "      <th>HBcAb</th>\n",
              "      <th>HCVAb</th>\n",
              "      <th>Cirrhosis</th>\n",
              "      <th>Endemic</th>\n",
              "      <th>Smoking</th>\n",
              "      <th>...</th>\n",
              "      <th>ALT</th>\n",
              "      <th>AST</th>\n",
              "      <th>GGT</th>\n",
              "      <th>ALP</th>\n",
              "      <th>TP</th>\n",
              "      <th>Creatinine</th>\n",
              "      <th>Nodules</th>\n",
              "      <th>Major_Dim</th>\n",
              "      <th>Dir_Bil</th>\n",
              "      <th>Class</th>\n",
              "    </tr>\n",
              "  </thead>\n",
              "  <tbody>\n",
              "    <tr>\n",
              "      <th>0</th>\n",
              "      <td>Male</td>\n",
              "      <td>No</td>\n",
              "      <td>Yes</td>\n",
              "      <td>No</td>\n",
              "      <td>No</td>\n",
              "      <td>No</td>\n",
              "      <td>No</td>\n",
              "      <td>Yes</td>\n",
              "      <td>No</td>\n",
              "      <td>Yes</td>\n",
              "      <td>...</td>\n",
              "      <td>34</td>\n",
              "      <td>41</td>\n",
              "      <td>183</td>\n",
              "      <td>150</td>\n",
              "      <td>7.1</td>\n",
              "      <td>0.7</td>\n",
              "      <td>1</td>\n",
              "      <td>3.5</td>\n",
              "      <td>0.5</td>\n",
              "      <td>Lives</td>\n",
              "    </tr>\n",
              "    <tr>\n",
              "      <th>1</th>\n",
              "      <td>Female</td>\n",
              "      <td>NaN</td>\n",
              "      <td>No</td>\n",
              "      <td>No</td>\n",
              "      <td>No</td>\n",
              "      <td>No</td>\n",
              "      <td>Yes</td>\n",
              "      <td>Yes</td>\n",
              "      <td>NaN</td>\n",
              "      <td>NaN</td>\n",
              "      <td>...</td>\n",
              "      <td>NaN</td>\n",
              "      <td>NaN</td>\n",
              "      <td>NaN</td>\n",
              "      <td>NaN</td>\n",
              "      <td>NaN</td>\n",
              "      <td>NaN</td>\n",
              "      <td>1</td>\n",
              "      <td>1.8</td>\n",
              "      <td>NaN</td>\n",
              "      <td>Lives</td>\n",
              "    </tr>\n",
              "    <tr>\n",
              "      <th>2</th>\n",
              "      <td>Male</td>\n",
              "      <td>No</td>\n",
              "      <td>Yes</td>\n",
              "      <td>Yes</td>\n",
              "      <td>No</td>\n",
              "      <td>Yes</td>\n",
              "      <td>No</td>\n",
              "      <td>Yes</td>\n",
              "      <td>No</td>\n",
              "      <td>Yes</td>\n",
              "      <td>...</td>\n",
              "      <td>58</td>\n",
              "      <td>68</td>\n",
              "      <td>202</td>\n",
              "      <td>109</td>\n",
              "      <td>7</td>\n",
              "      <td>2.1</td>\n",
              "      <td>5</td>\n",
              "      <td>13</td>\n",
              "      <td>0.1</td>\n",
              "      <td>Lives</td>\n",
              "    </tr>\n",
              "    <tr>\n",
              "      <th>3</th>\n",
              "      <td>Male</td>\n",
              "      <td>Yes</td>\n",
              "      <td>Yes</td>\n",
              "      <td>No</td>\n",
              "      <td>No</td>\n",
              "      <td>No</td>\n",
              "      <td>No</td>\n",
              "      <td>Yes</td>\n",
              "      <td>No</td>\n",
              "      <td>Yes</td>\n",
              "      <td>...</td>\n",
              "      <td>16</td>\n",
              "      <td>64</td>\n",
              "      <td>94</td>\n",
              "      <td>174</td>\n",
              "      <td>8.1</td>\n",
              "      <td>1.11</td>\n",
              "      <td>2</td>\n",
              "      <td>15.7</td>\n",
              "      <td>0.2</td>\n",
              "      <td>Dies</td>\n",
              "    </tr>\n",
              "    <tr>\n",
              "      <th>4</th>\n",
              "      <td>Male</td>\n",
              "      <td>Yes</td>\n",
              "      <td>Yes</td>\n",
              "      <td>Yes</td>\n",
              "      <td>No</td>\n",
              "      <td>Yes</td>\n",
              "      <td>No</td>\n",
              "      <td>Yes</td>\n",
              "      <td>No</td>\n",
              "      <td>Yes</td>\n",
              "      <td>...</td>\n",
              "      <td>147</td>\n",
              "      <td>306</td>\n",
              "      <td>173</td>\n",
              "      <td>109</td>\n",
              "      <td>6.9</td>\n",
              "      <td>1.8</td>\n",
              "      <td>1</td>\n",
              "      <td>9</td>\n",
              "      <td>NaN</td>\n",
              "      <td>Lives</td>\n",
              "    </tr>\n",
              "    <tr>\n",
              "      <th>...</th>\n",
              "      <td>...</td>\n",
              "      <td>...</td>\n",
              "      <td>...</td>\n",
              "      <td>...</td>\n",
              "      <td>...</td>\n",
              "      <td>...</td>\n",
              "      <td>...</td>\n",
              "      <td>...</td>\n",
              "      <td>...</td>\n",
              "      <td>...</td>\n",
              "      <td>...</td>\n",
              "      <td>...</td>\n",
              "      <td>...</td>\n",
              "      <td>...</td>\n",
              "      <td>...</td>\n",
              "      <td>...</td>\n",
              "      <td>...</td>\n",
              "      <td>...</td>\n",
              "      <td>...</td>\n",
              "      <td>...</td>\n",
              "      <td>...</td>\n",
              "    </tr>\n",
              "    <tr>\n",
              "      <th>160</th>\n",
              "      <td>Female</td>\n",
              "      <td>No</td>\n",
              "      <td>Yes</td>\n",
              "      <td>NaN</td>\n",
              "      <td>NaN</td>\n",
              "      <td>NaN</td>\n",
              "      <td>Yes</td>\n",
              "      <td>Yes</td>\n",
              "      <td>No</td>\n",
              "      <td>Yes</td>\n",
              "      <td>...</td>\n",
              "      <td>35</td>\n",
              "      <td>40</td>\n",
              "      <td>449</td>\n",
              "      <td>109</td>\n",
              "      <td>7.6</td>\n",
              "      <td>0.7</td>\n",
              "      <td>5</td>\n",
              "      <td>3</td>\n",
              "      <td>NaN</td>\n",
              "      <td>Lives</td>\n",
              "    </tr>\n",
              "    <tr>\n",
              "      <th>161</th>\n",
              "      <td>Female</td>\n",
              "      <td>Yes</td>\n",
              "      <td>No</td>\n",
              "      <td>NaN</td>\n",
              "      <td>NaN</td>\n",
              "      <td>NaN</td>\n",
              "      <td>NaN</td>\n",
              "      <td>Yes</td>\n",
              "      <td>No</td>\n",
              "      <td>No</td>\n",
              "      <td>...</td>\n",
              "      <td>50</td>\n",
              "      <td>91</td>\n",
              "      <td>147</td>\n",
              "      <td>280</td>\n",
              "      <td>6.7</td>\n",
              "      <td>0.7</td>\n",
              "      <td>1</td>\n",
              "      <td>2.2</td>\n",
              "      <td>2.3</td>\n",
              "      <td>Dies</td>\n",
              "    </tr>\n",
              "    <tr>\n",
              "      <th>162</th>\n",
              "      <td>Male</td>\n",
              "      <td>No</td>\n",
              "      <td>Yes</td>\n",
              "      <td>No</td>\n",
              "      <td>No</td>\n",
              "      <td>No</td>\n",
              "      <td>No</td>\n",
              "      <td>Yes</td>\n",
              "      <td>No</td>\n",
              "      <td>Yes</td>\n",
              "      <td>...</td>\n",
              "      <td>53</td>\n",
              "      <td>52</td>\n",
              "      <td>164</td>\n",
              "      <td>181</td>\n",
              "      <td>7.5</td>\n",
              "      <td>1.46</td>\n",
              "      <td>5</td>\n",
              "      <td>18.6</td>\n",
              "      <td>NaN</td>\n",
              "      <td>Lives</td>\n",
              "    </tr>\n",
              "    <tr>\n",
              "      <th>163</th>\n",
              "      <td>Male</td>\n",
              "      <td>No</td>\n",
              "      <td>Yes</td>\n",
              "      <td>Yes</td>\n",
              "      <td>No</td>\n",
              "      <td>Yes</td>\n",
              "      <td>Yes</td>\n",
              "      <td>Yes</td>\n",
              "      <td>Yes</td>\n",
              "      <td>Yes</td>\n",
              "      <td>...</td>\n",
              "      <td>50</td>\n",
              "      <td>60</td>\n",
              "      <td>320</td>\n",
              "      <td>170</td>\n",
              "      <td>8.4</td>\n",
              "      <td>0.74</td>\n",
              "      <td>5</td>\n",
              "      <td>18</td>\n",
              "      <td>NaN</td>\n",
              "      <td>Dies</td>\n",
              "    </tr>\n",
              "    <tr>\n",
              "      <th>164</th>\n",
              "      <td>Male</td>\n",
              "      <td>Yes</td>\n",
              "      <td>Yes</td>\n",
              "      <td>No</td>\n",
              "      <td>No</td>\n",
              "      <td>No</td>\n",
              "      <td>Yes</td>\n",
              "      <td>Yes</td>\n",
              "      <td>No</td>\n",
              "      <td>Yes</td>\n",
              "      <td>...</td>\n",
              "      <td>78</td>\n",
              "      <td>127</td>\n",
              "      <td>444</td>\n",
              "      <td>462</td>\n",
              "      <td>6.6</td>\n",
              "      <td>3.95</td>\n",
              "      <td>5</td>\n",
              "      <td>8.5</td>\n",
              "      <td>19.8</td>\n",
              "      <td>Dies</td>\n",
              "    </tr>\n",
              "  </tbody>\n",
              "</table>\n",
              "<p>165 rows × 47 columns</p>\n",
              "</div>\n",
              "    <div class=\"colab-df-buttons\">\n",
              "\n",
              "  <div class=\"colab-df-container\">\n",
              "    <button class=\"colab-df-convert\" onclick=\"convertToInteractive('df-0565eedf-1041-46ff-8169-0e3849e04159')\"\n",
              "            title=\"Convert this dataframe to an interactive table.\"\n",
              "            style=\"display:none;\">\n",
              "\n",
              "  <svg xmlns=\"http://www.w3.org/2000/svg\" height=\"24px\" viewBox=\"0 -960 960 960\">\n",
              "    <path d=\"M120-120v-720h720v720H120Zm60-500h600v-160H180v160Zm220 220h160v-160H400v160Zm0 220h160v-160H400v160ZM180-400h160v-160H180v160Zm440 0h160v-160H620v160ZM180-180h160v-160H180v160Zm440 0h160v-160H620v160Z\"/>\n",
              "  </svg>\n",
              "    </button>\n",
              "\n",
              "  <style>\n",
              "    .colab-df-container {\n",
              "      display:flex;\n",
              "      gap: 12px;\n",
              "    }\n",
              "\n",
              "    .colab-df-convert {\n",
              "      background-color: #E8F0FE;\n",
              "      border: none;\n",
              "      border-radius: 50%;\n",
              "      cursor: pointer;\n",
              "      display: none;\n",
              "      fill: #1967D2;\n",
              "      height: 32px;\n",
              "      padding: 0 0 0 0;\n",
              "      width: 32px;\n",
              "    }\n",
              "\n",
              "    .colab-df-convert:hover {\n",
              "      background-color: #E2EBFA;\n",
              "      box-shadow: 0px 1px 2px rgba(60, 64, 67, 0.3), 0px 1px 3px 1px rgba(60, 64, 67, 0.15);\n",
              "      fill: #174EA6;\n",
              "    }\n",
              "\n",
              "    .colab-df-buttons div {\n",
              "      margin-bottom: 4px;\n",
              "    }\n",
              "\n",
              "    [theme=dark] .colab-df-convert {\n",
              "      background-color: #3B4455;\n",
              "      fill: #D2E3FC;\n",
              "    }\n",
              "\n",
              "    [theme=dark] .colab-df-convert:hover {\n",
              "      background-color: #434B5C;\n",
              "      box-shadow: 0px 1px 3px 1px rgba(0, 0, 0, 0.15);\n",
              "      filter: drop-shadow(0px 1px 2px rgba(0, 0, 0, 0.3));\n",
              "      fill: #FFFFFF;\n",
              "    }\n",
              "  </style>\n",
              "\n",
              "    <script>\n",
              "      const buttonEl =\n",
              "        document.querySelector('#df-0565eedf-1041-46ff-8169-0e3849e04159 button.colab-df-convert');\n",
              "      buttonEl.style.display =\n",
              "        google.colab.kernel.accessAllowed ? 'block' : 'none';\n",
              "\n",
              "      async function convertToInteractive(key) {\n",
              "        const element = document.querySelector('#df-0565eedf-1041-46ff-8169-0e3849e04159');\n",
              "        const dataTable =\n",
              "          await google.colab.kernel.invokeFunction('convertToInteractive',\n",
              "                                                    [key], {});\n",
              "        if (!dataTable) return;\n",
              "\n",
              "        const docLinkHtml = 'Like what you see? Visit the ' +\n",
              "          '<a target=\"_blank\" href=https://colab.research.google.com/notebooks/data_table.ipynb>data table notebook</a>'\n",
              "          + ' to learn more about interactive tables.';\n",
              "        element.innerHTML = '';\n",
              "        dataTable['output_type'] = 'display_data';\n",
              "        await google.colab.output.renderOutput(dataTable, element);\n",
              "        const docLink = document.createElement('div');\n",
              "        docLink.innerHTML = docLinkHtml;\n",
              "        element.appendChild(docLink);\n",
              "      }\n",
              "    </script>\n",
              "  </div>\n",
              "\n",
              "\n",
              "<div id=\"df-abd8157f-745f-4833-97ea-99cf383995d3\">\n",
              "  <button class=\"colab-df-quickchart\" onclick=\"quickchart('df-abd8157f-745f-4833-97ea-99cf383995d3')\"\n",
              "            title=\"Suggest charts\"\n",
              "            style=\"display:none;\">\n",
              "\n",
              "<svg xmlns=\"http://www.w3.org/2000/svg\" height=\"24px\"viewBox=\"0 0 24 24\"\n",
              "     width=\"24px\">\n",
              "    <g>\n",
              "        <path d=\"M19 3H5c-1.1 0-2 .9-2 2v14c0 1.1.9 2 2 2h14c1.1 0 2-.9 2-2V5c0-1.1-.9-2-2-2zM9 17H7v-7h2v7zm4 0h-2V7h2v10zm4 0h-2v-4h2v4z\"/>\n",
              "    </g>\n",
              "</svg>\n",
              "  </button>\n",
              "\n",
              "<style>\n",
              "  .colab-df-quickchart {\n",
              "      --bg-color: #E8F0FE;\n",
              "      --fill-color: #1967D2;\n",
              "      --hover-bg-color: #E2EBFA;\n",
              "      --hover-fill-color: #174EA6;\n",
              "      --disabled-fill-color: #AAA;\n",
              "      --disabled-bg-color: #DDD;\n",
              "  }\n",
              "\n",
              "  [theme=dark] .colab-df-quickchart {\n",
              "      --bg-color: #3B4455;\n",
              "      --fill-color: #D2E3FC;\n",
              "      --hover-bg-color: #434B5C;\n",
              "      --hover-fill-color: #FFFFFF;\n",
              "      --disabled-bg-color: #3B4455;\n",
              "      --disabled-fill-color: #666;\n",
              "  }\n",
              "\n",
              "  .colab-df-quickchart {\n",
              "    background-color: var(--bg-color);\n",
              "    border: none;\n",
              "    border-radius: 50%;\n",
              "    cursor: pointer;\n",
              "    display: none;\n",
              "    fill: var(--fill-color);\n",
              "    height: 32px;\n",
              "    padding: 0;\n",
              "    width: 32px;\n",
              "  }\n",
              "\n",
              "  .colab-df-quickchart:hover {\n",
              "    background-color: var(--hover-bg-color);\n",
              "    box-shadow: 0 1px 2px rgba(60, 64, 67, 0.3), 0 1px 3px 1px rgba(60, 64, 67, 0.15);\n",
              "    fill: var(--button-hover-fill-color);\n",
              "  }\n",
              "\n",
              "  .colab-df-quickchart-complete:disabled,\n",
              "  .colab-df-quickchart-complete:disabled:hover {\n",
              "    background-color: var(--disabled-bg-color);\n",
              "    fill: var(--disabled-fill-color);\n",
              "    box-shadow: none;\n",
              "  }\n",
              "\n",
              "  .colab-df-spinner {\n",
              "    border: 2px solid var(--fill-color);\n",
              "    border-color: transparent;\n",
              "    border-bottom-color: var(--fill-color);\n",
              "    animation:\n",
              "      spin 1s steps(1) infinite;\n",
              "  }\n",
              "\n",
              "  @keyframes spin {\n",
              "    0% {\n",
              "      border-color: transparent;\n",
              "      border-bottom-color: var(--fill-color);\n",
              "      border-left-color: var(--fill-color);\n",
              "    }\n",
              "    20% {\n",
              "      border-color: transparent;\n",
              "      border-left-color: var(--fill-color);\n",
              "      border-top-color: var(--fill-color);\n",
              "    }\n",
              "    30% {\n",
              "      border-color: transparent;\n",
              "      border-left-color: var(--fill-color);\n",
              "      border-top-color: var(--fill-color);\n",
              "      border-right-color: var(--fill-color);\n",
              "    }\n",
              "    40% {\n",
              "      border-color: transparent;\n",
              "      border-right-color: var(--fill-color);\n",
              "      border-top-color: var(--fill-color);\n",
              "    }\n",
              "    60% {\n",
              "      border-color: transparent;\n",
              "      border-right-color: var(--fill-color);\n",
              "    }\n",
              "    80% {\n",
              "      border-color: transparent;\n",
              "      border-right-color: var(--fill-color);\n",
              "      border-bottom-color: var(--fill-color);\n",
              "    }\n",
              "    90% {\n",
              "      border-color: transparent;\n",
              "      border-bottom-color: var(--fill-color);\n",
              "    }\n",
              "  }\n",
              "</style>\n",
              "\n",
              "  <script>\n",
              "    async function quickchart(key) {\n",
              "      const quickchartButtonEl =\n",
              "        document.querySelector('#' + key + ' button');\n",
              "      quickchartButtonEl.disabled = true;  // To prevent multiple clicks.\n",
              "      quickchartButtonEl.classList.add('colab-df-spinner');\n",
              "      try {\n",
              "        const charts = await google.colab.kernel.invokeFunction(\n",
              "            'suggestCharts', [key], {});\n",
              "      } catch (error) {\n",
              "        console.error('Error during call to suggestCharts:', error);\n",
              "      }\n",
              "      quickchartButtonEl.classList.remove('colab-df-spinner');\n",
              "      quickchartButtonEl.classList.add('colab-df-quickchart-complete');\n",
              "    }\n",
              "    (() => {\n",
              "      let quickchartButtonEl =\n",
              "        document.querySelector('#df-abd8157f-745f-4833-97ea-99cf383995d3 button');\n",
              "      quickchartButtonEl.style.display =\n",
              "        google.colab.kernel.accessAllowed ? 'block' : 'none';\n",
              "    })();\n",
              "  </script>\n",
              "</div>\n",
              "    </div>\n",
              "  </div>\n"
            ],
            "application/vnd.google.colaboratory.intrinsic+json": {
              "type": "dataframe",
              "variable_name": "df"
            }
          },
          "metadata": {},
          "execution_count": 3342
        }
      ]
    },
    {
      "cell_type": "code",
      "source": [
        "df.isnull().sum()"
      ],
      "metadata": {
        "id": "WLVcXiyrBZ4s",
        "colab": {
          "base_uri": "https://localhost:8080/"
        },
        "outputId": "3b42d123-92e7-4675-f2d5-4e7da7a2aa06"
      },
      "execution_count": null,
      "outputs": [
        {
          "output_type": "execute_result",
          "data": {
            "text/plain": [
              "Gender              0\n",
              "Symptoms           18\n",
              "Alcohol             0\n",
              "HBsAg              17\n",
              "HBeAg              39\n",
              "HBcAb              24\n",
              "HCVAb               9\n",
              "Cirrhosis           0\n",
              "Endemic            39\n",
              "Smoking            41\n",
              "Diabetes            3\n",
              "Obesity            10\n",
              "Hemochro           23\n",
              "AHT                 3\n",
              "CRI                 2\n",
              "HIV                14\n",
              "NASH               22\n",
              "Varices            52\n",
              "Spleno             15\n",
              "PHT                11\n",
              "PVT                 3\n",
              "Metastasis          4\n",
              "Hallmark            2\n",
              "Age                 0\n",
              "Grams_day          48\n",
              "Packs_year         53\n",
              "PS                  0\n",
              "Encephalopathy    143\n",
              "Ascites           111\n",
              "INR                 4\n",
              "AFP                 8\n",
              "Hemoglobin          3\n",
              "MCV                 3\n",
              "Leucocytes          3\n",
              "Platelets           3\n",
              " Albumin            6\n",
              "Total_Bil           5\n",
              "ALT                 4\n",
              "AST                 3\n",
              "GGT                 3\n",
              "ALP                 3\n",
              "TP                 11\n",
              "Creatinine          7\n",
              "Nodules             2\n",
              "Major_Dim          20\n",
              "Dir_Bil            44\n",
              "Class               0\n",
              "dtype: int64"
            ]
          },
          "metadata": {},
          "execution_count": 3343
        }
      ]
    },
    {
      "cell_type": "markdown",
      "source": [
        "A seguir, vamos converter as colunas numéricas para explicitamente o tipo numérico."
      ],
      "metadata": {
        "id": "x76B5P08Awbv"
      }
    },
    {
      "cell_type": "code",
      "source": [
        "numerical_columns = ['Age', 'Grams_day', 'Packs_year', 'INR', 'AFP', 'Hemoglobin', 'MCV', 'Leucocytes', 'Platelets', ' Albumin', 'Total_Bil', 'ALT', 'AST', 'GGT', 'ALP', 'TP', 'Creatinine', 'Nodules', 'Major_Dim', 'Dir_Bil']\n",
        "for column in numerical_columns:\n",
        "    df[column] = pd.to_numeric(df[column], errors='coerce')"
      ],
      "metadata": {
        "id": "gbgcognPHfDq"
      },
      "execution_count": null,
      "outputs": []
    },
    {
      "cell_type": "code",
      "source": [
        "for column in df.select_dtypes(include=['number']).columns:\n",
        "    mean_value = df[column].mean()\n",
        "    df[column].fillna(mean_value, inplace=True)\n",
        "    print(f\"Filled NaNs in {column} with mean value {mean_value}\")"
      ],
      "metadata": {
        "id": "GfGKuSUWA9bt",
        "colab": {
          "base_uri": "https://localhost:8080/"
        },
        "outputId": "c647d630-9a45-4b4d-a700-5913d9573b43"
      },
      "execution_count": null,
      "outputs": [
        {
          "output_type": "stream",
          "name": "stdout",
          "text": [
            "Filled NaNs in Age with mean value 64.69090909090909\n",
            "Filled NaNs in Grams_day with mean value 71.00854700854701\n",
            "Filled NaNs in Packs_year with mean value 20.464285714285715\n",
            "Filled NaNs in INR with mean value 1.4218509316770187\n",
            "Filled NaNs in AFP with mean value 19299.951146496816\n",
            "Filled NaNs in Hemoglobin with mean value 12.87901234567901\n",
            "Filled NaNs in MCV with mean value 95.11975308641975\n",
            "Filled NaNs in Leucocytes with mean value 1473.9615493827162\n",
            "Filled NaNs in Platelets with mean value 113206.442654321\n",
            "Filled NaNs in  Albumin with mean value 3.445534591194968\n",
            "Filled NaNs in Total_Bil with mean value 3.0879375000000002\n",
            "Filled NaNs in ALT with mean value 67.09316770186335\n",
            "Filled NaNs in AST with mean value 96.38271604938272\n",
            "Filled NaNs in GGT with mean value 268.02654320987654\n",
            "Filled NaNs in ALP with mean value 212.2116049382716\n",
            "Filled NaNs in TP with mean value 8.96103896103896\n",
            "Filled NaNs in Creatinine with mean value 1.1270886075949367\n",
            "Filled NaNs in Nodules with mean value 2.736196319018405\n",
            "Filled NaNs in Major_Dim with mean value 6.851172413793104\n",
            "Filled NaNs in Dir_Bil with mean value 1.9300000000000002\n"
          ]
        }
      ]
    },
    {
      "cell_type": "markdown",
      "source": [
        "Para o resto dos valores, usaremos a moda da coluna para substituir os que se encontram em falta, excluíndo as colunas sobre a fase de uma doença."
      ],
      "metadata": {
        "id": "qcqR-rUsB2Dj"
      }
    },
    {
      "cell_type": "code",
      "source": [
        "df.info()"
      ],
      "metadata": {
        "colab": {
          "base_uri": "https://localhost:8080/"
        },
        "id": "ILsVL50aTIP3",
        "outputId": "36acf062-cd6d-499f-ba56-5978fa23d4b1"
      },
      "execution_count": null,
      "outputs": [
        {
          "output_type": "stream",
          "name": "stdout",
          "text": [
            "<class 'pandas.core.frame.DataFrame'>\n",
            "RangeIndex: 165 entries, 0 to 164\n",
            "Data columns (total 47 columns):\n",
            " #   Column          Non-Null Count  Dtype   \n",
            "---  ------          --------------  -----   \n",
            " 0   Gender          165 non-null    object  \n",
            " 1   Symptoms        147 non-null    category\n",
            " 2   Alcohol         165 non-null    object  \n",
            " 3   HBsAg           148 non-null    object  \n",
            " 4   HBeAg           126 non-null    object  \n",
            " 5   HBcAb           141 non-null    object  \n",
            " 6   HCVAb           156 non-null    object  \n",
            " 7   Cirrhosis       165 non-null    object  \n",
            " 8   Endemic         126 non-null    object  \n",
            " 9   Smoking         124 non-null    object  \n",
            " 10  Diabetes        162 non-null    object  \n",
            " 11  Obesity         155 non-null    object  \n",
            " 12  Hemochro        142 non-null    object  \n",
            " 13  AHT             162 non-null    object  \n",
            " 14  CRI             163 non-null    object  \n",
            " 15  HIV             151 non-null    object  \n",
            " 16  NASH            143 non-null    object  \n",
            " 17  Varices         113 non-null    object  \n",
            " 18  Spleno          150 non-null    object  \n",
            " 19  PHT             154 non-null    object  \n",
            " 20  PVT             162 non-null    object  \n",
            " 21  Metastasis      161 non-null    object  \n",
            " 22  Hallmark        163 non-null    object  \n",
            " 23  Age             165 non-null    int64   \n",
            " 24  Grams_day       165 non-null    float64 \n",
            " 25  Packs_year      165 non-null    float64 \n",
            " 26  PS              165 non-null    object  \n",
            " 27  Encephalopathy  22 non-null     object  \n",
            " 28  Ascites         54 non-null     object  \n",
            " 29  INR             165 non-null    float64 \n",
            " 30  AFP             165 non-null    float64 \n",
            " 31  Hemoglobin      165 non-null    float64 \n",
            " 32  MCV             165 non-null    float64 \n",
            " 33  Leucocytes      165 non-null    float64 \n",
            " 34  Platelets       165 non-null    float64 \n",
            " 35   Albumin        165 non-null    float64 \n",
            " 36  Total_Bil       165 non-null    float64 \n",
            " 37  ALT             165 non-null    float64 \n",
            " 38  AST             165 non-null    float64 \n",
            " 39  GGT             165 non-null    float64 \n",
            " 40  ALP             165 non-null    float64 \n",
            " 41  TP              165 non-null    float64 \n",
            " 42  Creatinine      165 non-null    float64 \n",
            " 43  Nodules         165 non-null    float64 \n",
            " 44  Major_Dim       165 non-null    float64 \n",
            " 45  Dir_Bil         165 non-null    float64 \n",
            " 46  Class           165 non-null    category\n",
            "dtypes: category(2), float64(19), int64(1), object(25)\n",
            "memory usage: 58.7+ KB\n"
          ]
        }
      ]
    },
    {
      "cell_type": "code",
      "source": [
        "df['Encephalopathy'].fillna(\"NA\", inplace=True)\n",
        "df['Ascites'].fillna(\"NA\", inplace=True)"
      ],
      "metadata": {
        "id": "juP4s4PGUyFT"
      },
      "execution_count": null,
      "outputs": []
    },
    {
      "cell_type": "code",
      "source": [
        "exclude_columns = ['Encephalopathy', 'Ascites']\n",
        "for column in df.select_dtypes(include=['object']).columns:\n",
        "  if column not in exclude_columns:\n",
        "    mode_value = df[column].mode()[0]\n",
        "    df[column].fillna(mode_value, inplace=True)\n",
        "df"
      ],
      "metadata": {
        "id": "9Pcj666xBxrd",
        "colab": {
          "base_uri": "https://localhost:8080/",
          "height": 443
        },
        "outputId": "4ee3e2aa-f12a-45db-e468-ceb4b0d25d9e"
      },
      "execution_count": null,
      "outputs": [
        {
          "output_type": "execute_result",
          "data": {
            "text/plain": [
              "     Gender Symptoms Alcohol HBsAg HBeAg HBcAb HCVAb Cirrhosis Endemic  \\\n",
              "0      Male       No     Yes    No    No    No    No       Yes      No   \n",
              "1    Female      NaN      No    No    No    No   Yes       Yes      No   \n",
              "2      Male       No     Yes   Yes    No   Yes    No       Yes      No   \n",
              "3      Male      Yes     Yes    No    No    No    No       Yes      No   \n",
              "4      Male      Yes     Yes   Yes    No   Yes    No       Yes      No   \n",
              "..      ...      ...     ...   ...   ...   ...   ...       ...     ...   \n",
              "160  Female       No     Yes    No    No    No   Yes       Yes      No   \n",
              "161  Female      Yes      No    No    No    No    No       Yes      No   \n",
              "162    Male       No     Yes    No    No    No    No       Yes      No   \n",
              "163    Male       No     Yes   Yes    No   Yes   Yes       Yes     Yes   \n",
              "164    Male      Yes     Yes    No    No    No   Yes       Yes      No   \n",
              "\n",
              "    Smoking  ...         ALT         AST         GGT         ALP        TP  \\\n",
              "0       Yes  ...   34.000000   41.000000  183.000000  150.000000  7.100000   \n",
              "1       Yes  ...   67.093168   96.382716  268.026543  212.211605  8.961039   \n",
              "2       Yes  ...   58.000000   68.000000  202.000000  109.000000  7.000000   \n",
              "3       Yes  ...   16.000000   64.000000   94.000000  174.000000  8.100000   \n",
              "4       Yes  ...  147.000000  306.000000  173.000000  109.000000  6.900000   \n",
              "..      ...  ...         ...         ...         ...         ...       ...   \n",
              "160     Yes  ...   35.000000   40.000000  449.000000  109.000000  7.600000   \n",
              "161      No  ...   50.000000   91.000000  147.000000  280.000000  6.700000   \n",
              "162     Yes  ...   53.000000   52.000000  164.000000  181.000000  7.500000   \n",
              "163     Yes  ...   50.000000   60.000000  320.000000  170.000000  8.400000   \n",
              "164     Yes  ...   78.000000  127.000000  444.000000  462.000000  6.600000   \n",
              "\n",
              "    Creatinine Nodules Major_Dim Dir_Bil  Class  \n",
              "0     0.700000     1.0       3.5    0.50  Lives  \n",
              "1     1.127089     1.0       1.8    1.93  Lives  \n",
              "2     2.100000     5.0      13.0    0.10  Lives  \n",
              "3     1.110000     2.0      15.7    0.20   Dies  \n",
              "4     1.800000     1.0       9.0    1.93  Lives  \n",
              "..         ...     ...       ...     ...    ...  \n",
              "160   0.700000     5.0       3.0    1.93  Lives  \n",
              "161   0.700000     1.0       2.2    2.30   Dies  \n",
              "162   1.460000     5.0      18.6    1.93  Lives  \n",
              "163   0.740000     5.0      18.0    1.93   Dies  \n",
              "164   3.950000     5.0       8.5   19.80   Dies  \n",
              "\n",
              "[165 rows x 47 columns]"
            ],
            "text/html": [
              "\n",
              "  <div id=\"df-a8a80b49-db12-4daa-afea-3986a9d029a9\" class=\"colab-df-container\">\n",
              "    <div>\n",
              "<style scoped>\n",
              "    .dataframe tbody tr th:only-of-type {\n",
              "        vertical-align: middle;\n",
              "    }\n",
              "\n",
              "    .dataframe tbody tr th {\n",
              "        vertical-align: top;\n",
              "    }\n",
              "\n",
              "    .dataframe thead th {\n",
              "        text-align: right;\n",
              "    }\n",
              "</style>\n",
              "<table border=\"1\" class=\"dataframe\">\n",
              "  <thead>\n",
              "    <tr style=\"text-align: right;\">\n",
              "      <th></th>\n",
              "      <th>Gender</th>\n",
              "      <th>Symptoms</th>\n",
              "      <th>Alcohol</th>\n",
              "      <th>HBsAg</th>\n",
              "      <th>HBeAg</th>\n",
              "      <th>HBcAb</th>\n",
              "      <th>HCVAb</th>\n",
              "      <th>Cirrhosis</th>\n",
              "      <th>Endemic</th>\n",
              "      <th>Smoking</th>\n",
              "      <th>...</th>\n",
              "      <th>ALT</th>\n",
              "      <th>AST</th>\n",
              "      <th>GGT</th>\n",
              "      <th>ALP</th>\n",
              "      <th>TP</th>\n",
              "      <th>Creatinine</th>\n",
              "      <th>Nodules</th>\n",
              "      <th>Major_Dim</th>\n",
              "      <th>Dir_Bil</th>\n",
              "      <th>Class</th>\n",
              "    </tr>\n",
              "  </thead>\n",
              "  <tbody>\n",
              "    <tr>\n",
              "      <th>0</th>\n",
              "      <td>Male</td>\n",
              "      <td>No</td>\n",
              "      <td>Yes</td>\n",
              "      <td>No</td>\n",
              "      <td>No</td>\n",
              "      <td>No</td>\n",
              "      <td>No</td>\n",
              "      <td>Yes</td>\n",
              "      <td>No</td>\n",
              "      <td>Yes</td>\n",
              "      <td>...</td>\n",
              "      <td>34.000000</td>\n",
              "      <td>41.000000</td>\n",
              "      <td>183.000000</td>\n",
              "      <td>150.000000</td>\n",
              "      <td>7.100000</td>\n",
              "      <td>0.700000</td>\n",
              "      <td>1.0</td>\n",
              "      <td>3.5</td>\n",
              "      <td>0.50</td>\n",
              "      <td>Lives</td>\n",
              "    </tr>\n",
              "    <tr>\n",
              "      <th>1</th>\n",
              "      <td>Female</td>\n",
              "      <td>NaN</td>\n",
              "      <td>No</td>\n",
              "      <td>No</td>\n",
              "      <td>No</td>\n",
              "      <td>No</td>\n",
              "      <td>Yes</td>\n",
              "      <td>Yes</td>\n",
              "      <td>No</td>\n",
              "      <td>Yes</td>\n",
              "      <td>...</td>\n",
              "      <td>67.093168</td>\n",
              "      <td>96.382716</td>\n",
              "      <td>268.026543</td>\n",
              "      <td>212.211605</td>\n",
              "      <td>8.961039</td>\n",
              "      <td>1.127089</td>\n",
              "      <td>1.0</td>\n",
              "      <td>1.8</td>\n",
              "      <td>1.93</td>\n",
              "      <td>Lives</td>\n",
              "    </tr>\n",
              "    <tr>\n",
              "      <th>2</th>\n",
              "      <td>Male</td>\n",
              "      <td>No</td>\n",
              "      <td>Yes</td>\n",
              "      <td>Yes</td>\n",
              "      <td>No</td>\n",
              "      <td>Yes</td>\n",
              "      <td>No</td>\n",
              "      <td>Yes</td>\n",
              "      <td>No</td>\n",
              "      <td>Yes</td>\n",
              "      <td>...</td>\n",
              "      <td>58.000000</td>\n",
              "      <td>68.000000</td>\n",
              "      <td>202.000000</td>\n",
              "      <td>109.000000</td>\n",
              "      <td>7.000000</td>\n",
              "      <td>2.100000</td>\n",
              "      <td>5.0</td>\n",
              "      <td>13.0</td>\n",
              "      <td>0.10</td>\n",
              "      <td>Lives</td>\n",
              "    </tr>\n",
              "    <tr>\n",
              "      <th>3</th>\n",
              "      <td>Male</td>\n",
              "      <td>Yes</td>\n",
              "      <td>Yes</td>\n",
              "      <td>No</td>\n",
              "      <td>No</td>\n",
              "      <td>No</td>\n",
              "      <td>No</td>\n",
              "      <td>Yes</td>\n",
              "      <td>No</td>\n",
              "      <td>Yes</td>\n",
              "      <td>...</td>\n",
              "      <td>16.000000</td>\n",
              "      <td>64.000000</td>\n",
              "      <td>94.000000</td>\n",
              "      <td>174.000000</td>\n",
              "      <td>8.100000</td>\n",
              "      <td>1.110000</td>\n",
              "      <td>2.0</td>\n",
              "      <td>15.7</td>\n",
              "      <td>0.20</td>\n",
              "      <td>Dies</td>\n",
              "    </tr>\n",
              "    <tr>\n",
              "      <th>4</th>\n",
              "      <td>Male</td>\n",
              "      <td>Yes</td>\n",
              "      <td>Yes</td>\n",
              "      <td>Yes</td>\n",
              "      <td>No</td>\n",
              "      <td>Yes</td>\n",
              "      <td>No</td>\n",
              "      <td>Yes</td>\n",
              "      <td>No</td>\n",
              "      <td>Yes</td>\n",
              "      <td>...</td>\n",
              "      <td>147.000000</td>\n",
              "      <td>306.000000</td>\n",
              "      <td>173.000000</td>\n",
              "      <td>109.000000</td>\n",
              "      <td>6.900000</td>\n",
              "      <td>1.800000</td>\n",
              "      <td>1.0</td>\n",
              "      <td>9.0</td>\n",
              "      <td>1.93</td>\n",
              "      <td>Lives</td>\n",
              "    </tr>\n",
              "    <tr>\n",
              "      <th>...</th>\n",
              "      <td>...</td>\n",
              "      <td>...</td>\n",
              "      <td>...</td>\n",
              "      <td>...</td>\n",
              "      <td>...</td>\n",
              "      <td>...</td>\n",
              "      <td>...</td>\n",
              "      <td>...</td>\n",
              "      <td>...</td>\n",
              "      <td>...</td>\n",
              "      <td>...</td>\n",
              "      <td>...</td>\n",
              "      <td>...</td>\n",
              "      <td>...</td>\n",
              "      <td>...</td>\n",
              "      <td>...</td>\n",
              "      <td>...</td>\n",
              "      <td>...</td>\n",
              "      <td>...</td>\n",
              "      <td>...</td>\n",
              "      <td>...</td>\n",
              "    </tr>\n",
              "    <tr>\n",
              "      <th>160</th>\n",
              "      <td>Female</td>\n",
              "      <td>No</td>\n",
              "      <td>Yes</td>\n",
              "      <td>No</td>\n",
              "      <td>No</td>\n",
              "      <td>No</td>\n",
              "      <td>Yes</td>\n",
              "      <td>Yes</td>\n",
              "      <td>No</td>\n",
              "      <td>Yes</td>\n",
              "      <td>...</td>\n",
              "      <td>35.000000</td>\n",
              "      <td>40.000000</td>\n",
              "      <td>449.000000</td>\n",
              "      <td>109.000000</td>\n",
              "      <td>7.600000</td>\n",
              "      <td>0.700000</td>\n",
              "      <td>5.0</td>\n",
              "      <td>3.0</td>\n",
              "      <td>1.93</td>\n",
              "      <td>Lives</td>\n",
              "    </tr>\n",
              "    <tr>\n",
              "      <th>161</th>\n",
              "      <td>Female</td>\n",
              "      <td>Yes</td>\n",
              "      <td>No</td>\n",
              "      <td>No</td>\n",
              "      <td>No</td>\n",
              "      <td>No</td>\n",
              "      <td>No</td>\n",
              "      <td>Yes</td>\n",
              "      <td>No</td>\n",
              "      <td>No</td>\n",
              "      <td>...</td>\n",
              "      <td>50.000000</td>\n",
              "      <td>91.000000</td>\n",
              "      <td>147.000000</td>\n",
              "      <td>280.000000</td>\n",
              "      <td>6.700000</td>\n",
              "      <td>0.700000</td>\n",
              "      <td>1.0</td>\n",
              "      <td>2.2</td>\n",
              "      <td>2.30</td>\n",
              "      <td>Dies</td>\n",
              "    </tr>\n",
              "    <tr>\n",
              "      <th>162</th>\n",
              "      <td>Male</td>\n",
              "      <td>No</td>\n",
              "      <td>Yes</td>\n",
              "      <td>No</td>\n",
              "      <td>No</td>\n",
              "      <td>No</td>\n",
              "      <td>No</td>\n",
              "      <td>Yes</td>\n",
              "      <td>No</td>\n",
              "      <td>Yes</td>\n",
              "      <td>...</td>\n",
              "      <td>53.000000</td>\n",
              "      <td>52.000000</td>\n",
              "      <td>164.000000</td>\n",
              "      <td>181.000000</td>\n",
              "      <td>7.500000</td>\n",
              "      <td>1.460000</td>\n",
              "      <td>5.0</td>\n",
              "      <td>18.6</td>\n",
              "      <td>1.93</td>\n",
              "      <td>Lives</td>\n",
              "    </tr>\n",
              "    <tr>\n",
              "      <th>163</th>\n",
              "      <td>Male</td>\n",
              "      <td>No</td>\n",
              "      <td>Yes</td>\n",
              "      <td>Yes</td>\n",
              "      <td>No</td>\n",
              "      <td>Yes</td>\n",
              "      <td>Yes</td>\n",
              "      <td>Yes</td>\n",
              "      <td>Yes</td>\n",
              "      <td>Yes</td>\n",
              "      <td>...</td>\n",
              "      <td>50.000000</td>\n",
              "      <td>60.000000</td>\n",
              "      <td>320.000000</td>\n",
              "      <td>170.000000</td>\n",
              "      <td>8.400000</td>\n",
              "      <td>0.740000</td>\n",
              "      <td>5.0</td>\n",
              "      <td>18.0</td>\n",
              "      <td>1.93</td>\n",
              "      <td>Dies</td>\n",
              "    </tr>\n",
              "    <tr>\n",
              "      <th>164</th>\n",
              "      <td>Male</td>\n",
              "      <td>Yes</td>\n",
              "      <td>Yes</td>\n",
              "      <td>No</td>\n",
              "      <td>No</td>\n",
              "      <td>No</td>\n",
              "      <td>Yes</td>\n",
              "      <td>Yes</td>\n",
              "      <td>No</td>\n",
              "      <td>Yes</td>\n",
              "      <td>...</td>\n",
              "      <td>78.000000</td>\n",
              "      <td>127.000000</td>\n",
              "      <td>444.000000</td>\n",
              "      <td>462.000000</td>\n",
              "      <td>6.600000</td>\n",
              "      <td>3.950000</td>\n",
              "      <td>5.0</td>\n",
              "      <td>8.5</td>\n",
              "      <td>19.80</td>\n",
              "      <td>Dies</td>\n",
              "    </tr>\n",
              "  </tbody>\n",
              "</table>\n",
              "<p>165 rows × 47 columns</p>\n",
              "</div>\n",
              "    <div class=\"colab-df-buttons\">\n",
              "\n",
              "  <div class=\"colab-df-container\">\n",
              "    <button class=\"colab-df-convert\" onclick=\"convertToInteractive('df-a8a80b49-db12-4daa-afea-3986a9d029a9')\"\n",
              "            title=\"Convert this dataframe to an interactive table.\"\n",
              "            style=\"display:none;\">\n",
              "\n",
              "  <svg xmlns=\"http://www.w3.org/2000/svg\" height=\"24px\" viewBox=\"0 -960 960 960\">\n",
              "    <path d=\"M120-120v-720h720v720H120Zm60-500h600v-160H180v160Zm220 220h160v-160H400v160Zm0 220h160v-160H400v160ZM180-400h160v-160H180v160Zm440 0h160v-160H620v160ZM180-180h160v-160H180v160Zm440 0h160v-160H620v160Z\"/>\n",
              "  </svg>\n",
              "    </button>\n",
              "\n",
              "  <style>\n",
              "    .colab-df-container {\n",
              "      display:flex;\n",
              "      gap: 12px;\n",
              "    }\n",
              "\n",
              "    .colab-df-convert {\n",
              "      background-color: #E8F0FE;\n",
              "      border: none;\n",
              "      border-radius: 50%;\n",
              "      cursor: pointer;\n",
              "      display: none;\n",
              "      fill: #1967D2;\n",
              "      height: 32px;\n",
              "      padding: 0 0 0 0;\n",
              "      width: 32px;\n",
              "    }\n",
              "\n",
              "    .colab-df-convert:hover {\n",
              "      background-color: #E2EBFA;\n",
              "      box-shadow: 0px 1px 2px rgba(60, 64, 67, 0.3), 0px 1px 3px 1px rgba(60, 64, 67, 0.15);\n",
              "      fill: #174EA6;\n",
              "    }\n",
              "\n",
              "    .colab-df-buttons div {\n",
              "      margin-bottom: 4px;\n",
              "    }\n",
              "\n",
              "    [theme=dark] .colab-df-convert {\n",
              "      background-color: #3B4455;\n",
              "      fill: #D2E3FC;\n",
              "    }\n",
              "\n",
              "    [theme=dark] .colab-df-convert:hover {\n",
              "      background-color: #434B5C;\n",
              "      box-shadow: 0px 1px 3px 1px rgba(0, 0, 0, 0.15);\n",
              "      filter: drop-shadow(0px 1px 2px rgba(0, 0, 0, 0.3));\n",
              "      fill: #FFFFFF;\n",
              "    }\n",
              "  </style>\n",
              "\n",
              "    <script>\n",
              "      const buttonEl =\n",
              "        document.querySelector('#df-a8a80b49-db12-4daa-afea-3986a9d029a9 button.colab-df-convert');\n",
              "      buttonEl.style.display =\n",
              "        google.colab.kernel.accessAllowed ? 'block' : 'none';\n",
              "\n",
              "      async function convertToInteractive(key) {\n",
              "        const element = document.querySelector('#df-a8a80b49-db12-4daa-afea-3986a9d029a9');\n",
              "        const dataTable =\n",
              "          await google.colab.kernel.invokeFunction('convertToInteractive',\n",
              "                                                    [key], {});\n",
              "        if (!dataTable) return;\n",
              "\n",
              "        const docLinkHtml = 'Like what you see? Visit the ' +\n",
              "          '<a target=\"_blank\" href=https://colab.research.google.com/notebooks/data_table.ipynb>data table notebook</a>'\n",
              "          + ' to learn more about interactive tables.';\n",
              "        element.innerHTML = '';\n",
              "        dataTable['output_type'] = 'display_data';\n",
              "        await google.colab.output.renderOutput(dataTable, element);\n",
              "        const docLink = document.createElement('div');\n",
              "        docLink.innerHTML = docLinkHtml;\n",
              "        element.appendChild(docLink);\n",
              "      }\n",
              "    </script>\n",
              "  </div>\n",
              "\n",
              "\n",
              "<div id=\"df-d49d4e16-eed7-4ee0-a7a5-ad5fb245b93c\">\n",
              "  <button class=\"colab-df-quickchart\" onclick=\"quickchart('df-d49d4e16-eed7-4ee0-a7a5-ad5fb245b93c')\"\n",
              "            title=\"Suggest charts\"\n",
              "            style=\"display:none;\">\n",
              "\n",
              "<svg xmlns=\"http://www.w3.org/2000/svg\" height=\"24px\"viewBox=\"0 0 24 24\"\n",
              "     width=\"24px\">\n",
              "    <g>\n",
              "        <path d=\"M19 3H5c-1.1 0-2 .9-2 2v14c0 1.1.9 2 2 2h14c1.1 0 2-.9 2-2V5c0-1.1-.9-2-2-2zM9 17H7v-7h2v7zm4 0h-2V7h2v10zm4 0h-2v-4h2v4z\"/>\n",
              "    </g>\n",
              "</svg>\n",
              "  </button>\n",
              "\n",
              "<style>\n",
              "  .colab-df-quickchart {\n",
              "      --bg-color: #E8F0FE;\n",
              "      --fill-color: #1967D2;\n",
              "      --hover-bg-color: #E2EBFA;\n",
              "      --hover-fill-color: #174EA6;\n",
              "      --disabled-fill-color: #AAA;\n",
              "      --disabled-bg-color: #DDD;\n",
              "  }\n",
              "\n",
              "  [theme=dark] .colab-df-quickchart {\n",
              "      --bg-color: #3B4455;\n",
              "      --fill-color: #D2E3FC;\n",
              "      --hover-bg-color: #434B5C;\n",
              "      --hover-fill-color: #FFFFFF;\n",
              "      --disabled-bg-color: #3B4455;\n",
              "      --disabled-fill-color: #666;\n",
              "  }\n",
              "\n",
              "  .colab-df-quickchart {\n",
              "    background-color: var(--bg-color);\n",
              "    border: none;\n",
              "    border-radius: 50%;\n",
              "    cursor: pointer;\n",
              "    display: none;\n",
              "    fill: var(--fill-color);\n",
              "    height: 32px;\n",
              "    padding: 0;\n",
              "    width: 32px;\n",
              "  }\n",
              "\n",
              "  .colab-df-quickchart:hover {\n",
              "    background-color: var(--hover-bg-color);\n",
              "    box-shadow: 0 1px 2px rgba(60, 64, 67, 0.3), 0 1px 3px 1px rgba(60, 64, 67, 0.15);\n",
              "    fill: var(--button-hover-fill-color);\n",
              "  }\n",
              "\n",
              "  .colab-df-quickchart-complete:disabled,\n",
              "  .colab-df-quickchart-complete:disabled:hover {\n",
              "    background-color: var(--disabled-bg-color);\n",
              "    fill: var(--disabled-fill-color);\n",
              "    box-shadow: none;\n",
              "  }\n",
              "\n",
              "  .colab-df-spinner {\n",
              "    border: 2px solid var(--fill-color);\n",
              "    border-color: transparent;\n",
              "    border-bottom-color: var(--fill-color);\n",
              "    animation:\n",
              "      spin 1s steps(1) infinite;\n",
              "  }\n",
              "\n",
              "  @keyframes spin {\n",
              "    0% {\n",
              "      border-color: transparent;\n",
              "      border-bottom-color: var(--fill-color);\n",
              "      border-left-color: var(--fill-color);\n",
              "    }\n",
              "    20% {\n",
              "      border-color: transparent;\n",
              "      border-left-color: var(--fill-color);\n",
              "      border-top-color: var(--fill-color);\n",
              "    }\n",
              "    30% {\n",
              "      border-color: transparent;\n",
              "      border-left-color: var(--fill-color);\n",
              "      border-top-color: var(--fill-color);\n",
              "      border-right-color: var(--fill-color);\n",
              "    }\n",
              "    40% {\n",
              "      border-color: transparent;\n",
              "      border-right-color: var(--fill-color);\n",
              "      border-top-color: var(--fill-color);\n",
              "    }\n",
              "    60% {\n",
              "      border-color: transparent;\n",
              "      border-right-color: var(--fill-color);\n",
              "    }\n",
              "    80% {\n",
              "      border-color: transparent;\n",
              "      border-right-color: var(--fill-color);\n",
              "      border-bottom-color: var(--fill-color);\n",
              "    }\n",
              "    90% {\n",
              "      border-color: transparent;\n",
              "      border-bottom-color: var(--fill-color);\n",
              "    }\n",
              "  }\n",
              "</style>\n",
              "\n",
              "  <script>\n",
              "    async function quickchart(key) {\n",
              "      const quickchartButtonEl =\n",
              "        document.querySelector('#' + key + ' button');\n",
              "      quickchartButtonEl.disabled = true;  // To prevent multiple clicks.\n",
              "      quickchartButtonEl.classList.add('colab-df-spinner');\n",
              "      try {\n",
              "        const charts = await google.colab.kernel.invokeFunction(\n",
              "            'suggestCharts', [key], {});\n",
              "      } catch (error) {\n",
              "        console.error('Error during call to suggestCharts:', error);\n",
              "      }\n",
              "      quickchartButtonEl.classList.remove('colab-df-spinner');\n",
              "      quickchartButtonEl.classList.add('colab-df-quickchart-complete');\n",
              "    }\n",
              "    (() => {\n",
              "      let quickchartButtonEl =\n",
              "        document.querySelector('#df-d49d4e16-eed7-4ee0-a7a5-ad5fb245b93c button');\n",
              "      quickchartButtonEl.style.display =\n",
              "        google.colab.kernel.accessAllowed ? 'block' : 'none';\n",
              "    })();\n",
              "  </script>\n",
              "</div>\n",
              "    </div>\n",
              "  </div>\n"
            ],
            "application/vnd.google.colaboratory.intrinsic+json": {
              "type": "dataframe",
              "variable_name": "df"
            }
          },
          "metadata": {},
          "execution_count": 3348
        }
      ]
    },
    {
      "cell_type": "markdown",
      "source": [
        "Agora, só faltam as colunas \"Encephalopathy\" e \"Ascites\". Para essas, vamos substituir o valor nulo por \"NA\"."
      ],
      "metadata": {
        "id": "NigwyVppLusr"
      }
    },
    {
      "cell_type": "code",
      "source": [
        "df.isnull().sum()"
      ],
      "metadata": {
        "colab": {
          "base_uri": "https://localhost:8080/"
        },
        "id": "WTveqyT2R5BX",
        "outputId": "ecb5dd13-95f9-4f74-ac13-04c1d444c6d0"
      },
      "execution_count": null,
      "outputs": [
        {
          "output_type": "execute_result",
          "data": {
            "text/plain": [
              "Gender             0\n",
              "Symptoms          18\n",
              "Alcohol            0\n",
              "HBsAg              0\n",
              "HBeAg              0\n",
              "HBcAb              0\n",
              "HCVAb              0\n",
              "Cirrhosis          0\n",
              "Endemic            0\n",
              "Smoking            0\n",
              "Diabetes           0\n",
              "Obesity            0\n",
              "Hemochro           0\n",
              "AHT                0\n",
              "CRI                0\n",
              "HIV                0\n",
              "NASH               0\n",
              "Varices            0\n",
              "Spleno             0\n",
              "PHT                0\n",
              "PVT                0\n",
              "Metastasis         0\n",
              "Hallmark           0\n",
              "Age                0\n",
              "Grams_day          0\n",
              "Packs_year         0\n",
              "PS                 0\n",
              "Encephalopathy     0\n",
              "Ascites            0\n",
              "INR                0\n",
              "AFP                0\n",
              "Hemoglobin         0\n",
              "MCV                0\n",
              "Leucocytes         0\n",
              "Platelets          0\n",
              " Albumin           0\n",
              "Total_Bil          0\n",
              "ALT                0\n",
              "AST                0\n",
              "GGT                0\n",
              "ALP                0\n",
              "TP                 0\n",
              "Creatinine         0\n",
              "Nodules            0\n",
              "Major_Dim          0\n",
              "Dir_Bil            0\n",
              "Class              0\n",
              "dtype: int64"
            ]
          },
          "metadata": {},
          "execution_count": 3349
        }
      ]
    },
    {
      "cell_type": "markdown",
      "source": [
        "Agora, vamos verificar se todos os valores já foram devidamente substituídos:"
      ],
      "metadata": {
        "id": "yD_-JjBUJ6k_"
      }
    },
    {
      "cell_type": "code",
      "source": [
        "df.isnull().sum()"
      ],
      "metadata": {
        "id": "CDs9Eb_XJ2me",
        "colab": {
          "base_uri": "https://localhost:8080/"
        },
        "outputId": "0d116e3f-4252-4677-e1fa-21c4d1624a1b"
      },
      "execution_count": null,
      "outputs": [
        {
          "output_type": "execute_result",
          "data": {
            "text/plain": [
              "Gender             0\n",
              "Symptoms          18\n",
              "Alcohol            0\n",
              "HBsAg              0\n",
              "HBeAg              0\n",
              "HBcAb              0\n",
              "HCVAb              0\n",
              "Cirrhosis          0\n",
              "Endemic            0\n",
              "Smoking            0\n",
              "Diabetes           0\n",
              "Obesity            0\n",
              "Hemochro           0\n",
              "AHT                0\n",
              "CRI                0\n",
              "HIV                0\n",
              "NASH               0\n",
              "Varices            0\n",
              "Spleno             0\n",
              "PHT                0\n",
              "PVT                0\n",
              "Metastasis         0\n",
              "Hallmark           0\n",
              "Age                0\n",
              "Grams_day          0\n",
              "Packs_year         0\n",
              "PS                 0\n",
              "Encephalopathy     0\n",
              "Ascites            0\n",
              "INR                0\n",
              "AFP                0\n",
              "Hemoglobin         0\n",
              "MCV                0\n",
              "Leucocytes         0\n",
              "Platelets          0\n",
              " Albumin           0\n",
              "Total_Bil          0\n",
              "ALT                0\n",
              "AST                0\n",
              "GGT                0\n",
              "ALP                0\n",
              "TP                 0\n",
              "Creatinine         0\n",
              "Nodules            0\n",
              "Major_Dim          0\n",
              "Dir_Bil            0\n",
              "Class              0\n",
              "dtype: int64"
            ]
          },
          "metadata": {},
          "execution_count": 3350
        }
      ]
    },
    {
      "cell_type": "markdown",
      "source": [
        "\n",
        "Como podemos ver, não existe nenhum valor nulo em qualquer coluna, logo as substituições foram realizadas corretamente."
      ],
      "metadata": {
        "id": "n7k90NCMKHDJ"
      }
    },
    {
      "cell_type": "markdown",
      "source": [
        "### Guardar dados pré-processados\n",
        "\n",
        "Com os dados pré-processados, é essencial guardar uma cópia do documento neste novo estado."
      ],
      "metadata": {
        "id": "XI1GiJFNNFpm"
      }
    },
    {
      "cell_type": "code",
      "source": [
        "df.to_csv('hcc_dataset_clean.csv', index=False)\n",
        "\n",
        "df_clean = pd.read_csv('hcc_dataset_clean.csv')"
      ],
      "metadata": {
        "id": "cNuwisDLNRfs"
      },
      "execution_count": null,
      "outputs": []
    },
    {
      "cell_type": "markdown",
      "source": [
        "Agora temos uma cópia limpa dos nossos dados.\n",
        "\n",
        "---"
      ],
      "metadata": {
        "id": "sSi_khKINdZr"
      }
    },
    {
      "cell_type": "markdown",
      "source": [
        "## Modelação de dados\n",
        "[[voltar ao índice]](#Indice)\n",
        "\n",
        "Agora que os nossos dados se encontram organizados, vamos proceder à modelação."
      ],
      "metadata": {
        "id": "WMB770qdOMbu"
      }
    },
    {
      "cell_type": "markdown",
      "source": [
        "### Substituição por números\n",
        "\n",
        "Para ser possível a utilização da Decision Tree, é necessário substituir as 'strings' por 'integers'. Vamos ler a versão limpa do nosso ficheiro."
      ],
      "metadata": {
        "id": "1WDBQygHA_KL"
      }
    },
    {
      "cell_type": "code",
      "source": [
        "df_clean = pd.read_csv('hcc_dataset_clean.csv')"
      ],
      "metadata": {
        "id": "Q0NWc2HoOrcc"
      },
      "execution_count": null,
      "outputs": []
    },
    {
      "cell_type": "code",
      "source": [
        "inputs = df_clean.drop(\"Class\", axis=\"columns\")\n",
        "target = df_clean[[\"Class\"]]"
      ],
      "metadata": {
        "id": "8MSYFGaxP5jf"
      },
      "execution_count": null,
      "outputs": []
    },
    {
      "cell_type": "code",
      "source": [
        "for category in df_clean:\n",
        "  if category != \"Class\":\n",
        "    le_category = LabelEncoder()"
      ],
      "metadata": {
        "id": "zTOpNjnuQfwX"
      },
      "execution_count": null,
      "outputs": []
    },
    {
      "cell_type": "code",
      "source": [
        "categories_clean = []\n",
        "for category in df_clean:\n",
        "  if category != \"Class\":\n",
        "    categories_clean.append(category)\n",
        "print(categories_clean)"
      ],
      "metadata": {
        "id": "jDv8WB0PrUBF",
        "colab": {
          "base_uri": "https://localhost:8080/"
        },
        "outputId": "75bbaa32-2ac5-41fd-d32f-46bca27cb5c3"
      },
      "execution_count": null,
      "outputs": [
        {
          "output_type": "stream",
          "name": "stdout",
          "text": [
            "['Gender', 'Symptoms', 'Alcohol', 'HBsAg', 'HBeAg', 'HBcAb', 'HCVAb', 'Cirrhosis', 'Endemic', 'Smoking', 'Diabetes', 'Obesity', 'Hemochro', 'AHT', 'CRI', 'HIV', 'NASH', 'Varices', 'Spleno', 'PHT', 'PVT', 'Metastasis', 'Hallmark', 'Age', 'Grams_day', 'Packs_year', 'PS', 'Encephalopathy', 'Ascites', 'INR', 'AFP', 'Hemoglobin', 'MCV', 'Leucocytes', 'Platelets', ' Albumin', 'Total_Bil', 'ALT', 'AST', 'GGT', 'ALP', 'TP', 'Creatinine', 'Nodules', 'Major_Dim', 'Dir_Bil']\n"
          ]
        }
      ]
    },
    {
      "cell_type": "code",
      "source": [
        "for category in df_clean:\n",
        "  if category != \"Class\":\n",
        "    inputs[category + '_n'] = le_category.fit_transform(inputs[category])\n",
        "inputs.head()"
      ],
      "metadata": {
        "id": "6OgKYJPzQ-0s",
        "colab": {
          "base_uri": "https://localhost:8080/",
          "height": 235
        },
        "outputId": "16d0f60a-e0aa-4afe-b901-06d8d42682be"
      },
      "execution_count": null,
      "outputs": [
        {
          "output_type": "execute_result",
          "data": {
            "text/plain": [
              "   Gender Symptoms Alcohol HBsAg HBeAg HBcAb HCVAb Cirrhosis Endemic Smoking  \\\n",
              "0    Male       No     Yes    No    No    No    No       Yes      No     Yes   \n",
              "1  Female      NaN      No    No    No    No   Yes       Yes      No     Yes   \n",
              "2    Male       No     Yes   Yes    No   Yes    No       Yes      No     Yes   \n",
              "3    Male      Yes     Yes    No    No    No    No       Yes      No     Yes   \n",
              "4    Male      Yes     Yes   Yes    No   Yes    No       Yes      No     Yes   \n",
              "\n",
              "   ... Total_Bil_n ALT_n AST_n GGT_n ALP_n TP_n Creatinine_n Nodules_n  \\\n",
              "0  ...          20    20    17    64    49   22           18         1   \n",
              "1  ...          30    47    63    86    75   39           51         1   \n",
              "2  ...           2    39    43    72    30   21           72         6   \n",
              "3  ...           2     3    40    31    60   32           50         2   \n",
              "4  ...           5    81    99    58    30   20           69         1   \n",
              "\n",
              "  Major_Dim_n Dir_Bil_n  \n",
              "0          17         7  \n",
              "1           1        24  \n",
              "2          55         0  \n",
              "3          59         2  \n",
              "4          49        24  \n",
              "\n",
              "[5 rows x 92 columns]"
            ],
            "text/html": [
              "\n",
              "  <div id=\"df-b1f8d11e-1181-4cc0-b715-815c05a782bd\" class=\"colab-df-container\">\n",
              "    <div>\n",
              "<style scoped>\n",
              "    .dataframe tbody tr th:only-of-type {\n",
              "        vertical-align: middle;\n",
              "    }\n",
              "\n",
              "    .dataframe tbody tr th {\n",
              "        vertical-align: top;\n",
              "    }\n",
              "\n",
              "    .dataframe thead th {\n",
              "        text-align: right;\n",
              "    }\n",
              "</style>\n",
              "<table border=\"1\" class=\"dataframe\">\n",
              "  <thead>\n",
              "    <tr style=\"text-align: right;\">\n",
              "      <th></th>\n",
              "      <th>Gender</th>\n",
              "      <th>Symptoms</th>\n",
              "      <th>Alcohol</th>\n",
              "      <th>HBsAg</th>\n",
              "      <th>HBeAg</th>\n",
              "      <th>HBcAb</th>\n",
              "      <th>HCVAb</th>\n",
              "      <th>Cirrhosis</th>\n",
              "      <th>Endemic</th>\n",
              "      <th>Smoking</th>\n",
              "      <th>...</th>\n",
              "      <th>Total_Bil_n</th>\n",
              "      <th>ALT_n</th>\n",
              "      <th>AST_n</th>\n",
              "      <th>GGT_n</th>\n",
              "      <th>ALP_n</th>\n",
              "      <th>TP_n</th>\n",
              "      <th>Creatinine_n</th>\n",
              "      <th>Nodules_n</th>\n",
              "      <th>Major_Dim_n</th>\n",
              "      <th>Dir_Bil_n</th>\n",
              "    </tr>\n",
              "  </thead>\n",
              "  <tbody>\n",
              "    <tr>\n",
              "      <th>0</th>\n",
              "      <td>Male</td>\n",
              "      <td>No</td>\n",
              "      <td>Yes</td>\n",
              "      <td>No</td>\n",
              "      <td>No</td>\n",
              "      <td>No</td>\n",
              "      <td>No</td>\n",
              "      <td>Yes</td>\n",
              "      <td>No</td>\n",
              "      <td>Yes</td>\n",
              "      <td>...</td>\n",
              "      <td>20</td>\n",
              "      <td>20</td>\n",
              "      <td>17</td>\n",
              "      <td>64</td>\n",
              "      <td>49</td>\n",
              "      <td>22</td>\n",
              "      <td>18</td>\n",
              "      <td>1</td>\n",
              "      <td>17</td>\n",
              "      <td>7</td>\n",
              "    </tr>\n",
              "    <tr>\n",
              "      <th>1</th>\n",
              "      <td>Female</td>\n",
              "      <td>NaN</td>\n",
              "      <td>No</td>\n",
              "      <td>No</td>\n",
              "      <td>No</td>\n",
              "      <td>No</td>\n",
              "      <td>Yes</td>\n",
              "      <td>Yes</td>\n",
              "      <td>No</td>\n",
              "      <td>Yes</td>\n",
              "      <td>...</td>\n",
              "      <td>30</td>\n",
              "      <td>47</td>\n",
              "      <td>63</td>\n",
              "      <td>86</td>\n",
              "      <td>75</td>\n",
              "      <td>39</td>\n",
              "      <td>51</td>\n",
              "      <td>1</td>\n",
              "      <td>1</td>\n",
              "      <td>24</td>\n",
              "    </tr>\n",
              "    <tr>\n",
              "      <th>2</th>\n",
              "      <td>Male</td>\n",
              "      <td>No</td>\n",
              "      <td>Yes</td>\n",
              "      <td>Yes</td>\n",
              "      <td>No</td>\n",
              "      <td>Yes</td>\n",
              "      <td>No</td>\n",
              "      <td>Yes</td>\n",
              "      <td>No</td>\n",
              "      <td>Yes</td>\n",
              "      <td>...</td>\n",
              "      <td>2</td>\n",
              "      <td>39</td>\n",
              "      <td>43</td>\n",
              "      <td>72</td>\n",
              "      <td>30</td>\n",
              "      <td>21</td>\n",
              "      <td>72</td>\n",
              "      <td>6</td>\n",
              "      <td>55</td>\n",
              "      <td>0</td>\n",
              "    </tr>\n",
              "    <tr>\n",
              "      <th>3</th>\n",
              "      <td>Male</td>\n",
              "      <td>Yes</td>\n",
              "      <td>Yes</td>\n",
              "      <td>No</td>\n",
              "      <td>No</td>\n",
              "      <td>No</td>\n",
              "      <td>No</td>\n",
              "      <td>Yes</td>\n",
              "      <td>No</td>\n",
              "      <td>Yes</td>\n",
              "      <td>...</td>\n",
              "      <td>2</td>\n",
              "      <td>3</td>\n",
              "      <td>40</td>\n",
              "      <td>31</td>\n",
              "      <td>60</td>\n",
              "      <td>32</td>\n",
              "      <td>50</td>\n",
              "      <td>2</td>\n",
              "      <td>59</td>\n",
              "      <td>2</td>\n",
              "    </tr>\n",
              "    <tr>\n",
              "      <th>4</th>\n",
              "      <td>Male</td>\n",
              "      <td>Yes</td>\n",
              "      <td>Yes</td>\n",
              "      <td>Yes</td>\n",
              "      <td>No</td>\n",
              "      <td>Yes</td>\n",
              "      <td>No</td>\n",
              "      <td>Yes</td>\n",
              "      <td>No</td>\n",
              "      <td>Yes</td>\n",
              "      <td>...</td>\n",
              "      <td>5</td>\n",
              "      <td>81</td>\n",
              "      <td>99</td>\n",
              "      <td>58</td>\n",
              "      <td>30</td>\n",
              "      <td>20</td>\n",
              "      <td>69</td>\n",
              "      <td>1</td>\n",
              "      <td>49</td>\n",
              "      <td>24</td>\n",
              "    </tr>\n",
              "  </tbody>\n",
              "</table>\n",
              "<p>5 rows × 92 columns</p>\n",
              "</div>\n",
              "    <div class=\"colab-df-buttons\">\n",
              "\n",
              "  <div class=\"colab-df-container\">\n",
              "    <button class=\"colab-df-convert\" onclick=\"convertToInteractive('df-b1f8d11e-1181-4cc0-b715-815c05a782bd')\"\n",
              "            title=\"Convert this dataframe to an interactive table.\"\n",
              "            style=\"display:none;\">\n",
              "\n",
              "  <svg xmlns=\"http://www.w3.org/2000/svg\" height=\"24px\" viewBox=\"0 -960 960 960\">\n",
              "    <path d=\"M120-120v-720h720v720H120Zm60-500h600v-160H180v160Zm220 220h160v-160H400v160Zm0 220h160v-160H400v160ZM180-400h160v-160H180v160Zm440 0h160v-160H620v160ZM180-180h160v-160H180v160Zm440 0h160v-160H620v160Z\"/>\n",
              "  </svg>\n",
              "    </button>\n",
              "\n",
              "  <style>\n",
              "    .colab-df-container {\n",
              "      display:flex;\n",
              "      gap: 12px;\n",
              "    }\n",
              "\n",
              "    .colab-df-convert {\n",
              "      background-color: #E8F0FE;\n",
              "      border: none;\n",
              "      border-radius: 50%;\n",
              "      cursor: pointer;\n",
              "      display: none;\n",
              "      fill: #1967D2;\n",
              "      height: 32px;\n",
              "      padding: 0 0 0 0;\n",
              "      width: 32px;\n",
              "    }\n",
              "\n",
              "    .colab-df-convert:hover {\n",
              "      background-color: #E2EBFA;\n",
              "      box-shadow: 0px 1px 2px rgba(60, 64, 67, 0.3), 0px 1px 3px 1px rgba(60, 64, 67, 0.15);\n",
              "      fill: #174EA6;\n",
              "    }\n",
              "\n",
              "    .colab-df-buttons div {\n",
              "      margin-bottom: 4px;\n",
              "    }\n",
              "\n",
              "    [theme=dark] .colab-df-convert {\n",
              "      background-color: #3B4455;\n",
              "      fill: #D2E3FC;\n",
              "    }\n",
              "\n",
              "    [theme=dark] .colab-df-convert:hover {\n",
              "      background-color: #434B5C;\n",
              "      box-shadow: 0px 1px 3px 1px rgba(0, 0, 0, 0.15);\n",
              "      filter: drop-shadow(0px 1px 2px rgba(0, 0, 0, 0.3));\n",
              "      fill: #FFFFFF;\n",
              "    }\n",
              "  </style>\n",
              "\n",
              "    <script>\n",
              "      const buttonEl =\n",
              "        document.querySelector('#df-b1f8d11e-1181-4cc0-b715-815c05a782bd button.colab-df-convert');\n",
              "      buttonEl.style.display =\n",
              "        google.colab.kernel.accessAllowed ? 'block' : 'none';\n",
              "\n",
              "      async function convertToInteractive(key) {\n",
              "        const element = document.querySelector('#df-b1f8d11e-1181-4cc0-b715-815c05a782bd');\n",
              "        const dataTable =\n",
              "          await google.colab.kernel.invokeFunction('convertToInteractive',\n",
              "                                                    [key], {});\n",
              "        if (!dataTable) return;\n",
              "\n",
              "        const docLinkHtml = 'Like what you see? Visit the ' +\n",
              "          '<a target=\"_blank\" href=https://colab.research.google.com/notebooks/data_table.ipynb>data table notebook</a>'\n",
              "          + ' to learn more about interactive tables.';\n",
              "        element.innerHTML = '';\n",
              "        dataTable['output_type'] = 'display_data';\n",
              "        await google.colab.output.renderOutput(dataTable, element);\n",
              "        const docLink = document.createElement('div');\n",
              "        docLink.innerHTML = docLinkHtml;\n",
              "        element.appendChild(docLink);\n",
              "      }\n",
              "    </script>\n",
              "  </div>\n",
              "\n",
              "\n",
              "<div id=\"df-94482bea-1e54-49bc-af25-8675615e6cd6\">\n",
              "  <button class=\"colab-df-quickchart\" onclick=\"quickchart('df-94482bea-1e54-49bc-af25-8675615e6cd6')\"\n",
              "            title=\"Suggest charts\"\n",
              "            style=\"display:none;\">\n",
              "\n",
              "<svg xmlns=\"http://www.w3.org/2000/svg\" height=\"24px\"viewBox=\"0 0 24 24\"\n",
              "     width=\"24px\">\n",
              "    <g>\n",
              "        <path d=\"M19 3H5c-1.1 0-2 .9-2 2v14c0 1.1.9 2 2 2h14c1.1 0 2-.9 2-2V5c0-1.1-.9-2-2-2zM9 17H7v-7h2v7zm4 0h-2V7h2v10zm4 0h-2v-4h2v4z\"/>\n",
              "    </g>\n",
              "</svg>\n",
              "  </button>\n",
              "\n",
              "<style>\n",
              "  .colab-df-quickchart {\n",
              "      --bg-color: #E8F0FE;\n",
              "      --fill-color: #1967D2;\n",
              "      --hover-bg-color: #E2EBFA;\n",
              "      --hover-fill-color: #174EA6;\n",
              "      --disabled-fill-color: #AAA;\n",
              "      --disabled-bg-color: #DDD;\n",
              "  }\n",
              "\n",
              "  [theme=dark] .colab-df-quickchart {\n",
              "      --bg-color: #3B4455;\n",
              "      --fill-color: #D2E3FC;\n",
              "      --hover-bg-color: #434B5C;\n",
              "      --hover-fill-color: #FFFFFF;\n",
              "      --disabled-bg-color: #3B4455;\n",
              "      --disabled-fill-color: #666;\n",
              "  }\n",
              "\n",
              "  .colab-df-quickchart {\n",
              "    background-color: var(--bg-color);\n",
              "    border: none;\n",
              "    border-radius: 50%;\n",
              "    cursor: pointer;\n",
              "    display: none;\n",
              "    fill: var(--fill-color);\n",
              "    height: 32px;\n",
              "    padding: 0;\n",
              "    width: 32px;\n",
              "  }\n",
              "\n",
              "  .colab-df-quickchart:hover {\n",
              "    background-color: var(--hover-bg-color);\n",
              "    box-shadow: 0 1px 2px rgba(60, 64, 67, 0.3), 0 1px 3px 1px rgba(60, 64, 67, 0.15);\n",
              "    fill: var(--button-hover-fill-color);\n",
              "  }\n",
              "\n",
              "  .colab-df-quickchart-complete:disabled,\n",
              "  .colab-df-quickchart-complete:disabled:hover {\n",
              "    background-color: var(--disabled-bg-color);\n",
              "    fill: var(--disabled-fill-color);\n",
              "    box-shadow: none;\n",
              "  }\n",
              "\n",
              "  .colab-df-spinner {\n",
              "    border: 2px solid var(--fill-color);\n",
              "    border-color: transparent;\n",
              "    border-bottom-color: var(--fill-color);\n",
              "    animation:\n",
              "      spin 1s steps(1) infinite;\n",
              "  }\n",
              "\n",
              "  @keyframes spin {\n",
              "    0% {\n",
              "      border-color: transparent;\n",
              "      border-bottom-color: var(--fill-color);\n",
              "      border-left-color: var(--fill-color);\n",
              "    }\n",
              "    20% {\n",
              "      border-color: transparent;\n",
              "      border-left-color: var(--fill-color);\n",
              "      border-top-color: var(--fill-color);\n",
              "    }\n",
              "    30% {\n",
              "      border-color: transparent;\n",
              "      border-left-color: var(--fill-color);\n",
              "      border-top-color: var(--fill-color);\n",
              "      border-right-color: var(--fill-color);\n",
              "    }\n",
              "    40% {\n",
              "      border-color: transparent;\n",
              "      border-right-color: var(--fill-color);\n",
              "      border-top-color: var(--fill-color);\n",
              "    }\n",
              "    60% {\n",
              "      border-color: transparent;\n",
              "      border-right-color: var(--fill-color);\n",
              "    }\n",
              "    80% {\n",
              "      border-color: transparent;\n",
              "      border-right-color: var(--fill-color);\n",
              "      border-bottom-color: var(--fill-color);\n",
              "    }\n",
              "    90% {\n",
              "      border-color: transparent;\n",
              "      border-bottom-color: var(--fill-color);\n",
              "    }\n",
              "  }\n",
              "</style>\n",
              "\n",
              "  <script>\n",
              "    async function quickchart(key) {\n",
              "      const quickchartButtonEl =\n",
              "        document.querySelector('#' + key + ' button');\n",
              "      quickchartButtonEl.disabled = true;  // To prevent multiple clicks.\n",
              "      quickchartButtonEl.classList.add('colab-df-spinner');\n",
              "      try {\n",
              "        const charts = await google.colab.kernel.invokeFunction(\n",
              "            'suggestCharts', [key], {});\n",
              "      } catch (error) {\n",
              "        console.error('Error during call to suggestCharts:', error);\n",
              "      }\n",
              "      quickchartButtonEl.classList.remove('colab-df-spinner');\n",
              "      quickchartButtonEl.classList.add('colab-df-quickchart-complete');\n",
              "    }\n",
              "    (() => {\n",
              "      let quickchartButtonEl =\n",
              "        document.querySelector('#df-94482bea-1e54-49bc-af25-8675615e6cd6 button');\n",
              "      quickchartButtonEl.style.display =\n",
              "        google.colab.kernel.accessAllowed ? 'block' : 'none';\n",
              "    })();\n",
              "  </script>\n",
              "</div>\n",
              "    </div>\n",
              "  </div>\n"
            ],
            "application/vnd.google.colaboratory.intrinsic+json": {
              "type": "dataframe",
              "variable_name": "inputs"
            }
          },
          "metadata": {},
          "execution_count": 3356
        }
      ]
    },
    {
      "cell_type": "code",
      "source": [
        "inputs_n = inputs.copy()\n",
        "\n",
        "for category in categories_clean:\n",
        "  if category != \"Class\":\n",
        "    inputs_n = inputs_n.drop(category, axis=\"columns\")\n",
        "inputs_n.head()"
      ],
      "metadata": {
        "id": "yUH7NaB-qonR",
        "colab": {
          "base_uri": "https://localhost:8080/",
          "height": 255
        },
        "outputId": "450ab489-4e46-4a37-ae9c-c2021ca1934b"
      },
      "execution_count": null,
      "outputs": [
        {
          "output_type": "execute_result",
          "data": {
            "text/plain": [
              "   Gender_n  Symptoms_n  Alcohol_n  HBsAg_n  HBeAg_n  HBcAb_n  HCVAb_n  \\\n",
              "0         1           0          1        0        0        0        0   \n",
              "1         0           2          0        0        0        0        1   \n",
              "2         1           0          1        1        0        1        0   \n",
              "3         1           1          1        0        0        0        0   \n",
              "4         1           1          1        1        0        1        0   \n",
              "\n",
              "   Cirrhosis_n  Endemic_n  Smoking_n  ...  Total_Bil_n  ALT_n  AST_n  GGT_n  \\\n",
              "0            1          0          1  ...           20     20     17     64   \n",
              "1            1          0          1  ...           30     47     63     86   \n",
              "2            1          0          1  ...            2     39     43     72   \n",
              "3            1          0          1  ...            2      3     40     31   \n",
              "4            1          0          1  ...            5     81     99     58   \n",
              "\n",
              "   ALP_n  TP_n  Creatinine_n  Nodules_n  Major_Dim_n  Dir_Bil_n  \n",
              "0     49    22            18          1           17          7  \n",
              "1     75    39            51          1            1         24  \n",
              "2     30    21            72          6           55          0  \n",
              "3     60    32            50          2           59          2  \n",
              "4     30    20            69          1           49         24  \n",
              "\n",
              "[5 rows x 46 columns]"
            ],
            "text/html": [
              "\n",
              "  <div id=\"df-026e1afe-e39a-4a71-af77-d07e30dd5bd8\" class=\"colab-df-container\">\n",
              "    <div>\n",
              "<style scoped>\n",
              "    .dataframe tbody tr th:only-of-type {\n",
              "        vertical-align: middle;\n",
              "    }\n",
              "\n",
              "    .dataframe tbody tr th {\n",
              "        vertical-align: top;\n",
              "    }\n",
              "\n",
              "    .dataframe thead th {\n",
              "        text-align: right;\n",
              "    }\n",
              "</style>\n",
              "<table border=\"1\" class=\"dataframe\">\n",
              "  <thead>\n",
              "    <tr style=\"text-align: right;\">\n",
              "      <th></th>\n",
              "      <th>Gender_n</th>\n",
              "      <th>Symptoms_n</th>\n",
              "      <th>Alcohol_n</th>\n",
              "      <th>HBsAg_n</th>\n",
              "      <th>HBeAg_n</th>\n",
              "      <th>HBcAb_n</th>\n",
              "      <th>HCVAb_n</th>\n",
              "      <th>Cirrhosis_n</th>\n",
              "      <th>Endemic_n</th>\n",
              "      <th>Smoking_n</th>\n",
              "      <th>...</th>\n",
              "      <th>Total_Bil_n</th>\n",
              "      <th>ALT_n</th>\n",
              "      <th>AST_n</th>\n",
              "      <th>GGT_n</th>\n",
              "      <th>ALP_n</th>\n",
              "      <th>TP_n</th>\n",
              "      <th>Creatinine_n</th>\n",
              "      <th>Nodules_n</th>\n",
              "      <th>Major_Dim_n</th>\n",
              "      <th>Dir_Bil_n</th>\n",
              "    </tr>\n",
              "  </thead>\n",
              "  <tbody>\n",
              "    <tr>\n",
              "      <th>0</th>\n",
              "      <td>1</td>\n",
              "      <td>0</td>\n",
              "      <td>1</td>\n",
              "      <td>0</td>\n",
              "      <td>0</td>\n",
              "      <td>0</td>\n",
              "      <td>0</td>\n",
              "      <td>1</td>\n",
              "      <td>0</td>\n",
              "      <td>1</td>\n",
              "      <td>...</td>\n",
              "      <td>20</td>\n",
              "      <td>20</td>\n",
              "      <td>17</td>\n",
              "      <td>64</td>\n",
              "      <td>49</td>\n",
              "      <td>22</td>\n",
              "      <td>18</td>\n",
              "      <td>1</td>\n",
              "      <td>17</td>\n",
              "      <td>7</td>\n",
              "    </tr>\n",
              "    <tr>\n",
              "      <th>1</th>\n",
              "      <td>0</td>\n",
              "      <td>2</td>\n",
              "      <td>0</td>\n",
              "      <td>0</td>\n",
              "      <td>0</td>\n",
              "      <td>0</td>\n",
              "      <td>1</td>\n",
              "      <td>1</td>\n",
              "      <td>0</td>\n",
              "      <td>1</td>\n",
              "      <td>...</td>\n",
              "      <td>30</td>\n",
              "      <td>47</td>\n",
              "      <td>63</td>\n",
              "      <td>86</td>\n",
              "      <td>75</td>\n",
              "      <td>39</td>\n",
              "      <td>51</td>\n",
              "      <td>1</td>\n",
              "      <td>1</td>\n",
              "      <td>24</td>\n",
              "    </tr>\n",
              "    <tr>\n",
              "      <th>2</th>\n",
              "      <td>1</td>\n",
              "      <td>0</td>\n",
              "      <td>1</td>\n",
              "      <td>1</td>\n",
              "      <td>0</td>\n",
              "      <td>1</td>\n",
              "      <td>0</td>\n",
              "      <td>1</td>\n",
              "      <td>0</td>\n",
              "      <td>1</td>\n",
              "      <td>...</td>\n",
              "      <td>2</td>\n",
              "      <td>39</td>\n",
              "      <td>43</td>\n",
              "      <td>72</td>\n",
              "      <td>30</td>\n",
              "      <td>21</td>\n",
              "      <td>72</td>\n",
              "      <td>6</td>\n",
              "      <td>55</td>\n",
              "      <td>0</td>\n",
              "    </tr>\n",
              "    <tr>\n",
              "      <th>3</th>\n",
              "      <td>1</td>\n",
              "      <td>1</td>\n",
              "      <td>1</td>\n",
              "      <td>0</td>\n",
              "      <td>0</td>\n",
              "      <td>0</td>\n",
              "      <td>0</td>\n",
              "      <td>1</td>\n",
              "      <td>0</td>\n",
              "      <td>1</td>\n",
              "      <td>...</td>\n",
              "      <td>2</td>\n",
              "      <td>3</td>\n",
              "      <td>40</td>\n",
              "      <td>31</td>\n",
              "      <td>60</td>\n",
              "      <td>32</td>\n",
              "      <td>50</td>\n",
              "      <td>2</td>\n",
              "      <td>59</td>\n",
              "      <td>2</td>\n",
              "    </tr>\n",
              "    <tr>\n",
              "      <th>4</th>\n",
              "      <td>1</td>\n",
              "      <td>1</td>\n",
              "      <td>1</td>\n",
              "      <td>1</td>\n",
              "      <td>0</td>\n",
              "      <td>1</td>\n",
              "      <td>0</td>\n",
              "      <td>1</td>\n",
              "      <td>0</td>\n",
              "      <td>1</td>\n",
              "      <td>...</td>\n",
              "      <td>5</td>\n",
              "      <td>81</td>\n",
              "      <td>99</td>\n",
              "      <td>58</td>\n",
              "      <td>30</td>\n",
              "      <td>20</td>\n",
              "      <td>69</td>\n",
              "      <td>1</td>\n",
              "      <td>49</td>\n",
              "      <td>24</td>\n",
              "    </tr>\n",
              "  </tbody>\n",
              "</table>\n",
              "<p>5 rows × 46 columns</p>\n",
              "</div>\n",
              "    <div class=\"colab-df-buttons\">\n",
              "\n",
              "  <div class=\"colab-df-container\">\n",
              "    <button class=\"colab-df-convert\" onclick=\"convertToInteractive('df-026e1afe-e39a-4a71-af77-d07e30dd5bd8')\"\n",
              "            title=\"Convert this dataframe to an interactive table.\"\n",
              "            style=\"display:none;\">\n",
              "\n",
              "  <svg xmlns=\"http://www.w3.org/2000/svg\" height=\"24px\" viewBox=\"0 -960 960 960\">\n",
              "    <path d=\"M120-120v-720h720v720H120Zm60-500h600v-160H180v160Zm220 220h160v-160H400v160Zm0 220h160v-160H400v160ZM180-400h160v-160H180v160Zm440 0h160v-160H620v160ZM180-180h160v-160H180v160Zm440 0h160v-160H620v160Z\"/>\n",
              "  </svg>\n",
              "    </button>\n",
              "\n",
              "  <style>\n",
              "    .colab-df-container {\n",
              "      display:flex;\n",
              "      gap: 12px;\n",
              "    }\n",
              "\n",
              "    .colab-df-convert {\n",
              "      background-color: #E8F0FE;\n",
              "      border: none;\n",
              "      border-radius: 50%;\n",
              "      cursor: pointer;\n",
              "      display: none;\n",
              "      fill: #1967D2;\n",
              "      height: 32px;\n",
              "      padding: 0 0 0 0;\n",
              "      width: 32px;\n",
              "    }\n",
              "\n",
              "    .colab-df-convert:hover {\n",
              "      background-color: #E2EBFA;\n",
              "      box-shadow: 0px 1px 2px rgba(60, 64, 67, 0.3), 0px 1px 3px 1px rgba(60, 64, 67, 0.15);\n",
              "      fill: #174EA6;\n",
              "    }\n",
              "\n",
              "    .colab-df-buttons div {\n",
              "      margin-bottom: 4px;\n",
              "    }\n",
              "\n",
              "    [theme=dark] .colab-df-convert {\n",
              "      background-color: #3B4455;\n",
              "      fill: #D2E3FC;\n",
              "    }\n",
              "\n",
              "    [theme=dark] .colab-df-convert:hover {\n",
              "      background-color: #434B5C;\n",
              "      box-shadow: 0px 1px 3px 1px rgba(0, 0, 0, 0.15);\n",
              "      filter: drop-shadow(0px 1px 2px rgba(0, 0, 0, 0.3));\n",
              "      fill: #FFFFFF;\n",
              "    }\n",
              "  </style>\n",
              "\n",
              "    <script>\n",
              "      const buttonEl =\n",
              "        document.querySelector('#df-026e1afe-e39a-4a71-af77-d07e30dd5bd8 button.colab-df-convert');\n",
              "      buttonEl.style.display =\n",
              "        google.colab.kernel.accessAllowed ? 'block' : 'none';\n",
              "\n",
              "      async function convertToInteractive(key) {\n",
              "        const element = document.querySelector('#df-026e1afe-e39a-4a71-af77-d07e30dd5bd8');\n",
              "        const dataTable =\n",
              "          await google.colab.kernel.invokeFunction('convertToInteractive',\n",
              "                                                    [key], {});\n",
              "        if (!dataTable) return;\n",
              "\n",
              "        const docLinkHtml = 'Like what you see? Visit the ' +\n",
              "          '<a target=\"_blank\" href=https://colab.research.google.com/notebooks/data_table.ipynb>data table notebook</a>'\n",
              "          + ' to learn more about interactive tables.';\n",
              "        element.innerHTML = '';\n",
              "        dataTable['output_type'] = 'display_data';\n",
              "        await google.colab.output.renderOutput(dataTable, element);\n",
              "        const docLink = document.createElement('div');\n",
              "        docLink.innerHTML = docLinkHtml;\n",
              "        element.appendChild(docLink);\n",
              "      }\n",
              "    </script>\n",
              "  </div>\n",
              "\n",
              "\n",
              "<div id=\"df-26209048-7190-4d7c-b1df-eee7d9bc5768\">\n",
              "  <button class=\"colab-df-quickchart\" onclick=\"quickchart('df-26209048-7190-4d7c-b1df-eee7d9bc5768')\"\n",
              "            title=\"Suggest charts\"\n",
              "            style=\"display:none;\">\n",
              "\n",
              "<svg xmlns=\"http://www.w3.org/2000/svg\" height=\"24px\"viewBox=\"0 0 24 24\"\n",
              "     width=\"24px\">\n",
              "    <g>\n",
              "        <path d=\"M19 3H5c-1.1 0-2 .9-2 2v14c0 1.1.9 2 2 2h14c1.1 0 2-.9 2-2V5c0-1.1-.9-2-2-2zM9 17H7v-7h2v7zm4 0h-2V7h2v10zm4 0h-2v-4h2v4z\"/>\n",
              "    </g>\n",
              "</svg>\n",
              "  </button>\n",
              "\n",
              "<style>\n",
              "  .colab-df-quickchart {\n",
              "      --bg-color: #E8F0FE;\n",
              "      --fill-color: #1967D2;\n",
              "      --hover-bg-color: #E2EBFA;\n",
              "      --hover-fill-color: #174EA6;\n",
              "      --disabled-fill-color: #AAA;\n",
              "      --disabled-bg-color: #DDD;\n",
              "  }\n",
              "\n",
              "  [theme=dark] .colab-df-quickchart {\n",
              "      --bg-color: #3B4455;\n",
              "      --fill-color: #D2E3FC;\n",
              "      --hover-bg-color: #434B5C;\n",
              "      --hover-fill-color: #FFFFFF;\n",
              "      --disabled-bg-color: #3B4455;\n",
              "      --disabled-fill-color: #666;\n",
              "  }\n",
              "\n",
              "  .colab-df-quickchart {\n",
              "    background-color: var(--bg-color);\n",
              "    border: none;\n",
              "    border-radius: 50%;\n",
              "    cursor: pointer;\n",
              "    display: none;\n",
              "    fill: var(--fill-color);\n",
              "    height: 32px;\n",
              "    padding: 0;\n",
              "    width: 32px;\n",
              "  }\n",
              "\n",
              "  .colab-df-quickchart:hover {\n",
              "    background-color: var(--hover-bg-color);\n",
              "    box-shadow: 0 1px 2px rgba(60, 64, 67, 0.3), 0 1px 3px 1px rgba(60, 64, 67, 0.15);\n",
              "    fill: var(--button-hover-fill-color);\n",
              "  }\n",
              "\n",
              "  .colab-df-quickchart-complete:disabled,\n",
              "  .colab-df-quickchart-complete:disabled:hover {\n",
              "    background-color: var(--disabled-bg-color);\n",
              "    fill: var(--disabled-fill-color);\n",
              "    box-shadow: none;\n",
              "  }\n",
              "\n",
              "  .colab-df-spinner {\n",
              "    border: 2px solid var(--fill-color);\n",
              "    border-color: transparent;\n",
              "    border-bottom-color: var(--fill-color);\n",
              "    animation:\n",
              "      spin 1s steps(1) infinite;\n",
              "  }\n",
              "\n",
              "  @keyframes spin {\n",
              "    0% {\n",
              "      border-color: transparent;\n",
              "      border-bottom-color: var(--fill-color);\n",
              "      border-left-color: var(--fill-color);\n",
              "    }\n",
              "    20% {\n",
              "      border-color: transparent;\n",
              "      border-left-color: var(--fill-color);\n",
              "      border-top-color: var(--fill-color);\n",
              "    }\n",
              "    30% {\n",
              "      border-color: transparent;\n",
              "      border-left-color: var(--fill-color);\n",
              "      border-top-color: var(--fill-color);\n",
              "      border-right-color: var(--fill-color);\n",
              "    }\n",
              "    40% {\n",
              "      border-color: transparent;\n",
              "      border-right-color: var(--fill-color);\n",
              "      border-top-color: var(--fill-color);\n",
              "    }\n",
              "    60% {\n",
              "      border-color: transparent;\n",
              "      border-right-color: var(--fill-color);\n",
              "    }\n",
              "    80% {\n",
              "      border-color: transparent;\n",
              "      border-right-color: var(--fill-color);\n",
              "      border-bottom-color: var(--fill-color);\n",
              "    }\n",
              "    90% {\n",
              "      border-color: transparent;\n",
              "      border-bottom-color: var(--fill-color);\n",
              "    }\n",
              "  }\n",
              "</style>\n",
              "\n",
              "  <script>\n",
              "    async function quickchart(key) {\n",
              "      const quickchartButtonEl =\n",
              "        document.querySelector('#' + key + ' button');\n",
              "      quickchartButtonEl.disabled = true;  // To prevent multiple clicks.\n",
              "      quickchartButtonEl.classList.add('colab-df-spinner');\n",
              "      try {\n",
              "        const charts = await google.colab.kernel.invokeFunction(\n",
              "            'suggestCharts', [key], {});\n",
              "      } catch (error) {\n",
              "        console.error('Error during call to suggestCharts:', error);\n",
              "      }\n",
              "      quickchartButtonEl.classList.remove('colab-df-spinner');\n",
              "      quickchartButtonEl.classList.add('colab-df-quickchart-complete');\n",
              "    }\n",
              "    (() => {\n",
              "      let quickchartButtonEl =\n",
              "        document.querySelector('#df-26209048-7190-4d7c-b1df-eee7d9bc5768 button');\n",
              "      quickchartButtonEl.style.display =\n",
              "        google.colab.kernel.accessAllowed ? 'block' : 'none';\n",
              "    })();\n",
              "  </script>\n",
              "</div>\n",
              "    </div>\n",
              "  </div>\n"
            ],
            "application/vnd.google.colaboratory.intrinsic+json": {
              "type": "dataframe",
              "variable_name": "inputs_n"
            }
          },
          "metadata": {},
          "execution_count": 3357
        }
      ]
    },
    {
      "cell_type": "markdown",
      "source": [
        "Agora, os dados estão prontos para serem utilizados pelos algoritmos, nomeadamente pela Decision Tree e K-NN em vários testes realizados.\n",
        "\n",
        "---"
      ],
      "metadata": {
        "id": "BF5H1NJstmCu"
      }
    },
    {
      "cell_type": "markdown",
      "source": [
        "## Algoritmos"
      ],
      "metadata": {
        "id": "Tg0yxcQvxsL8"
      }
    },
    {
      "cell_type": "markdown",
      "source": [
        "Em primeiro lugar, criou-se uma função que permite automatizar o processo do cálculo da média do score de cada algoritmo."
      ],
      "metadata": {
        "id": "UTJf9YdrdFJr"
      }
    },
    {
      "cell_type": "code",
      "source": [
        "def mean_score(X_test, y_test, it):\n",
        "  mean_score = 0\n",
        "  mean_time = 0\n",
        "  for i in range(0, it - 1):\n",
        "    time_i = time.time()\n",
        "    test_score = model.score(X_test, y_test)\n",
        "    time_f = time.time()\n",
        "    execution_time = time_f - time_i\n",
        "    mean_score += test_score\n",
        "    mean_time += execution_time\n",
        "  mean_score /= it\n",
        "  mean_time /= it\n",
        "  return \"test score: {}\".format(mean_score), \"execution time: {}\".format(mean_time)"
      ],
      "metadata": {
        "id": "pC68e65VbXNV"
      },
      "execution_count": null,
      "outputs": []
    },
    {
      "cell_type": "markdown",
      "source": [
        "### Teste 1"
      ],
      "metadata": {
        "id": "upVB3xWBVCr3"
      }
    },
    {
      "cell_type": "markdown",
      "source": [
        "Decision Tree"
      ],
      "metadata": {
        "id": "MQdYAdhiVIg2"
      }
    },
    {
      "cell_type": "code",
      "source": [
        "# split data\n",
        "X_train, X_test, y_train, y_test = train_test_split(inputs_n, target, test_size= 0.2, random_state= 42)"
      ],
      "metadata": {
        "id": "2Ez1iSYRyEVF"
      },
      "execution_count": null,
      "outputs": []
    },
    {
      "cell_type": "code",
      "source": [
        "# initialize and train the model\n",
        "model = tree.DecisionTreeClassifier()\n",
        "model.fit(X_train, y_train)"
      ],
      "metadata": {
        "id": "Tv3wqXAIyjvk",
        "colab": {
          "base_uri": "https://localhost:8080/"
        },
        "outputId": "7ed2b0d6-d8ba-4456-aa26-9bdf23c8e3be"
      },
      "execution_count": null,
      "outputs": [
        {
          "output_type": "execute_result",
          "data": {
            "text/plain": [
              "DecisionTreeClassifier()"
            ],
            "text/html": [
              "<style>#sk-container-id-248 {color: black;background-color: white;}#sk-container-id-248 pre{padding: 0;}#sk-container-id-248 div.sk-toggleable {background-color: white;}#sk-container-id-248 label.sk-toggleable__label {cursor: pointer;display: block;width: 100%;margin-bottom: 0;padding: 0.3em;box-sizing: border-box;text-align: center;}#sk-container-id-248 label.sk-toggleable__label-arrow:before {content: \"▸\";float: left;margin-right: 0.25em;color: #696969;}#sk-container-id-248 label.sk-toggleable__label-arrow:hover:before {color: black;}#sk-container-id-248 div.sk-estimator:hover label.sk-toggleable__label-arrow:before {color: black;}#sk-container-id-248 div.sk-toggleable__content {max-height: 0;max-width: 0;overflow: hidden;text-align: left;background-color: #f0f8ff;}#sk-container-id-248 div.sk-toggleable__content pre {margin: 0.2em;color: black;border-radius: 0.25em;background-color: #f0f8ff;}#sk-container-id-248 input.sk-toggleable__control:checked~div.sk-toggleable__content {max-height: 200px;max-width: 100%;overflow: auto;}#sk-container-id-248 input.sk-toggleable__control:checked~label.sk-toggleable__label-arrow:before {content: \"▾\";}#sk-container-id-248 div.sk-estimator input.sk-toggleable__control:checked~label.sk-toggleable__label {background-color: #d4ebff;}#sk-container-id-248 div.sk-label input.sk-toggleable__control:checked~label.sk-toggleable__label {background-color: #d4ebff;}#sk-container-id-248 input.sk-hidden--visually {border: 0;clip: rect(1px 1px 1px 1px);clip: rect(1px, 1px, 1px, 1px);height: 1px;margin: -1px;overflow: hidden;padding: 0;position: absolute;width: 1px;}#sk-container-id-248 div.sk-estimator {font-family: monospace;background-color: #f0f8ff;border: 1px dotted black;border-radius: 0.25em;box-sizing: border-box;margin-bottom: 0.5em;}#sk-container-id-248 div.sk-estimator:hover {background-color: #d4ebff;}#sk-container-id-248 div.sk-parallel-item::after {content: \"\";width: 100%;border-bottom: 1px solid gray;flex-grow: 1;}#sk-container-id-248 div.sk-label:hover label.sk-toggleable__label {background-color: #d4ebff;}#sk-container-id-248 div.sk-serial::before {content: \"\";position: absolute;border-left: 1px solid gray;box-sizing: border-box;top: 0;bottom: 0;left: 50%;z-index: 0;}#sk-container-id-248 div.sk-serial {display: flex;flex-direction: column;align-items: center;background-color: white;padding-right: 0.2em;padding-left: 0.2em;position: relative;}#sk-container-id-248 div.sk-item {position: relative;z-index: 1;}#sk-container-id-248 div.sk-parallel {display: flex;align-items: stretch;justify-content: center;background-color: white;position: relative;}#sk-container-id-248 div.sk-item::before, #sk-container-id-248 div.sk-parallel-item::before {content: \"\";position: absolute;border-left: 1px solid gray;box-sizing: border-box;top: 0;bottom: 0;left: 50%;z-index: -1;}#sk-container-id-248 div.sk-parallel-item {display: flex;flex-direction: column;z-index: 1;position: relative;background-color: white;}#sk-container-id-248 div.sk-parallel-item:first-child::after {align-self: flex-end;width: 50%;}#sk-container-id-248 div.sk-parallel-item:last-child::after {align-self: flex-start;width: 50%;}#sk-container-id-248 div.sk-parallel-item:only-child::after {width: 0;}#sk-container-id-248 div.sk-dashed-wrapped {border: 1px dashed gray;margin: 0 0.4em 0.5em 0.4em;box-sizing: border-box;padding-bottom: 0.4em;background-color: white;}#sk-container-id-248 div.sk-label label {font-family: monospace;font-weight: bold;display: inline-block;line-height: 1.2em;}#sk-container-id-248 div.sk-label-container {text-align: center;}#sk-container-id-248 div.sk-container {/* jupyter's `normalize.less` sets `[hidden] { display: none; }` but bootstrap.min.css set `[hidden] { display: none !important; }` so we also need the `!important` here to be able to override the default hidden behavior on the sphinx rendered scikit-learn.org. See: https://github.com/scikit-learn/scikit-learn/issues/21755 */display: inline-block !important;position: relative;}#sk-container-id-248 div.sk-text-repr-fallback {display: none;}</style><div id=\"sk-container-id-248\" class=\"sk-top-container\"><div class=\"sk-text-repr-fallback\"><pre>DecisionTreeClassifier()</pre><b>In a Jupyter environment, please rerun this cell to show the HTML representation or trust the notebook. <br />On GitHub, the HTML representation is unable to render, please try loading this page with nbviewer.org.</b></div><div class=\"sk-container\" hidden><div class=\"sk-item\"><div class=\"sk-estimator sk-toggleable\"><input class=\"sk-toggleable__control sk-hidden--visually\" id=\"sk-estimator-id-248\" type=\"checkbox\" checked><label for=\"sk-estimator-id-248\" class=\"sk-toggleable__label sk-toggleable__label-arrow\">DecisionTreeClassifier</label><div class=\"sk-toggleable__content\"><pre>DecisionTreeClassifier()</pre></div></div></div></div></div>"
            ]
          },
          "metadata": {},
          "execution_count": 3360
        }
      ]
    },
    {
      "cell_type": "code",
      "source": [
        "# evaluate the model\n",
        "time_i = time.time()\n",
        "train_score = model.score(X_train, y_train)\n",
        "test_score = model.score(X_test, y_test)\n",
        "time_f = time.time()\n",
        "execution_time = time_f - time_i\n",
        "print('train score:', train_score)\n",
        "print('test score:', test_score)\n",
        "print('execution time:', execution_time)"
      ],
      "metadata": {
        "id": "CuO5HoNRz5Rt",
        "colab": {
          "base_uri": "https://localhost:8080/"
        },
        "outputId": "fa3e5275-e287-4a04-d15e-3a1106561ad3"
      },
      "execution_count": null,
      "outputs": [
        {
          "output_type": "stream",
          "name": "stdout",
          "text": [
            "train score: 1.0\n",
            "test score: 0.5757575757575758\n",
            "execution time: 0.027758121490478516\n"
          ]
        }
      ]
    },
    {
      "cell_type": "code",
      "source": [
        "mean_score(X_test, y_test, 100)"
      ],
      "metadata": {
        "colab": {
          "base_uri": "https://localhost:8080/"
        },
        "id": "h88ENbqjdCQ2",
        "outputId": "3f8fc8a8-c208-440a-da3c-5f541c00f051"
      },
      "execution_count": null,
      "outputs": [
        {
          "output_type": "execute_result",
          "data": {
            "text/plain": [
              "('test score: 0.5700000000000006', 'execution time: 0.007835195064544678')"
            ]
          },
          "metadata": {},
          "execution_count": 3362
        }
      ]
    },
    {
      "cell_type": "code",
      "source": [
        "# additional evaluation metrics\n",
        "time_i = time.time()\n",
        "y_pred = model.predict(X_test)\n",
        "acc = accuracy_score(y_test, y_pred)\n",
        "conf_matrix = confusion_matrix(y_test, y_pred)\n",
        "classi_report = classification_report(y_test, y_pred)\n",
        "time_f = time.time()\n",
        "execution_time = time_f - time_i\n",
        "print('accuracy score:', acc)\n",
        "print('confusion matrix:\\n', conf_matrix)\n",
        "print('classification report:\\n', classi_report)\n",
        "print('execution time:', execution_time)"
      ],
      "metadata": {
        "id": "-Kqs7Fv80M5g",
        "colab": {
          "base_uri": "https://localhost:8080/"
        },
        "outputId": "bed8a3c1-891f-4105-c203-93c04cd34707"
      },
      "execution_count": null,
      "outputs": [
        {
          "output_type": "stream",
          "name": "stdout",
          "text": [
            "accuracy score: 0.5757575757575758\n",
            "confusion matrix:\n",
            " [[ 8  5]\n",
            " [ 9 11]]\n",
            "classification report:\n",
            "               precision    recall  f1-score   support\n",
            "\n",
            "        Dies       0.47      0.62      0.53        13\n",
            "       Lives       0.69      0.55      0.61        20\n",
            "\n",
            "    accuracy                           0.58        33\n",
            "   macro avg       0.58      0.58      0.57        33\n",
            "weighted avg       0.60      0.58      0.58        33\n",
            "\n",
            "execution time: 0.026528358459472656\n"
          ]
        }
      ]
    },
    {
      "cell_type": "code",
      "source": [
        "model_accuracies_dt = []\n",
        "\n",
        "for repetition in range(100):\n",
        "    inputs_train, inputs_test, target_train, target_test = train_test_split(inputs_n,target,test_size=0.15,random_state=42)\n",
        "\n",
        "    dt_classifier = DecisionTreeClassifier()\n",
        "    dt_classifier.fit(inputs_test, target_test)\n",
        "    dt_classifier_accuracy = dt_classifier.score(inputs_train, target_train)\n",
        "    model_accuracies_dt.append(dt_classifier_accuracy)\n",
        "\n",
        "fig, ax = plt.subplots()\n",
        "\n",
        "plt.hist(model_accuracies_dt, label ='Decision Tree', color = \"deepskyblue\")\n",
        "plt.title('Accuracy decision tree average score: {}'.format(np.average(dt_classifier_accuracy)));\n",
        "plt.legend()\n",
        "plt.show()"
      ],
      "metadata": {
        "colab": {
          "base_uri": "https://localhost:8080/"
        },
        "id": "S-mQ8pTx8SD0",
        "outputId": "20d6a031-f1b2-4b4a-c76c-244c305de2f5"
      },
      "execution_count": null,
      "outputs": [
        {
          "output_type": "display_data",
          "data": {
            "text/plain": [
              "<Figure size 640x480 with 1 Axes>"
            ],
            "image/png": "[encoded data removed]"
          },
          "metadata": {}
        }
      ]
    },
    {
      "cell_type": "markdown",
      "source": [
        "K-NN"
      ],
      "metadata": {
        "id": "_fIcmo7K59aR"
      }
    },
    {
      "cell_type": "code",
      "source": [
        "# split the data\n",
        "X_train, X_test, y_train, y_test = train_test_split(inputs_n, target, test_size=0.2, random_state=42)"
      ],
      "metadata": {
        "id": "SG9VSGUU5_Pm"
      },
      "execution_count": null,
      "outputs": []
    },
    {
      "cell_type": "code",
      "source": [
        "# initializing and train the model\n",
        "k = 5\n",
        "model = KNeighborsClassifier(n_neighbors = k)\n",
        "model.fit(X_train, y_train)"
      ],
      "metadata": {
        "id": "r2crgiM06vFC",
        "colab": {
          "base_uri": "https://localhost:8080/"
        },
        "outputId": "cbd75483-1e7f-46ba-ee0d-2394eb1119ff"
      },
      "execution_count": null,
      "outputs": [
        {
          "output_type": "stream",
          "name": "stderr",
          "text": [
            "/usr/local/lib/python3.10/dist-packages/sklearn/neighbors/_classification.py:215: DataConversionWarning: A column-vector y was passed when a 1d array was expected. Please change the shape of y to (n_samples,), for example using ravel().\n",
            "  return self._fit(X, y)\n"
          ]
        },
        {
          "output_type": "execute_result",
          "data": {
            "text/plain": [
              "KNeighborsClassifier()"
            ],
            "text/html": [
              "<style>#sk-container-id-249 {color: black;background-color: white;}#sk-container-id-249 pre{padding: 0;}#sk-container-id-249 div.sk-toggleable {background-color: white;}#sk-container-id-249 label.sk-toggleable__label {cursor: pointer;display: block;width: 100%;margin-bottom: 0;padding: 0.3em;box-sizing: border-box;text-align: center;}#sk-container-id-249 label.sk-toggleable__label-arrow:before {content: \"▸\";float: left;margin-right: 0.25em;color: #696969;}#sk-container-id-249 label.sk-toggleable__label-arrow:hover:before {color: black;}#sk-container-id-249 div.sk-estimator:hover label.sk-toggleable__label-arrow:before {color: black;}#sk-container-id-249 div.sk-toggleable__content {max-height: 0;max-width: 0;overflow: hidden;text-align: left;background-color: #f0f8ff;}#sk-container-id-249 div.sk-toggleable__content pre {margin: 0.2em;color: black;border-radius: 0.25em;background-color: #f0f8ff;}#sk-container-id-249 input.sk-toggleable__control:checked~div.sk-toggleable__content {max-height: 200px;max-width: 100%;overflow: auto;}#sk-container-id-249 input.sk-toggleable__control:checked~label.sk-toggleable__label-arrow:before {content: \"▾\";}#sk-container-id-249 div.sk-estimator input.sk-toggleable__control:checked~label.sk-toggleable__label {background-color: #d4ebff;}#sk-container-id-249 div.sk-label input.sk-toggleable__control:checked~label.sk-toggleable__label {background-color: #d4ebff;}#sk-container-id-249 input.sk-hidden--visually {border: 0;clip: rect(1px 1px 1px 1px);clip: rect(1px, 1px, 1px, 1px);height: 1px;margin: -1px;overflow: hidden;padding: 0;position: absolute;width: 1px;}#sk-container-id-249 div.sk-estimator {font-family: monospace;background-color: #f0f8ff;border: 1px dotted black;border-radius: 0.25em;box-sizing: border-box;margin-bottom: 0.5em;}#sk-container-id-249 div.sk-estimator:hover {background-color: #d4ebff;}#sk-container-id-249 div.sk-parallel-item::after {content: \"\";width: 100%;border-bottom: 1px solid gray;flex-grow: 1;}#sk-container-id-249 div.sk-label:hover label.sk-toggleable__label {background-color: #d4ebff;}#sk-container-id-249 div.sk-serial::before {content: \"\";position: absolute;border-left: 1px solid gray;box-sizing: border-box;top: 0;bottom: 0;left: 50%;z-index: 0;}#sk-container-id-249 div.sk-serial {display: flex;flex-direction: column;align-items: center;background-color: white;padding-right: 0.2em;padding-left: 0.2em;position: relative;}#sk-container-id-249 div.sk-item {position: relative;z-index: 1;}#sk-container-id-249 div.sk-parallel {display: flex;align-items: stretch;justify-content: center;background-color: white;position: relative;}#sk-container-id-249 div.sk-item::before, #sk-container-id-249 div.sk-parallel-item::before {content: \"\";position: absolute;border-left: 1px solid gray;box-sizing: border-box;top: 0;bottom: 0;left: 50%;z-index: -1;}#sk-container-id-249 div.sk-parallel-item {display: flex;flex-direction: column;z-index: 1;position: relative;background-color: white;}#sk-container-id-249 div.sk-parallel-item:first-child::after {align-self: flex-end;width: 50%;}#sk-container-id-249 div.sk-parallel-item:last-child::after {align-self: flex-start;width: 50%;}#sk-container-id-249 div.sk-parallel-item:only-child::after {width: 0;}#sk-container-id-249 div.sk-dashed-wrapped {border: 1px dashed gray;margin: 0 0.4em 0.5em 0.4em;box-sizing: border-box;padding-bottom: 0.4em;background-color: white;}#sk-container-id-249 div.sk-label label {font-family: monospace;font-weight: bold;display: inline-block;line-height: 1.2em;}#sk-container-id-249 div.sk-label-container {text-align: center;}#sk-container-id-249 div.sk-container {/* jupyter's `normalize.less` sets `[hidden] { display: none; }` but bootstrap.min.css set `[hidden] { display: none !important; }` so we also need the `!important` here to be able to override the default hidden behavior on the sphinx rendered scikit-learn.org. See: https://github.com/scikit-learn/scikit-learn/issues/21755 */display: inline-block !important;position: relative;}#sk-container-id-249 div.sk-text-repr-fallback {display: none;}</style><div id=\"sk-container-id-249\" class=\"sk-top-container\"><div class=\"sk-text-repr-fallback\"><pre>KNeighborsClassifier()</pre><b>In a Jupyter environment, please rerun this cell to show the HTML representation or trust the notebook. <br />On GitHub, the HTML representation is unable to render, please try loading this page with nbviewer.org.</b></div><div class=\"sk-container\" hidden><div class=\"sk-item\"><div class=\"sk-estimator sk-toggleable\"><input class=\"sk-toggleable__control sk-hidden--visually\" id=\"sk-estimator-id-249\" type=\"checkbox\" checked><label for=\"sk-estimator-id-249\" class=\"sk-toggleable__label sk-toggleable__label-arrow\">KNeighborsClassifier</label><div class=\"sk-toggleable__content\"><pre>KNeighborsClassifier()</pre></div></div></div></div></div>"
            ]
          },
          "metadata": {},
          "execution_count": 3366
        }
      ]
    },
    {
      "cell_type": "code",
      "source": [
        "# evaluate the model\n",
        "time_i = time.time()\n",
        "train_score = model.score(X_train, y_train)\n",
        "test_score = model.score(X_test, y_test)\n",
        "time_f = time.time()\n",
        "execution_time = time_f - time_i\n",
        "print('train score:', train_score)\n",
        "print('test score:', test_score)\n",
        "print('execution time:', execution_time)"
      ],
      "metadata": {
        "id": "3flAygsv7DJr",
        "colab": {
          "base_uri": "https://localhost:8080/"
        },
        "outputId": "a469b5f6-d15d-4286-f4c4-ee1c5c044ed3"
      },
      "execution_count": null,
      "outputs": [
        {
          "output_type": "stream",
          "name": "stdout",
          "text": [
            "train score: 0.8181818181818182\n",
            "test score: 0.7272727272727273\n",
            "execution time: 0.033776283264160156\n"
          ]
        }
      ]
    },
    {
      "cell_type": "code",
      "source": [
        "mean_score(X_test, y_test, 100)"
      ],
      "metadata": {
        "colab": {
          "base_uri": "https://localhost:8080/"
        },
        "id": "lCKrXehBCPol",
        "outputId": "239a55ff-c781-4d30-bd1e-ca648dfdaaa8"
      },
      "execution_count": null,
      "outputs": [
        {
          "output_type": "execute_result",
          "data": {
            "text/plain": [
              "('test score: 0.7200000000000003', 'execution time: 0.008448400497436524')"
            ]
          },
          "metadata": {},
          "execution_count": 3368
        }
      ]
    },
    {
      "cell_type": "code",
      "source": [
        "# additional evaluation metrics\n",
        "time_i = time.time()\n",
        "y_pred = model.predict(X_test)\n",
        "acc = accuracy_score(y_test, y_pred)\n",
        "conf_matrix = confusion_matrix(y_test, y_pred)\n",
        "classi_report = classification_report(y_test, y_pred)\n",
        "time_f = time.time()\n",
        "execution_time = time_f - time_i\n",
        "print('accuracy score:', acc)\n",
        "print('confusion matrix:\\n', conf_matrix)\n",
        "print('classification report:\\n', classi_report)\n",
        "print('execution time:', execution_time)"
      ],
      "metadata": {
        "id": "-rTVpIOF7pQJ",
        "colab": {
          "base_uri": "https://localhost:8080/"
        },
        "outputId": "7b9ee5cf-4fba-4b05-ff5b-3e38c450c609"
      },
      "execution_count": null,
      "outputs": [
        {
          "output_type": "stream",
          "name": "stdout",
          "text": [
            "accuracy score: 0.7272727272727273\n",
            "confusion matrix:\n",
            " [[ 7  6]\n",
            " [ 3 17]]\n",
            "classification report:\n",
            "               precision    recall  f1-score   support\n",
            "\n",
            "        Dies       0.70      0.54      0.61        13\n",
            "       Lives       0.74      0.85      0.79        20\n",
            "\n",
            "    accuracy                           0.73        33\n",
            "   macro avg       0.72      0.69      0.70        33\n",
            "weighted avg       0.72      0.73      0.72        33\n",
            "\n",
            "execution time: 0.027424097061157227\n"
          ]
        }
      ]
    },
    {
      "cell_type": "code",
      "source": [
        "model_accuracies_knn = []\n",
        "\n",
        "for repetition in range(100):\n",
        "    inputs_train, inputs_test, target_train, target_test = train_test_split(inputs_n,target,test_size=0.15,random_state=42)\n",
        "\n",
        "    knn_classifier = KNeighborsClassifier()\n",
        "    knn_classifier.fit(inputs_train, target_train.values.ravel())\n",
        "    knn_classifier_accuracy = knn_classifier.score(inputs_test, target_test.values.ravel())\n",
        "    model_accuracies_knn.append(knn_classifier_accuracy)\n",
        "\n",
        "plt.hist(model_accuracies_knn, label='KNN', color= 'pink')\n",
        "plt.title('Accuracy knn average score: {}'.format(np.average(knn_classifier_accuracy)));\n",
        "plt.legend()\n",
        "plt.show()"
      ],
      "metadata": {
        "colab": {
          "base_uri": "https://localhost:8080/"
        },
        "id": "W9oEh8djEG1m",
        "outputId": "dbdfd278-1e80-44df-8bda-3695788a2542"
      },
      "execution_count": null,
      "outputs": [
        {
          "output_type": "display_data",
          "data": {
            "text/plain": [
              "<Figure size 640x480 with 1 Axes>"
            ],
            "image/png": "[encoded data removed]"
          },
          "metadata": {}
        }
      ]
    },
    {
      "cell_type": "markdown",
      "source": [
        "### Teste 2"
      ],
      "metadata": {
        "id": "PtkY5Q8xjLbf"
      }
    },
    {
      "cell_type": "code",
      "source": [
        "inputs_n2 = copy.deepcopy(inputs_n)\n",
        "\n",
        "for category in df_clean:\n",
        "  if unknown_cat[category] > 40:\n",
        "    del inputs_n2[category + \"_n\"]\n",
        "inputs_n2.shape"
      ],
      "metadata": {
        "colab": {
          "base_uri": "https://localhost:8080/"
        },
        "outputId": "f7eef698-d2d8-4dfb-dc17-5ca43effa078",
        "id": "3KBhKbmrwEZ9"
      },
      "execution_count": null,
      "outputs": [
        {
          "output_type": "execute_result",
          "data": {
            "text/plain": [
              "(165, 41)"
            ]
          },
          "metadata": {},
          "execution_count": 3371
        }
      ]
    },
    {
      "cell_type": "markdown",
      "source": [
        "Decision Tree"
      ],
      "metadata": {
        "id": "lnpOgXVaCFOy"
      }
    },
    {
      "cell_type": "code",
      "source": [
        "# split data\n",
        "X_train, X_test, y_train, y_test = train_test_split(inputs_n2, target, test_size= 0.2, random_state= 42)"
      ],
      "metadata": {
        "id": "WB2FgxA1CCYI"
      },
      "execution_count": null,
      "outputs": []
    },
    {
      "cell_type": "code",
      "source": [
        "# initialize and train the model\n",
        "model = tree.DecisionTreeClassifier()\n",
        "model.fit(X_train, y_train)"
      ],
      "metadata": {
        "colab": {
          "base_uri": "https://localhost:8080/"
        },
        "id": "SGTNQi_oCP8E",
        "outputId": "34414508-4729-460a-a705-29632cbda558"
      },
      "execution_count": null,
      "outputs": [
        {
          "output_type": "execute_result",
          "data": {
            "text/plain": [
              "DecisionTreeClassifier()"
            ],
            "text/html": [
              "<style>#sk-container-id-250 {color: black;background-color: white;}#sk-container-id-250 pre{padding: 0;}#sk-container-id-250 div.sk-toggleable {background-color: white;}#sk-container-id-250 label.sk-toggleable__label {cursor: pointer;display: block;width: 100%;margin-bottom: 0;padding: 0.3em;box-sizing: border-box;text-align: center;}#sk-container-id-250 label.sk-toggleable__label-arrow:before {content: \"▸\";float: left;margin-right: 0.25em;color: #696969;}#sk-container-id-250 label.sk-toggleable__label-arrow:hover:before {color: black;}#sk-container-id-250 div.sk-estimator:hover label.sk-toggleable__label-arrow:before {color: black;}#sk-container-id-250 div.sk-toggleable__content {max-height: 0;max-width: 0;overflow: hidden;text-align: left;background-color: #f0f8ff;}#sk-container-id-250 div.sk-toggleable__content pre {margin: 0.2em;color: black;border-radius: 0.25em;background-color: #f0f8ff;}#sk-container-id-250 input.sk-toggleable__control:checked~div.sk-toggleable__content {max-height: 200px;max-width: 100%;overflow: auto;}#sk-container-id-250 input.sk-toggleable__control:checked~label.sk-toggleable__label-arrow:before {content: \"▾\";}#sk-container-id-250 div.sk-estimator input.sk-toggleable__control:checked~label.sk-toggleable__label {background-color: #d4ebff;}#sk-container-id-250 div.sk-label input.sk-toggleable__control:checked~label.sk-toggleable__label {background-color: #d4ebff;}#sk-container-id-250 input.sk-hidden--visually {border: 0;clip: rect(1px 1px 1px 1px);clip: rect(1px, 1px, 1px, 1px);height: 1px;margin: -1px;overflow: hidden;padding: 0;position: absolute;width: 1px;}#sk-container-id-250 div.sk-estimator {font-family: monospace;background-color: #f0f8ff;border: 1px dotted black;border-radius: 0.25em;box-sizing: border-box;margin-bottom: 0.5em;}#sk-container-id-250 div.sk-estimator:hover {background-color: #d4ebff;}#sk-container-id-250 div.sk-parallel-item::after {content: \"\";width: 100%;border-bottom: 1px solid gray;flex-grow: 1;}#sk-container-id-250 div.sk-label:hover label.sk-toggleable__label {background-color: #d4ebff;}#sk-container-id-250 div.sk-serial::before {content: \"\";position: absolute;border-left: 1px solid gray;box-sizing: border-box;top: 0;bottom: 0;left: 50%;z-index: 0;}#sk-container-id-250 div.sk-serial {display: flex;flex-direction: column;align-items: center;background-color: white;padding-right: 0.2em;padding-left: 0.2em;position: relative;}#sk-container-id-250 div.sk-item {position: relative;z-index: 1;}#sk-container-id-250 div.sk-parallel {display: flex;align-items: stretch;justify-content: center;background-color: white;position: relative;}#sk-container-id-250 div.sk-item::before, #sk-container-id-250 div.sk-parallel-item::before {content: \"\";position: absolute;border-left: 1px solid gray;box-sizing: border-box;top: 0;bottom: 0;left: 50%;z-index: -1;}#sk-container-id-250 div.sk-parallel-item {display: flex;flex-direction: column;z-index: 1;position: relative;background-color: white;}#sk-container-id-250 div.sk-parallel-item:first-child::after {align-self: flex-end;width: 50%;}#sk-container-id-250 div.sk-parallel-item:last-child::after {align-self: flex-start;width: 50%;}#sk-container-id-250 div.sk-parallel-item:only-child::after {width: 0;}#sk-container-id-250 div.sk-dashed-wrapped {border: 1px dashed gray;margin: 0 0.4em 0.5em 0.4em;box-sizing: border-box;padding-bottom: 0.4em;background-color: white;}#sk-container-id-250 div.sk-label label {font-family: monospace;font-weight: bold;display: inline-block;line-height: 1.2em;}#sk-container-id-250 div.sk-label-container {text-align: center;}#sk-container-id-250 div.sk-container {/* jupyter's `normalize.less` sets `[hidden] { display: none; }` but bootstrap.min.css set `[hidden] { display: none !important; }` so we also need the `!important` here to be able to override the default hidden behavior on the sphinx rendered scikit-learn.org. See: https://github.com/scikit-learn/scikit-learn/issues/21755 */display: inline-block !important;position: relative;}#sk-container-id-250 div.sk-text-repr-fallback {display: none;}</style><div id=\"sk-container-id-250\" class=\"sk-top-container\"><div class=\"sk-text-repr-fallback\"><pre>DecisionTreeClassifier()</pre><b>In a Jupyter environment, please rerun this cell to show the HTML representation or trust the notebook. <br />On GitHub, the HTML representation is unable to render, please try loading this page with nbviewer.org.</b></div><div class=\"sk-container\" hidden><div class=\"sk-item\"><div class=\"sk-estimator sk-toggleable\"><input class=\"sk-toggleable__control sk-hidden--visually\" id=\"sk-estimator-id-250\" type=\"checkbox\" checked><label for=\"sk-estimator-id-250\" class=\"sk-toggleable__label sk-toggleable__label-arrow\">DecisionTreeClassifier</label><div class=\"sk-toggleable__content\"><pre>DecisionTreeClassifier()</pre></div></div></div></div></div>"
            ]
          },
          "metadata": {},
          "execution_count": 3373
        }
      ]
    },
    {
      "cell_type": "code",
      "source": [
        "# evaluate the model\n",
        "time_i = time.time()\n",
        "train_score = model.score(X_train, y_train)\n",
        "test_score = model.score(X_test, y_test)\n",
        "time_f = time.time()\n",
        "execution_time = time_f - time_i\n",
        "print('train score:', train_score)\n",
        "print('test score:', test_score)\n",
        "print('execution time:', execution_time)"
      ],
      "metadata": {
        "colab": {
          "base_uri": "https://localhost:8080/"
        },
        "id": "c6efdm4_CT3i",
        "outputId": "b6034f02-df93-494a-cbb6-a84481ad2b99"
      },
      "execution_count": null,
      "outputs": [
        {
          "output_type": "stream",
          "name": "stdout",
          "text": [
            "train score: 1.0\n",
            "test score: 0.6363636363636364\n",
            "execution time: 0.0155792236328125\n"
          ]
        }
      ]
    },
    {
      "cell_type": "code",
      "source": [
        "mean_score(X_test, y_test, 100)"
      ],
      "metadata": {
        "colab": {
          "base_uri": "https://localhost:8080/"
        },
        "id": "-L3qjsq4Cbp9",
        "outputId": "f42afc67-798b-472a-9da2-0d60f0dd8268"
      },
      "execution_count": null,
      "outputs": [
        {
          "output_type": "execute_result",
          "data": {
            "text/plain": [
              "('test score: 0.6299999999999986', 'execution time: 0.005864908695220947')"
            ]
          },
          "metadata": {},
          "execution_count": 3375
        }
      ]
    },
    {
      "cell_type": "code",
      "source": [
        "# additional evaluation metrics\n",
        "time_i = time.time()\n",
        "y_pred = model.predict(X_test)\n",
        "acc = accuracy_score(y_test, y_pred)\n",
        "conf_matrix = confusion_matrix(y_test, y_pred)\n",
        "classi_report = classification_report(y_test, y_pred)\n",
        "time_f = time.time()\n",
        "execution_time = time_f - time_i\n",
        "print('accuracy score:', acc)\n",
        "print('confusion matrix:\\n', conf_matrix)\n",
        "print('classification report:\\n', classi_report)\n",
        "print('execution time:', execution_time)"
      ],
      "metadata": {
        "id": "dKB59JYJCfku",
        "colab": {
          "base_uri": "https://localhost:8080/"
        },
        "outputId": "785d024e-ce30-4b03-b889-fb897ca5ebc4"
      },
      "execution_count": null,
      "outputs": [
        {
          "output_type": "stream",
          "name": "stdout",
          "text": [
            "accuracy score: 0.6363636363636364\n",
            "confusion matrix:\n",
            " [[10  3]\n",
            " [ 9 11]]\n",
            "classification report:\n",
            "               precision    recall  f1-score   support\n",
            "\n",
            "        Dies       0.53      0.77      0.62        13\n",
            "       Lives       0.79      0.55      0.65        20\n",
            "\n",
            "    accuracy                           0.64        33\n",
            "   macro avg       0.66      0.66      0.64        33\n",
            "weighted avg       0.68      0.64      0.64        33\n",
            "\n",
            "execution time: 0.02532815933227539\n"
          ]
        }
      ]
    },
    {
      "cell_type": "code",
      "source": [
        "model_accuracies_dt_2 = []\n",
        "\n",
        "for repetition in range(100):\n",
        "    inputs_train_2, inputs_test_2, target_train_2, target_test_2 = train_test_split(inputs_n2,target,test_size=0.15,random_state=42)\n",
        "\n",
        "    dt_classifier_2 = DecisionTreeClassifier()\n",
        "    dt_classifier_2.fit(inputs_test_2, target_test_2)\n",
        "    dt_classifier_accuracy_2 = dt_classifier_2.score(inputs_train_2, target_train_2)\n",
        "    model_accuracies_dt_2.append(dt_classifier_accuracy_2)\n",
        "\n",
        "plt.hist(model_accuracies_dt_2, label ='Decision Tree', color = \"deepskyblue\")\n",
        "plt.title('Accuracy decision tree average score: {}'.format(np.average(dt_classifier_accuracy_2)));\n",
        "plt.legend()\n",
        "plt.show()"
      ],
      "metadata": {
        "colab": {
          "base_uri": "https://localhost:8080/"
        },
        "id": "dNJwtpWNERGW",
        "outputId": "b98b77c2-f11d-48e6-96cf-525f30b63e02"
      },
      "execution_count": null,
      "outputs": [
        {
          "output_type": "display_data",
          "data": {
            "text/plain": [
              "<Figure size 640x480 with 1 Axes>"
            ],
            "image/png": "[encoded data removed]"
          },
          "metadata": {}
        }
      ]
    },
    {
      "cell_type": "markdown",
      "source": [
        "K-NN"
      ],
      "metadata": {
        "id": "8c0JC8mPf5XP"
      }
    },
    {
      "cell_type": "code",
      "source": [
        "# split the data\n",
        "X_train, X_test, y_train, y_test = train_test_split(inputs_n2, target, test_size=0.2, random_state=42)"
      ],
      "metadata": {
        "id": "7-dPSEykf66u"
      },
      "execution_count": null,
      "outputs": []
    },
    {
      "cell_type": "code",
      "source": [
        "# initializing and train the model\n",
        "k = 5\n",
        "model = KNeighborsClassifier(n_neighbors = k)\n",
        "model.fit(X_train, y_train)"
      ],
      "metadata": {
        "colab": {
          "base_uri": "https://localhost:8080/"
        },
        "id": "Kev3Bk7Cf_hr",
        "outputId": "ec5b4a82-ae33-460e-8d68-d439b6882975"
      },
      "execution_count": null,
      "outputs": [
        {
          "output_type": "stream",
          "name": "stderr",
          "text": [
            "/usr/local/lib/python3.10/dist-packages/sklearn/neighbors/_classification.py:215: DataConversionWarning: A column-vector y was passed when a 1d array was expected. Please change the shape of y to (n_samples,), for example using ravel().\n",
            "  return self._fit(X, y)\n"
          ]
        },
        {
          "output_type": "execute_result",
          "data": {
            "text/plain": [
              "KNeighborsClassifier()"
            ],
            "text/html": [
              "<style>#sk-container-id-251 {color: black;background-color: white;}#sk-container-id-251 pre{padding: 0;}#sk-container-id-251 div.sk-toggleable {background-color: white;}#sk-container-id-251 label.sk-toggleable__label {cursor: pointer;display: block;width: 100%;margin-bottom: 0;padding: 0.3em;box-sizing: border-box;text-align: center;}#sk-container-id-251 label.sk-toggleable__label-arrow:before {content: \"▸\";float: left;margin-right: 0.25em;color: #696969;}#sk-container-id-251 label.sk-toggleable__label-arrow:hover:before {color: black;}#sk-container-id-251 div.sk-estimator:hover label.sk-toggleable__label-arrow:before {color: black;}#sk-container-id-251 div.sk-toggleable__content {max-height: 0;max-width: 0;overflow: hidden;text-align: left;background-color: #f0f8ff;}#sk-container-id-251 div.sk-toggleable__content pre {margin: 0.2em;color: black;border-radius: 0.25em;background-color: #f0f8ff;}#sk-container-id-251 input.sk-toggleable__control:checked~div.sk-toggleable__content {max-height: 200px;max-width: 100%;overflow: auto;}#sk-container-id-251 input.sk-toggleable__control:checked~label.sk-toggleable__label-arrow:before {content: \"▾\";}#sk-container-id-251 div.sk-estimator input.sk-toggleable__control:checked~label.sk-toggleable__label {background-color: #d4ebff;}#sk-container-id-251 div.sk-label input.sk-toggleable__control:checked~label.sk-toggleable__label {background-color: #d4ebff;}#sk-container-id-251 input.sk-hidden--visually {border: 0;clip: rect(1px 1px 1px 1px);clip: rect(1px, 1px, 1px, 1px);height: 1px;margin: -1px;overflow: hidden;padding: 0;position: absolute;width: 1px;}#sk-container-id-251 div.sk-estimator {font-family: monospace;background-color: #f0f8ff;border: 1px dotted black;border-radius: 0.25em;box-sizing: border-box;margin-bottom: 0.5em;}#sk-container-id-251 div.sk-estimator:hover {background-color: #d4ebff;}#sk-container-id-251 div.sk-parallel-item::after {content: \"\";width: 100%;border-bottom: 1px solid gray;flex-grow: 1;}#sk-container-id-251 div.sk-label:hover label.sk-toggleable__label {background-color: #d4ebff;}#sk-container-id-251 div.sk-serial::before {content: \"\";position: absolute;border-left: 1px solid gray;box-sizing: border-box;top: 0;bottom: 0;left: 50%;z-index: 0;}#sk-container-id-251 div.sk-serial {display: flex;flex-direction: column;align-items: center;background-color: white;padding-right: 0.2em;padding-left: 0.2em;position: relative;}#sk-container-id-251 div.sk-item {position: relative;z-index: 1;}#sk-container-id-251 div.sk-parallel {display: flex;align-items: stretch;justify-content: center;background-color: white;position: relative;}#sk-container-id-251 div.sk-item::before, #sk-container-id-251 div.sk-parallel-item::before {content: \"\";position: absolute;border-left: 1px solid gray;box-sizing: border-box;top: 0;bottom: 0;left: 50%;z-index: -1;}#sk-container-id-251 div.sk-parallel-item {display: flex;flex-direction: column;z-index: 1;position: relative;background-color: white;}#sk-container-id-251 div.sk-parallel-item:first-child::after {align-self: flex-end;width: 50%;}#sk-container-id-251 div.sk-parallel-item:last-child::after {align-self: flex-start;width: 50%;}#sk-container-id-251 div.sk-parallel-item:only-child::after {width: 0;}#sk-container-id-251 div.sk-dashed-wrapped {border: 1px dashed gray;margin: 0 0.4em 0.5em 0.4em;box-sizing: border-box;padding-bottom: 0.4em;background-color: white;}#sk-container-id-251 div.sk-label label {font-family: monospace;font-weight: bold;display: inline-block;line-height: 1.2em;}#sk-container-id-251 div.sk-label-container {text-align: center;}#sk-container-id-251 div.sk-container {/* jupyter's `normalize.less` sets `[hidden] { display: none; }` but bootstrap.min.css set `[hidden] { display: none !important; }` so we also need the `!important` here to be able to override the default hidden behavior on the sphinx rendered scikit-learn.org. See: https://github.com/scikit-learn/scikit-learn/issues/21755 */display: inline-block !important;position: relative;}#sk-container-id-251 div.sk-text-repr-fallback {display: none;}</style><div id=\"sk-container-id-251\" class=\"sk-top-container\"><div class=\"sk-text-repr-fallback\"><pre>KNeighborsClassifier()</pre><b>In a Jupyter environment, please rerun this cell to show the HTML representation or trust the notebook. <br />On GitHub, the HTML representation is unable to render, please try loading this page with nbviewer.org.</b></div><div class=\"sk-container\" hidden><div class=\"sk-item\"><div class=\"sk-estimator sk-toggleable\"><input class=\"sk-toggleable__control sk-hidden--visually\" id=\"sk-estimator-id-251\" type=\"checkbox\" checked><label for=\"sk-estimator-id-251\" class=\"sk-toggleable__label sk-toggleable__label-arrow\">KNeighborsClassifier</label><div class=\"sk-toggleable__content\"><pre>KNeighborsClassifier()</pre></div></div></div></div></div>"
            ]
          },
          "metadata": {},
          "execution_count": 3379
        }
      ]
    },
    {
      "cell_type": "code",
      "source": [
        "# evaluate the model\n",
        "time_i = time.time()\n",
        "train_score = model.score(X_train, y_train)\n",
        "test_score = model.score(X_test, y_test)\n",
        "time_f = time.time()\n",
        "execution_time = time_f - time_i\n",
        "print('train score:', train_score)\n",
        "print('test score:', test_score)\n",
        "print('execution time:', execution_time)"
      ],
      "metadata": {
        "colab": {
          "base_uri": "https://localhost:8080/"
        },
        "id": "_5uOaqbdgDnR",
        "outputId": "8f558255-d923-418e-eb6b-68687f0cfabc"
      },
      "execution_count": null,
      "outputs": [
        {
          "output_type": "stream",
          "name": "stdout",
          "text": [
            "train score: 0.8333333333333334\n",
            "test score: 0.7575757575757576\n",
            "execution time: 0.04858112335205078\n"
          ]
        }
      ]
    },
    {
      "cell_type": "code",
      "source": [
        "mean_score(X_test, y_test, 100)"
      ],
      "metadata": {
        "colab": {
          "base_uri": "https://localhost:8080/"
        },
        "id": "ctdS4IruCms5",
        "outputId": "fb5b556f-74c3-4ac6-c878-8adef4a59912"
      },
      "execution_count": null,
      "outputs": [
        {
          "output_type": "execute_result",
          "data": {
            "text/plain": [
              "('test score: 0.7499999999999991', 'execution time: 0.00963954210281372')"
            ]
          },
          "metadata": {},
          "execution_count": 3381
        }
      ]
    },
    {
      "cell_type": "code",
      "source": [
        "# additional evaluation metrics\n",
        "time_i = time.time()\n",
        "y_pred = model.predict(X_test)\n",
        "acc = accuracy_score(y_test, y_pred)\n",
        "conf_matrix = confusion_matrix(y_test, y_pred)\n",
        "classi_report = classification_report(y_test, y_pred)\n",
        "time_f = time.time()\n",
        "execution_time = time_f - time_i\n",
        "print('accuracy score:', acc)\n",
        "print('confusion matrix:\\n', conf_matrix)\n",
        "print('classification report:\\n', classi_report)\n",
        "print('execution time:', execution_time)"
      ],
      "metadata": {
        "colab": {
          "base_uri": "https://localhost:8080/"
        },
        "id": "yKDCdrFKgGrp",
        "outputId": "dc06912f-27d3-4ded-c08f-eb6098888f23"
      },
      "execution_count": null,
      "outputs": [
        {
          "output_type": "stream",
          "name": "stdout",
          "text": [
            "accuracy score: 0.7575757575757576\n",
            "confusion matrix:\n",
            " [[ 8  5]\n",
            " [ 3 17]]\n",
            "classification report:\n",
            "               precision    recall  f1-score   support\n",
            "\n",
            "        Dies       0.73      0.62      0.67        13\n",
            "       Lives       0.77      0.85      0.81        20\n",
            "\n",
            "    accuracy                           0.76        33\n",
            "   macro avg       0.75      0.73      0.74        33\n",
            "weighted avg       0.75      0.76      0.75        33\n",
            "\n",
            "execution time: 0.0329279899597168\n"
          ]
        }
      ]
    },
    {
      "cell_type": "code",
      "source": [
        "model_accuracies_knn_2 = []\n",
        "\n",
        "for repetition in range(100):\n",
        "    inputs_train_2, inputs_test_2, target_train_2, target_test_2 = train_test_split(inputs_n2,target,test_size=0.15,random_state=42)\n",
        "\n",
        "    knn_classifier_2 = KNeighborsClassifier()\n",
        "    knn_classifier_2.fit(inputs_train_2, target_train_2.values.ravel())\n",
        "    knn_classifier_accuracy_2 = knn_classifier_2.score(inputs_test_2, target_test_2.values.ravel())\n",
        "    model_accuracies_knn_2.append(knn_classifier_accuracy_2)\n",
        "\n",
        "plt.hist(model_accuracies_knn, label='KNN', color= 'pink')\n",
        "plt.title('Accuracy knn average score: {}'.format(np.average(knn_classifier_accuracy_2)));\n",
        "plt.legend()\n",
        "plt.show()"
      ],
      "metadata": {
        "colab": {
          "base_uri": "https://localhost:8080/"
        },
        "id": "GKYLLEVFFq-r",
        "outputId": "14c14194-059a-41b7-d8af-3b2d17645c16"
      },
      "execution_count": null,
      "outputs": [
        {
          "output_type": "display_data",
          "data": {
            "text/plain": [
              "<Figure size 640x480 with 1 Axes>"
            ],
            "image/png": "[encoded data removed]"
          },
          "metadata": {}
        }
      ]
    },
    {
      "cell_type": "markdown",
      "source": [
        "### Teste 3"
      ],
      "metadata": {
        "id": "kTsBB6hQB7j1"
      }
    },
    {
      "cell_type": "code",
      "source": [
        "inputs_n3 = copy.deepcopy(inputs_n)\n",
        "\n",
        "for category in df_clean:\n",
        "  if unknown_cat[category] > 20:\n",
        "    del inputs_n3[category + \"_n\"]\n",
        "inputs_n3.shape"
      ],
      "metadata": {
        "colab": {
          "base_uri": "https://localhost:8080/"
        },
        "id": "rS4FxoqvgeLp",
        "outputId": "aab74c0c-55b5-4bab-b451-1740e64728c6"
      },
      "execution_count": null,
      "outputs": [
        {
          "output_type": "execute_result",
          "data": {
            "text/plain": [
              "(165, 36)"
            ]
          },
          "metadata": {},
          "execution_count": 3384
        }
      ]
    },
    {
      "cell_type": "markdown",
      "source": [
        "Decision Tree"
      ],
      "metadata": {
        "id": "IvqBJQZGglt_"
      }
    },
    {
      "cell_type": "code",
      "source": [
        "# split data\n",
        "X_train, X_test, y_train, y_test = train_test_split(inputs_n3, target, test_size= 0.2, random_state= 42)"
      ],
      "metadata": {
        "id": "AfrHTaXSgoFZ"
      },
      "execution_count": null,
      "outputs": []
    },
    {
      "cell_type": "code",
      "source": [
        "# initialize and train the model\n",
        "model = tree.DecisionTreeClassifier()\n",
        "model.fit(X_train, y_train)"
      ],
      "metadata": {
        "colab": {
          "base_uri": "https://localhost:8080/",
          "height": 74
        },
        "id": "kgfDAZwTgypO",
        "outputId": "88f3fecd-0b35-4e09-c3c6-07d97f2546ed"
      },
      "execution_count": null,
      "outputs": [
        {
          "output_type": "execute_result",
          "data": {
            "text/plain": [
              "DecisionTreeClassifier()"
            ],
            "text/html": [
              "<style>#sk-container-id-252 {color: black;background-color: white;}#sk-container-id-252 pre{padding: 0;}#sk-container-id-252 div.sk-toggleable {background-color: white;}#sk-container-id-252 label.sk-toggleable__label {cursor: pointer;display: block;width: 100%;margin-bottom: 0;padding: 0.3em;box-sizing: border-box;text-align: center;}#sk-container-id-252 label.sk-toggleable__label-arrow:before {content: \"▸\";float: left;margin-right: 0.25em;color: #696969;}#sk-container-id-252 label.sk-toggleable__label-arrow:hover:before {color: black;}#sk-container-id-252 div.sk-estimator:hover label.sk-toggleable__label-arrow:before {color: black;}#sk-container-id-252 div.sk-toggleable__content {max-height: 0;max-width: 0;overflow: hidden;text-align: left;background-color: #f0f8ff;}#sk-container-id-252 div.sk-toggleable__content pre {margin: 0.2em;color: black;border-radius: 0.25em;background-color: #f0f8ff;}#sk-container-id-252 input.sk-toggleable__control:checked~div.sk-toggleable__content {max-height: 200px;max-width: 100%;overflow: auto;}#sk-container-id-252 input.sk-toggleable__control:checked~label.sk-toggleable__label-arrow:before {content: \"▾\";}#sk-container-id-252 div.sk-estimator input.sk-toggleable__control:checked~label.sk-toggleable__label {background-color: #d4ebff;}#sk-container-id-252 div.sk-label input.sk-toggleable__control:checked~label.sk-toggleable__label {background-color: #d4ebff;}#sk-container-id-252 input.sk-hidden--visually {border: 0;clip: rect(1px 1px 1px 1px);clip: rect(1px, 1px, 1px, 1px);height: 1px;margin: -1px;overflow: hidden;padding: 0;position: absolute;width: 1px;}#sk-container-id-252 div.sk-estimator {font-family: monospace;background-color: #f0f8ff;border: 1px dotted black;border-radius: 0.25em;box-sizing: border-box;margin-bottom: 0.5em;}#sk-container-id-252 div.sk-estimator:hover {background-color: #d4ebff;}#sk-container-id-252 div.sk-parallel-item::after {content: \"\";width: 100%;border-bottom: 1px solid gray;flex-grow: 1;}#sk-container-id-252 div.sk-label:hover label.sk-toggleable__label {background-color: #d4ebff;}#sk-container-id-252 div.sk-serial::before {content: \"\";position: absolute;border-left: 1px solid gray;box-sizing: border-box;top: 0;bottom: 0;left: 50%;z-index: 0;}#sk-container-id-252 div.sk-serial {display: flex;flex-direction: column;align-items: center;background-color: white;padding-right: 0.2em;padding-left: 0.2em;position: relative;}#sk-container-id-252 div.sk-item {position: relative;z-index: 1;}#sk-container-id-252 div.sk-parallel {display: flex;align-items: stretch;justify-content: center;background-color: white;position: relative;}#sk-container-id-252 div.sk-item::before, #sk-container-id-252 div.sk-parallel-item::before {content: \"\";position: absolute;border-left: 1px solid gray;box-sizing: border-box;top: 0;bottom: 0;left: 50%;z-index: -1;}#sk-container-id-252 div.sk-parallel-item {display: flex;flex-direction: column;z-index: 1;position: relative;background-color: white;}#sk-container-id-252 div.sk-parallel-item:first-child::after {align-self: flex-end;width: 50%;}#sk-container-id-252 div.sk-parallel-item:last-child::after {align-self: flex-start;width: 50%;}#sk-container-id-252 div.sk-parallel-item:only-child::after {width: 0;}#sk-container-id-252 div.sk-dashed-wrapped {border: 1px dashed gray;margin: 0 0.4em 0.5em 0.4em;box-sizing: border-box;padding-bottom: 0.4em;background-color: white;}#sk-container-id-252 div.sk-label label {font-family: monospace;font-weight: bold;display: inline-block;line-height: 1.2em;}#sk-container-id-252 div.sk-label-container {text-align: center;}#sk-container-id-252 div.sk-container {/* jupyter's `normalize.less` sets `[hidden] { display: none; }` but bootstrap.min.css set `[hidden] { display: none !important; }` so we also need the `!important` here to be able to override the default hidden behavior on the sphinx rendered scikit-learn.org. See: https://github.com/scikit-learn/scikit-learn/issues/21755 */display: inline-block !important;position: relative;}#sk-container-id-252 div.sk-text-repr-fallback {display: none;}</style><div id=\"sk-container-id-252\" class=\"sk-top-container\"><div class=\"sk-text-repr-fallback\"><pre>DecisionTreeClassifier()</pre><b>In a Jupyter environment, please rerun this cell to show the HTML representation or trust the notebook. <br />On GitHub, the HTML representation is unable to render, please try loading this page with nbviewer.org.</b></div><div class=\"sk-container\" hidden><div class=\"sk-item\"><div class=\"sk-estimator sk-toggleable\"><input class=\"sk-toggleable__control sk-hidden--visually\" id=\"sk-estimator-id-252\" type=\"checkbox\" checked><label for=\"sk-estimator-id-252\" class=\"sk-toggleable__label sk-toggleable__label-arrow\">DecisionTreeClassifier</label><div class=\"sk-toggleable__content\"><pre>DecisionTreeClassifier()</pre></div></div></div></div></div>"
            ]
          },
          "metadata": {},
          "execution_count": 3386
        }
      ]
    },
    {
      "cell_type": "code",
      "source": [
        "# evaluate the model\n",
        "time_i = time.time()\n",
        "train_score = model.score(X_train, y_train)\n",
        "test_score = model.score(X_test, y_test)\n",
        "time_f = time.time()\n",
        "execution_time = time_f - time_i\n",
        "print('train score:', train_score)\n",
        "print('test score:', test_score)\n",
        "print('execution time:', execution_time)"
      ],
      "metadata": {
        "colab": {
          "base_uri": "https://localhost:8080/"
        },
        "id": "Fd5x2Ugpg4yQ",
        "outputId": "cb635ec5-df11-4f07-c6e8-215b8b39608e"
      },
      "execution_count": null,
      "outputs": [
        {
          "output_type": "stream",
          "name": "stdout",
          "text": [
            "train score: 1.0\n",
            "test score: 0.6666666666666666\n",
            "execution time: 0.02162790298461914\n"
          ]
        }
      ]
    },
    {
      "cell_type": "code",
      "source": [
        "mean_score(X_test, y_test, 100)"
      ],
      "metadata": {
        "colab": {
          "base_uri": "https://localhost:8080/"
        },
        "id": "fL5S6jhLC97I",
        "outputId": "3b0dac00-7e27-437c-82c5-d5475484db29"
      },
      "execution_count": null,
      "outputs": [
        {
          "output_type": "execute_result",
          "data": {
            "text/plain": [
              "('test score: 0.6599999999999991', 'execution time: 0.005701286792755127')"
            ]
          },
          "metadata": {},
          "execution_count": 3388
        }
      ]
    },
    {
      "cell_type": "code",
      "source": [
        "# additional evaluation metrics\n",
        "time_i = time.time()\n",
        "y_pred = model.predict(X_test)\n",
        "acc = accuracy_score(y_test, y_pred)\n",
        "conf_matrix = confusion_matrix(y_test, y_pred)\n",
        "classi_report = classification_report(y_test, y_pred)\n",
        "time_f = time.time()\n",
        "execution_time = time_f - time_i\n",
        "print('accuracy score:', acc)\n",
        "print('confusion matrix:\\n', conf_matrix)\n",
        "print('classification report:\\n', classi_report)\n",
        "print('execution time:', execution_time)"
      ],
      "metadata": {
        "colab": {
          "base_uri": "https://localhost:8080/"
        },
        "id": "Erqa6qfAhBUn",
        "outputId": "63914d10-d361-4cfe-8bba-9445af035760"
      },
      "execution_count": null,
      "outputs": [
        {
          "output_type": "stream",
          "name": "stdout",
          "text": [
            "accuracy score: 0.6666666666666666\n",
            "confusion matrix:\n",
            " [[10  3]\n",
            " [ 8 12]]\n",
            "classification report:\n",
            "               precision    recall  f1-score   support\n",
            "\n",
            "        Dies       0.56      0.77      0.65        13\n",
            "       Lives       0.80      0.60      0.69        20\n",
            "\n",
            "    accuracy                           0.67        33\n",
            "   macro avg       0.68      0.68      0.67        33\n",
            "weighted avg       0.70      0.67      0.67        33\n",
            "\n",
            "execution time: 0.021953344345092773\n"
          ]
        }
      ]
    },
    {
      "cell_type": "markdown",
      "source": [
        "### Confusion matrix:\n"
      ],
      "metadata": {
        "id": "AiruJBfT5QZY"
      }
    },
    {
      "cell_type": "markdown",
      "source": [
        "Assumindo que o teste 3 apresenta os melhores resultados de 'test score', apresenta-se a 'confusion matrix' para o mesmo. Com esta é possível verificar a precisão do algoritmo, ou seja, comparar o valor previsto com o valor real."
      ],
      "metadata": {
        "id": "uzRFZG7GNbwq"
      }
    },
    {
      "cell_type": "code",
      "source": [
        "# confusion matrix for Decision Tree\n",
        "plt.figure(figsize=(10,7))\n",
        "sns.heatmap(conf_matrix, annot=True, fmt='d', cmap='RdPu')\n",
        "plt.xlabel('Predicted')\n",
        "plt.ylabel('Actual')\n",
        "plt.title('Confusion Matrix')\n",
        "plt.show()"
      ],
      "metadata": {
        "colab": {
          "base_uri": "https://localhost:8080/",
          "height": 641
        },
        "id": "dTnZfs6B5UAk",
        "outputId": "9c72bc73-ec79-4c51-931e-9d158994f814"
      },
      "execution_count": null,
      "outputs": [
        {
          "output_type": "display_data",
          "data": {
            "text/plain": [
              "<Figure size 1000x700 with 2 Axes>"
            ],
            "image/png": "[encoded data removed]"
          },
          "metadata": {}
        }
      ]
    },
    {
      "cell_type": "code",
      "source": [
        "model_accuracies_dt_3 = []\n",
        "\n",
        "for repetition in range(100):\n",
        "    inputs_train_3, inputs_test_3, target_train_3, target_test_3 = train_test_split(inputs_n3,target,test_size=0.15,random_state=42)\n",
        "\n",
        "    dt_classifier_3 = DecisionTreeClassifier()\n",
        "    dt_classifier_3.fit(inputs_test_3, target_test_3)\n",
        "    dt_classifier_accuracy_3 = dt_classifier_3.score(inputs_train_3, target_train_3)\n",
        "    model_accuracies_dt_3.append(dt_classifier_accuracy_3)\n",
        "\n",
        "plt.hist(model_accuracies_dt_3, label ='Decision Tree', color = \"deepskyblue\")\n",
        "plt.title('Accuracy decision tree average score: {}'.format(np.average(dt_classifier_accuracy_3)));\n",
        "plt.legend()\n",
        "plt.show()"
      ],
      "metadata": {
        "colab": {
          "base_uri": "https://localhost:8080/",
          "height": 452
        },
        "id": "3e8irvP2ErT8",
        "outputId": "e0d020fd-3088-41d7-9334-6752133e57bd"
      },
      "execution_count": null,
      "outputs": [
        {
          "output_type": "display_data",
          "data": {
            "text/plain": [
              "<Figure size 640x480 with 1 Axes>"
            ],
            "image/png": "[encoded data removed]"
          },
          "metadata": {}
        }
      ]
    },
    {
      "cell_type": "markdown",
      "source": [
        "K-NN"
      ],
      "metadata": {
        "id": "nfnD6uCKhGlw"
      }
    },
    {
      "cell_type": "code",
      "source": [
        "# split the data\n",
        "X_train, X_test, y_train, y_test = train_test_split(inputs_n3, target, test_size=0.2, random_state=42)"
      ],
      "metadata": {
        "id": "I6uHrog9hJ6T"
      },
      "execution_count": null,
      "outputs": []
    },
    {
      "cell_type": "code",
      "source": [
        "# initializing and train the model\n",
        "k = 5\n",
        "model = KNeighborsClassifier(n_neighbors = k)\n",
        "model.fit(X_train, y_train)"
      ],
      "metadata": {
        "id": "DVTDzjAFhO-8",
        "colab": {
          "base_uri": "https://localhost:8080/",
          "height": 129
        },
        "outputId": "22568f25-7ba8-44e2-c2ef-fc83d1e56d58"
      },
      "execution_count": null,
      "outputs": [
        {
          "output_type": "stream",
          "name": "stderr",
          "text": [
            "/usr/local/lib/python3.10/dist-packages/sklearn/neighbors/_classification.py:215: DataConversionWarning: A column-vector y was passed when a 1d array was expected. Please change the shape of y to (n_samples,), for example using ravel().\n",
            "  return self._fit(X, y)\n"
          ]
        },
        {
          "output_type": "execute_result",
          "data": {
            "text/plain": [
              "KNeighborsClassifier()"
            ],
            "text/html": [
              "<style>#sk-container-id-253 {color: black;background-color: white;}#sk-container-id-253 pre{padding: 0;}#sk-container-id-253 div.sk-toggleable {background-color: white;}#sk-container-id-253 label.sk-toggleable__label {cursor: pointer;display: block;width: 100%;margin-bottom: 0;padding: 0.3em;box-sizing: border-box;text-align: center;}#sk-container-id-253 label.sk-toggleable__label-arrow:before {content: \"▸\";float: left;margin-right: 0.25em;color: #696969;}#sk-container-id-253 label.sk-toggleable__label-arrow:hover:before {color: black;}#sk-container-id-253 div.sk-estimator:hover label.sk-toggleable__label-arrow:before {color: black;}#sk-container-id-253 div.sk-toggleable__content {max-height: 0;max-width: 0;overflow: hidden;text-align: left;background-color: #f0f8ff;}#sk-container-id-253 div.sk-toggleable__content pre {margin: 0.2em;color: black;border-radius: 0.25em;background-color: #f0f8ff;}#sk-container-id-253 input.sk-toggleable__control:checked~div.sk-toggleable__content {max-height: 200px;max-width: 100%;overflow: auto;}#sk-container-id-253 input.sk-toggleable__control:checked~label.sk-toggleable__label-arrow:before {content: \"▾\";}#sk-container-id-253 div.sk-estimator input.sk-toggleable__control:checked~label.sk-toggleable__label {background-color: #d4ebff;}#sk-container-id-253 div.sk-label input.sk-toggleable__control:checked~label.sk-toggleable__label {background-color: #d4ebff;}#sk-container-id-253 input.sk-hidden--visually {border: 0;clip: rect(1px 1px 1px 1px);clip: rect(1px, 1px, 1px, 1px);height: 1px;margin: -1px;overflow: hidden;padding: 0;position: absolute;width: 1px;}#sk-container-id-253 div.sk-estimator {font-family: monospace;background-color: #f0f8ff;border: 1px dotted black;border-radius: 0.25em;box-sizing: border-box;margin-bottom: 0.5em;}#sk-container-id-253 div.sk-estimator:hover {background-color: #d4ebff;}#sk-container-id-253 div.sk-parallel-item::after {content: \"\";width: 100%;border-bottom: 1px solid gray;flex-grow: 1;}#sk-container-id-253 div.sk-label:hover label.sk-toggleable__label {background-color: #d4ebff;}#sk-container-id-253 div.sk-serial::before {content: \"\";position: absolute;border-left: 1px solid gray;box-sizing: border-box;top: 0;bottom: 0;left: 50%;z-index: 0;}#sk-container-id-253 div.sk-serial {display: flex;flex-direction: column;align-items: center;background-color: white;padding-right: 0.2em;padding-left: 0.2em;position: relative;}#sk-container-id-253 div.sk-item {position: relative;z-index: 1;}#sk-container-id-253 div.sk-parallel {display: flex;align-items: stretch;justify-content: center;background-color: white;position: relative;}#sk-container-id-253 div.sk-item::before, #sk-container-id-253 div.sk-parallel-item::before {content: \"\";position: absolute;border-left: 1px solid gray;box-sizing: border-box;top: 0;bottom: 0;left: 50%;z-index: -1;}#sk-container-id-253 div.sk-parallel-item {display: flex;flex-direction: column;z-index: 1;position: relative;background-color: white;}#sk-container-id-253 div.sk-parallel-item:first-child::after {align-self: flex-end;width: 50%;}#sk-container-id-253 div.sk-parallel-item:last-child::after {align-self: flex-start;width: 50%;}#sk-container-id-253 div.sk-parallel-item:only-child::after {width: 0;}#sk-container-id-253 div.sk-dashed-wrapped {border: 1px dashed gray;margin: 0 0.4em 0.5em 0.4em;box-sizing: border-box;padding-bottom: 0.4em;background-color: white;}#sk-container-id-253 div.sk-label label {font-family: monospace;font-weight: bold;display: inline-block;line-height: 1.2em;}#sk-container-id-253 div.sk-label-container {text-align: center;}#sk-container-id-253 div.sk-container {/* jupyter's `normalize.less` sets `[hidden] { display: none; }` but bootstrap.min.css set `[hidden] { display: none !important; }` so we also need the `!important` here to be able to override the default hidden behavior on the sphinx rendered scikit-learn.org. See: https://github.com/scikit-learn/scikit-learn/issues/21755 */display: inline-block !important;position: relative;}#sk-container-id-253 div.sk-text-repr-fallback {display: none;}</style><div id=\"sk-container-id-253\" class=\"sk-top-container\"><div class=\"sk-text-repr-fallback\"><pre>KNeighborsClassifier()</pre><b>In a Jupyter environment, please rerun this cell to show the HTML representation or trust the notebook. <br />On GitHub, the HTML representation is unable to render, please try loading this page with nbviewer.org.</b></div><div class=\"sk-container\" hidden><div class=\"sk-item\"><div class=\"sk-estimator sk-toggleable\"><input class=\"sk-toggleable__control sk-hidden--visually\" id=\"sk-estimator-id-253\" type=\"checkbox\" checked><label for=\"sk-estimator-id-253\" class=\"sk-toggleable__label sk-toggleable__label-arrow\">KNeighborsClassifier</label><div class=\"sk-toggleable__content\"><pre>KNeighborsClassifier()</pre></div></div></div></div></div>"
            ]
          },
          "metadata": {},
          "execution_count": 3393
        }
      ]
    },
    {
      "cell_type": "code",
      "source": [
        "# evaluate the model\n",
        "time_i = time.time()\n",
        "train_score = model.score(X_train, y_train)\n",
        "test_score = model.score(X_test, y_test)\n",
        "time_f = time.time()\n",
        "execution_time = time_f - time_i\n",
        "print('train score:', train_score)\n",
        "print('test score:', test_score)\n",
        "print('execution time:', execution_time)"
      ],
      "metadata": {
        "id": "SMIkVCafhSHW",
        "colab": {
          "base_uri": "https://localhost:8080/"
        },
        "outputId": "c85531b6-f2ae-4f46-d71a-946a2edf7fb2"
      },
      "execution_count": null,
      "outputs": [
        {
          "output_type": "stream",
          "name": "stdout",
          "text": [
            "train score: 0.8333333333333334\n",
            "test score: 0.7575757575757576\n",
            "execution time: 0.07727909088134766\n"
          ]
        }
      ]
    },
    {
      "cell_type": "code",
      "source": [
        "mean_score(X_test, y_test, 100)"
      ],
      "metadata": {
        "colab": {
          "base_uri": "https://localhost:8080/"
        },
        "id": "Key_ZL9-DOvO",
        "outputId": "08f48600-0bd0-4301-d309-7dba13820496"
      },
      "execution_count": null,
      "outputs": [
        {
          "output_type": "execute_result",
          "data": {
            "text/plain": [
              "('test score: 0.7499999999999991', 'execution time: 0.014160909652709962')"
            ]
          },
          "metadata": {},
          "execution_count": 3395
        }
      ]
    },
    {
      "cell_type": "code",
      "source": [
        "# additional evaluation metrics\n",
        "time_i = time.time()\n",
        "y_pred = model.predict(X_test)\n",
        "acc = accuracy_score(y_test, y_pred)\n",
        "conf_matrix = confusion_matrix(y_test, y_pred)\n",
        "classi_report = classification_report(y_test, y_pred)\n",
        "time_f = time.time()\n",
        "execution_time = time_f - time_i\n",
        "print('accuracy score:', acc)\n",
        "print('confusion matrix:\\n', conf_matrix)\n",
        "print('classification report:\\n', classi_report)\n",
        "print('execution time:', execution_time)"
      ],
      "metadata": {
        "colab": {
          "base_uri": "https://localhost:8080/"
        },
        "id": "72AMWMCeh3Nd",
        "outputId": "591ea71b-a947-4297-a833-8646f331116c"
      },
      "execution_count": null,
      "outputs": [
        {
          "output_type": "stream",
          "name": "stdout",
          "text": [
            "accuracy score: 0.7575757575757576\n",
            "confusion matrix:\n",
            " [[ 8  5]\n",
            " [ 3 17]]\n",
            "classification report:\n",
            "               precision    recall  f1-score   support\n",
            "\n",
            "        Dies       0.73      0.62      0.67        13\n",
            "       Lives       0.77      0.85      0.81        20\n",
            "\n",
            "    accuracy                           0.76        33\n",
            "   macro avg       0.75      0.73      0.74        33\n",
            "weighted avg       0.75      0.76      0.75        33\n",
            "\n",
            "execution time: 0.04203629493713379\n"
          ]
        }
      ]
    },
    {
      "cell_type": "markdown",
      "source": [
        "### Confusion matrix:"
      ],
      "metadata": {
        "id": "L70fdn8P5-VC"
      }
    },
    {
      "cell_type": "code",
      "source": [
        "# confusion matrix for K-NN\n",
        "plt.figure(figsize=(10,7))\n",
        "sns.heatmap(conf_matrix, annot=True, fmt='d', cmap='RdPu')\n",
        "plt.xlabel('Predicted')\n",
        "plt.ylabel('Actual')\n",
        "plt.title('Confusion Matrix')\n",
        "plt.show()"
      ],
      "metadata": {
        "colab": {
          "base_uri": "https://localhost:8080/",
          "height": 641
        },
        "id": "atmkIfET6HWW",
        "outputId": "81448af6-0fd2-47f2-b5e9-068916d95992"
      },
      "execution_count": null,
      "outputs": [
        {
          "output_type": "display_data",
          "data": {
            "text/plain": [
              "<Figure size 1000x700 with 2 Axes>"
            ],
            "image/png": "[encoded data removed]"
          },
          "metadata": {}
        }
      ]
    },
    {
      "cell_type": "code",
      "source": [
        "model_accuracies_knn_3 = []\n",
        "\n",
        "for repetition in range(100):\n",
        "    inputs_train_3, inputs_test_3, target_train_3, target_test_3 = train_test_split(inputs_n3,target,test_size=0.15,random_state=42)\n",
        "\n",
        "    knn_classifier_3 = KNeighborsClassifier()\n",
        "    knn_classifier_3.fit(inputs_train_3, target_train_3.values.ravel())\n",
        "    knn_classifier_accuracy_3 = knn_classifier_3.score(inputs_test_3, target_test_3.values.ravel())\n",
        "    model_accuracies_knn_3.append(knn_classifier_accuracy_3)\n",
        "\n",
        "plt.hist(model_accuracies_knn, label='KNN', color= 'pink')\n",
        "plt.title('Accuracy knn average score: {}'.format(np.average(knn_classifier_accuracy_2)));\n",
        "plt.legend()\n",
        "plt.show()"
      ],
      "metadata": {
        "colab": {
          "base_uri": "https://localhost:8080/",
          "height": 452
        },
        "id": "X1HM5auqFxhh",
        "outputId": "ce5f9469-1f54-488b-e403-0901fad8e489"
      },
      "execution_count": null,
      "outputs": [
        {
          "output_type": "display_data",
          "data": {
            "text/plain": [
              "<Figure size 640x480 with 1 Axes>"
            ],
            "image/png": "[encoded data removed]"
          },
          "metadata": {}
        }
      ]
    },
    {
      "cell_type": "markdown",
      "source": [
        "### Grid Search"
      ],
      "metadata": {
        "id": "az0JOk-hHIGK"
      }
    },
    {
      "cell_type": "markdown",
      "source": [
        "Aplicando o método de 'Grid Search' pretendemos obter os melhores valores de hiperparâmetros de modo chegarmos ao melhor 'test score'."
      ],
      "metadata": {
        "id": "Hl9sb1_PPECL"
      }
    },
    {
      "cell_type": "markdown",
      "source": [
        "- Decision Tree"
      ],
      "metadata": {
        "id": "ViyZ0zk4HyGt"
      }
    },
    {
      "cell_type": "code",
      "source": [
        "param_grid = {\n",
        "    'criterion': ['gini', 'entropy', 'log_loss'],\n",
        "    'max_depth': [None, 10, 20, 30, 40, 50],\n",
        "    'max_leaf_nodes': [None, 10, 20, 30, 40, 50],\n",
        "}"
      ],
      "metadata": {
        "id": "r9kIVqQtHMVX"
      },
      "execution_count": null,
      "outputs": []
    },
    {
      "cell_type": "code",
      "source": [
        "grid_search_grid = GridSearchCV(estimator=DecisionTreeClassifier(), param_grid=param_grid, cv=10, n_jobs=-1, scoring= \"accuracy\")\n",
        "\n",
        "X_train, X_test, y_train, y_test = train_test_split(inputs_n3, target, test_size=0.2, random_state=42)\n",
        "\n",
        "grid_search_grid.fit(X_train, y_train)\n",
        "\n",
        "best_params_grid = grid_search_grid.best_params_\n",
        "best_model_grid = grid_search_grid.best_estimator_\n",
        "test_score_grid = best_model_grid.score(X_test, y_test)\n",
        "\n",
        "cv_results_grid = grid_search_grid.cv_results_\n",
        "mean_scores_dt = cv_results_grid['mean_test_score']\n",
        "std_scores_dt = cv_results_grid['std_test_score']"
      ],
      "metadata": {
        "id": "M5ErG7T3Hcln"
      },
      "execution_count": null,
      "outputs": []
    },
    {
      "cell_type": "code",
      "source": [
        "print(\"Decision Tree - Best Hyperparameters:\", best_params_grid)\n",
        "print(\"Decision Tree - Test Score:\", test_score_grid)"
      ],
      "metadata": {
        "colab": {
          "base_uri": "https://localhost:8080/"
        },
        "outputId": "ec5fe6cc-bfce-4c17-a2f0-49ab41fb9f82",
        "id": "dWym4pjoHclp"
      },
      "execution_count": null,
      "outputs": [
        {
          "output_type": "stream",
          "name": "stdout",
          "text": [
            "Decision Tree - Best Hyperparameters: {'criterion': 'gini', 'max_depth': 40, 'max_leaf_nodes': 30}\n",
            "Decision Tree - Test Score: 0.696969696969697\n"
          ]
        }
      ]
    },
    {
      "cell_type": "markdown",
      "source": [
        "- K-NN"
      ],
      "metadata": {
        "id": "w8HB6XakH4fw"
      }
    },
    {
      "cell_type": "code",
      "source": [
        "param_grid = {\n",
        "    'n_neighbors': [3, 5, 7, 9, 11],\n",
        "    'weights': ['uniform', 'distance'],\n",
        "    'algorithm': ['auto', 'ball_tree', 'kd_tree', 'brute'],\n",
        "    'p': [1, 2]\n",
        "}"
      ],
      "metadata": {
        "id": "1tRzA2ZsDy_B"
      },
      "execution_count": null,
      "outputs": []
    },
    {
      "cell_type": "code",
      "source": [
        "grid_search_grid = GridSearchCV(estimator=KNeighborsClassifier(), param_grid=param_grid, cv=10, n_jobs=-1, scoring= \"accuracy\")\n",
        "\n",
        "X_train, X_test, y_train, y_test = train_test_split(inputs_n3, target, test_size=0.2, random_state=42)\n",
        "\n",
        "grid_search_grid.fit(X_train, y_train)\n",
        "\n",
        "best_params_grid = grid_search_grid.best_params_\n",
        "best_model_grid = grid_search_grid.best_estimator_\n",
        "test_score_grid = best_model_grid.score(X_test, y_test)\n",
        "\n",
        "cv_results_grid = grid_search_grid.cv_results_\n",
        "mean_scores_dt = cv_results_grid['mean_test_score']\n",
        "std_scores_dt = cv_results_grid['std_test_score']"
      ],
      "metadata": {
        "id": "PnCOogbiH04H",
        "colab": {
          "base_uri": "https://localhost:8080/"
        },
        "outputId": "c5be9bc3-71bd-4a91-e464-4ca3fab52718"
      },
      "execution_count": null,
      "outputs": [
        {
          "output_type": "stream",
          "name": "stderr",
          "text": [
            "/usr/local/lib/python3.10/dist-packages/sklearn/neighbors/_classification.py:215: DataConversionWarning: A column-vector y was passed when a 1d array was expected. Please change the shape of y to (n_samples,), for example using ravel().\n",
            "  return self._fit(X, y)\n"
          ]
        }
      ]
    },
    {
      "cell_type": "code",
      "source": [
        "print(\"K-NN - Best Hyperparameters:\", best_params_grid)\n",
        "print(\"K-NN - Test Score:\", test_score_grid)"
      ],
      "metadata": {
        "id": "pAjaKtQiJ2OY",
        "colab": {
          "base_uri": "https://localhost:8080/"
        },
        "outputId": "0ddc3884-22ca-487b-d0a2-fe41f9aafa85"
      },
      "execution_count": null,
      "outputs": [
        {
          "output_type": "stream",
          "name": "stdout",
          "text": [
            "Decision Tree - Best Hyperparameters: {'algorithm': 'auto', 'n_neighbors': 9, 'p': 2, 'weights': 'distance'}\n",
            "Decision Tree - Test Score: 0.6666666666666666\n"
          ]
        }
      ]
    },
    {
      "cell_type": "markdown",
      "source": [
        "###4th test"
      ],
      "metadata": {
        "id": "L1fFFl7IiHyt"
      }
    },
    {
      "cell_type": "code",
      "source": [
        "inputs_n4 = copy.deepcopy(inputs_n)\n",
        "\n",
        "for category in df_clean:\n",
        "  if unknown_cat[category] > 10:\n",
        "    del inputs_n4[category + \"_n\"]\n",
        "inputs_n4.shape"
      ],
      "metadata": {
        "id": "DutZ9y00iKFF",
        "colab": {
          "base_uri": "https://localhost:8080/"
        },
        "outputId": "7de62890-2635-4776-8d3d-c9222fdec21f"
      },
      "execution_count": null,
      "outputs": [
        {
          "output_type": "execute_result",
          "data": {
            "text/plain": [
              "(165, 29)"
            ]
          },
          "metadata": {},
          "execution_count": 3405
        }
      ]
    },
    {
      "cell_type": "markdown",
      "source": [
        "Decision Tree"
      ],
      "metadata": {
        "id": "reTofCMciSth"
      }
    },
    {
      "cell_type": "code",
      "source": [
        "# split data\n",
        "X_train, X_test, y_train, y_test = train_test_split(inputs_n4, target, test_size= 0.2, random_state= 42)"
      ],
      "metadata": {
        "id": "ezP2zJJ_iXqb"
      },
      "execution_count": null,
      "outputs": []
    },
    {
      "cell_type": "code",
      "source": [
        "# initialize and train the model\n",
        "model = tree.DecisionTreeClassifier()\n",
        "model.fit(X_train, y_train)"
      ],
      "metadata": {
        "id": "iSJfqQEdid0R",
        "colab": {
          "base_uri": "https://localhost:8080/",
          "height": 74
        },
        "outputId": "3b2bd876-6b43-4757-f4f5-072fca27602f"
      },
      "execution_count": null,
      "outputs": [
        {
          "output_type": "execute_result",
          "data": {
            "text/plain": [
              "DecisionTreeClassifier()"
            ],
            "text/html": [
              "<style>#sk-container-id-254 {color: black;background-color: white;}#sk-container-id-254 pre{padding: 0;}#sk-container-id-254 div.sk-toggleable {background-color: white;}#sk-container-id-254 label.sk-toggleable__label {cursor: pointer;display: block;width: 100%;margin-bottom: 0;padding: 0.3em;box-sizing: border-box;text-align: center;}#sk-container-id-254 label.sk-toggleable__label-arrow:before {content: \"▸\";float: left;margin-right: 0.25em;color: #696969;}#sk-container-id-254 label.sk-toggleable__label-arrow:hover:before {color: black;}#sk-container-id-254 div.sk-estimator:hover label.sk-toggleable__label-arrow:before {color: black;}#sk-container-id-254 div.sk-toggleable__content {max-height: 0;max-width: 0;overflow: hidden;text-align: left;background-color: #f0f8ff;}#sk-container-id-254 div.sk-toggleable__content pre {margin: 0.2em;color: black;border-radius: 0.25em;background-color: #f0f8ff;}#sk-container-id-254 input.sk-toggleable__control:checked~div.sk-toggleable__content {max-height: 200px;max-width: 100%;overflow: auto;}#sk-container-id-254 input.sk-toggleable__control:checked~label.sk-toggleable__label-arrow:before {content: \"▾\";}#sk-container-id-254 div.sk-estimator input.sk-toggleable__control:checked~label.sk-toggleable__label {background-color: #d4ebff;}#sk-container-id-254 div.sk-label input.sk-toggleable__control:checked~label.sk-toggleable__label {background-color: #d4ebff;}#sk-container-id-254 input.sk-hidden--visually {border: 0;clip: rect(1px 1px 1px 1px);clip: rect(1px, 1px, 1px, 1px);height: 1px;margin: -1px;overflow: hidden;padding: 0;position: absolute;width: 1px;}#sk-container-id-254 div.sk-estimator {font-family: monospace;background-color: #f0f8ff;border: 1px dotted black;border-radius: 0.25em;box-sizing: border-box;margin-bottom: 0.5em;}#sk-container-id-254 div.sk-estimator:hover {background-color: #d4ebff;}#sk-container-id-254 div.sk-parallel-item::after {content: \"\";width: 100%;border-bottom: 1px solid gray;flex-grow: 1;}#sk-container-id-254 div.sk-label:hover label.sk-toggleable__label {background-color: #d4ebff;}#sk-container-id-254 div.sk-serial::before {content: \"\";position: absolute;border-left: 1px solid gray;box-sizing: border-box;top: 0;bottom: 0;left: 50%;z-index: 0;}#sk-container-id-254 div.sk-serial {display: flex;flex-direction: column;align-items: center;background-color: white;padding-right: 0.2em;padding-left: 0.2em;position: relative;}#sk-container-id-254 div.sk-item {position: relative;z-index: 1;}#sk-container-id-254 div.sk-parallel {display: flex;align-items: stretch;justify-content: center;background-color: white;position: relative;}#sk-container-id-254 div.sk-item::before, #sk-container-id-254 div.sk-parallel-item::before {content: \"\";position: absolute;border-left: 1px solid gray;box-sizing: border-box;top: 0;bottom: 0;left: 50%;z-index: -1;}#sk-container-id-254 div.sk-parallel-item {display: flex;flex-direction: column;z-index: 1;position: relative;background-color: white;}#sk-container-id-254 div.sk-parallel-item:first-child::after {align-self: flex-end;width: 50%;}#sk-container-id-254 div.sk-parallel-item:last-child::after {align-self: flex-start;width: 50%;}#sk-container-id-254 div.sk-parallel-item:only-child::after {width: 0;}#sk-container-id-254 div.sk-dashed-wrapped {border: 1px dashed gray;margin: 0 0.4em 0.5em 0.4em;box-sizing: border-box;padding-bottom: 0.4em;background-color: white;}#sk-container-id-254 div.sk-label label {font-family: monospace;font-weight: bold;display: inline-block;line-height: 1.2em;}#sk-container-id-254 div.sk-label-container {text-align: center;}#sk-container-id-254 div.sk-container {/* jupyter's `normalize.less` sets `[hidden] { display: none; }` but bootstrap.min.css set `[hidden] { display: none !important; }` so we also need the `!important` here to be able to override the default hidden behavior on the sphinx rendered scikit-learn.org. See: https://github.com/scikit-learn/scikit-learn/issues/21755 */display: inline-block !important;position: relative;}#sk-container-id-254 div.sk-text-repr-fallback {display: none;}</style><div id=\"sk-container-id-254\" class=\"sk-top-container\"><div class=\"sk-text-repr-fallback\"><pre>DecisionTreeClassifier()</pre><b>In a Jupyter environment, please rerun this cell to show the HTML representation or trust the notebook. <br />On GitHub, the HTML representation is unable to render, please try loading this page with nbviewer.org.</b></div><div class=\"sk-container\" hidden><div class=\"sk-item\"><div class=\"sk-estimator sk-toggleable\"><input class=\"sk-toggleable__control sk-hidden--visually\" id=\"sk-estimator-id-254\" type=\"checkbox\" checked><label for=\"sk-estimator-id-254\" class=\"sk-toggleable__label sk-toggleable__label-arrow\">DecisionTreeClassifier</label><div class=\"sk-toggleable__content\"><pre>DecisionTreeClassifier()</pre></div></div></div></div></div>"
            ]
          },
          "metadata": {},
          "execution_count": 3407
        }
      ]
    },
    {
      "cell_type": "code",
      "source": [
        "# evaluate the model\n",
        "time_i = time.time()\n",
        "train_score = model.score(X_train, y_train)\n",
        "test_score = model.score(X_test, y_test)\n",
        "time_f = time.time()\n",
        "execution_time = time_f - time_i\n",
        "print('train score:', train_score)\n",
        "print('test score:', test_score)\n",
        "print('execution time:', execution_time)"
      ],
      "metadata": {
        "id": "WwG46rwQjSdV",
        "colab": {
          "base_uri": "https://localhost:8080/"
        },
        "outputId": "f6a6a6c7-d4c2-44a4-8582-d40ade6f73c9"
      },
      "execution_count": null,
      "outputs": [
        {
          "output_type": "stream",
          "name": "stdout",
          "text": [
            "train score: 1.0\n",
            "test score: 0.5151515151515151\n",
            "execution time: 0.013753890991210938\n"
          ]
        }
      ]
    },
    {
      "cell_type": "code",
      "source": [
        "mean_score(X_test, y_test, 100)"
      ],
      "metadata": {
        "colab": {
          "base_uri": "https://localhost:8080/"
        },
        "id": "Am7k6LweEU1e",
        "outputId": "1ec9ec82-0db2-4215-e54d-ad493c0932da"
      },
      "execution_count": null,
      "outputs": [
        {
          "output_type": "execute_result",
          "data": {
            "text/plain": [
              "('test score: 0.5100000000000003', 'execution time: 0.005998415946960449')"
            ]
          },
          "metadata": {},
          "execution_count": 3409
        }
      ]
    },
    {
      "cell_type": "code",
      "source": [
        "# additional evaluation metrics\n",
        "time_i = time.time()\n",
        "y_pred = model.predict(X_test)\n",
        "acc = accuracy_score(y_test, y_pred)\n",
        "conf_matrix = confusion_matrix(y_test, y_pred)\n",
        "classi_report = classification_report(y_test, y_pred)\n",
        "time_f = time.time()\n",
        "execution_time = time_f - time_i\n",
        "print('accuracy score:', acc)\n",
        "print('confusion matrix:\\n', conf_matrix)\n",
        "print('classification report:\\n', classi_report)\n",
        "print('execution time:', execution_time)"
      ],
      "metadata": {
        "id": "ycCOY5yEjbeb",
        "colab": {
          "base_uri": "https://localhost:8080/"
        },
        "outputId": "3cdba207-8932-4669-e8c4-66b24e007837"
      },
      "execution_count": null,
      "outputs": [
        {
          "output_type": "stream",
          "name": "stdout",
          "text": [
            "accuracy score: 0.5151515151515151\n",
            "confusion matrix:\n",
            " [[ 8  5]\n",
            " [11  9]]\n",
            "classification report:\n",
            "               precision    recall  f1-score   support\n",
            "\n",
            "        Dies       0.42      0.62      0.50        13\n",
            "       Lives       0.64      0.45      0.53        20\n",
            "\n",
            "    accuracy                           0.52        33\n",
            "   macro avg       0.53      0.53      0.51        33\n",
            "weighted avg       0.56      0.52      0.52        33\n",
            "\n",
            "execution time: 0.027478933334350586\n"
          ]
        }
      ]
    },
    {
      "cell_type": "code",
      "source": [
        "model_accuracies_dt_4 = []\n",
        "\n",
        "for repetition in range(100):\n",
        "    inputs_train_4, inputs_test_4, target_train_4, target_test_4 = train_test_split(inputs_n4,target,test_size=0.15,random_state=42)\n",
        "\n",
        "    dt_classifier_4 = DecisionTreeClassifier()\n",
        "    dt_classifier_4.fit(inputs_test_4, target_test_4)\n",
        "    dt_classifier_accuracy_4 = dt_classifier_4.score(inputs_train_4, target_train_4)\n",
        "    model_accuracies_dt_4.append(dt_classifier_accuracy_4)\n",
        "\n",
        "plt.hist(model_accuracies_dt_4, label ='Decision Tree', color=\"deepskyblue\")\n",
        "plt.title('Accuracy decision tree average score: {}'.format(np.average(dt_classifier_accuracy_3)));\n",
        "plt.legend()\n",
        "plt.show()"
      ],
      "metadata": {
        "colab": {
          "base_uri": "https://localhost:8080/",
          "height": 452
        },
        "id": "5D70L1RLExpf",
        "outputId": "f828b34d-40c1-49d3-e784-d31c41d62038"
      },
      "execution_count": null,
      "outputs": [
        {
          "output_type": "display_data",
          "data": {
            "text/plain": [
              "<Figure size 640x480 with 1 Axes>"
            ],
            "image/png": "[encoded data removed]"
          },
          "metadata": {}
        }
      ]
    },
    {
      "cell_type": "markdown",
      "source": [
        "K-NN"
      ],
      "metadata": {
        "id": "gyycbysejgqF"
      }
    },
    {
      "cell_type": "code",
      "source": [
        "# split the data\n",
        "X_train, X_test, y_train, y_test = train_test_split(inputs_n4, target, test_size=0.2, random_state=42)"
      ],
      "metadata": {
        "id": "zafdoc7EjjTa"
      },
      "execution_count": null,
      "outputs": []
    },
    {
      "cell_type": "code",
      "source": [
        "# initializing and train the model\n",
        "k = 5\n",
        "model = KNeighborsClassifier(n_neighbors = k)\n",
        "model.fit(X_train, y_train)"
      ],
      "metadata": {
        "colab": {
          "base_uri": "https://localhost:8080/",
          "height": 129
        },
        "id": "YYq-gSYbjpXj",
        "outputId": "b07785be-4121-4761-8f77-50cb5c6a1c40"
      },
      "execution_count": null,
      "outputs": [
        {
          "output_type": "stream",
          "name": "stderr",
          "text": [
            "/usr/local/lib/python3.10/dist-packages/sklearn/neighbors/_classification.py:215: DataConversionWarning: A column-vector y was passed when a 1d array was expected. Please change the shape of y to (n_samples,), for example using ravel().\n",
            "  return self._fit(X, y)\n"
          ]
        },
        {
          "output_type": "execute_result",
          "data": {
            "text/plain": [
              "KNeighborsClassifier()"
            ],
            "text/html": [
              "<style>#sk-container-id-255 {color: black;background-color: white;}#sk-container-id-255 pre{padding: 0;}#sk-container-id-255 div.sk-toggleable {background-color: white;}#sk-container-id-255 label.sk-toggleable__label {cursor: pointer;display: block;width: 100%;margin-bottom: 0;padding: 0.3em;box-sizing: border-box;text-align: center;}#sk-container-id-255 label.sk-toggleable__label-arrow:before {content: \"▸\";float: left;margin-right: 0.25em;color: #696969;}#sk-container-id-255 label.sk-toggleable__label-arrow:hover:before {color: black;}#sk-container-id-255 div.sk-estimator:hover label.sk-toggleable__label-arrow:before {color: black;}#sk-container-id-255 div.sk-toggleable__content {max-height: 0;max-width: 0;overflow: hidden;text-align: left;background-color: #f0f8ff;}#sk-container-id-255 div.sk-toggleable__content pre {margin: 0.2em;color: black;border-radius: 0.25em;background-color: #f0f8ff;}#sk-container-id-255 input.sk-toggleable__control:checked~div.sk-toggleable__content {max-height: 200px;max-width: 100%;overflow: auto;}#sk-container-id-255 input.sk-toggleable__control:checked~label.sk-toggleable__label-arrow:before {content: \"▾\";}#sk-container-id-255 div.sk-estimator input.sk-toggleable__control:checked~label.sk-toggleable__label {background-color: #d4ebff;}#sk-container-id-255 div.sk-label input.sk-toggleable__control:checked~label.sk-toggleable__label {background-color: #d4ebff;}#sk-container-id-255 input.sk-hidden--visually {border: 0;clip: rect(1px 1px 1px 1px);clip: rect(1px, 1px, 1px, 1px);height: 1px;margin: -1px;overflow: hidden;padding: 0;position: absolute;width: 1px;}#sk-container-id-255 div.sk-estimator {font-family: monospace;background-color: #f0f8ff;border: 1px dotted black;border-radius: 0.25em;box-sizing: border-box;margin-bottom: 0.5em;}#sk-container-id-255 div.sk-estimator:hover {background-color: #d4ebff;}#sk-container-id-255 div.sk-parallel-item::after {content: \"\";width: 100%;border-bottom: 1px solid gray;flex-grow: 1;}#sk-container-id-255 div.sk-label:hover label.sk-toggleable__label {background-color: #d4ebff;}#sk-container-id-255 div.sk-serial::before {content: \"\";position: absolute;border-left: 1px solid gray;box-sizing: border-box;top: 0;bottom: 0;left: 50%;z-index: 0;}#sk-container-id-255 div.sk-serial {display: flex;flex-direction: column;align-items: center;background-color: white;padding-right: 0.2em;padding-left: 0.2em;position: relative;}#sk-container-id-255 div.sk-item {position: relative;z-index: 1;}#sk-container-id-255 div.sk-parallel {display: flex;align-items: stretch;justify-content: center;background-color: white;position: relative;}#sk-container-id-255 div.sk-item::before, #sk-container-id-255 div.sk-parallel-item::before {content: \"\";position: absolute;border-left: 1px solid gray;box-sizing: border-box;top: 0;bottom: 0;left: 50%;z-index: -1;}#sk-container-id-255 div.sk-parallel-item {display: flex;flex-direction: column;z-index: 1;position: relative;background-color: white;}#sk-container-id-255 div.sk-parallel-item:first-child::after {align-self: flex-end;width: 50%;}#sk-container-id-255 div.sk-parallel-item:last-child::after {align-self: flex-start;width: 50%;}#sk-container-id-255 div.sk-parallel-item:only-child::after {width: 0;}#sk-container-id-255 div.sk-dashed-wrapped {border: 1px dashed gray;margin: 0 0.4em 0.5em 0.4em;box-sizing: border-box;padding-bottom: 0.4em;background-color: white;}#sk-container-id-255 div.sk-label label {font-family: monospace;font-weight: bold;display: inline-block;line-height: 1.2em;}#sk-container-id-255 div.sk-label-container {text-align: center;}#sk-container-id-255 div.sk-container {/* jupyter's `normalize.less` sets `[hidden] { display: none; }` but bootstrap.min.css set `[hidden] { display: none !important; }` so we also need the `!important` here to be able to override the default hidden behavior on the sphinx rendered scikit-learn.org. See: https://github.com/scikit-learn/scikit-learn/issues/21755 */display: inline-block !important;position: relative;}#sk-container-id-255 div.sk-text-repr-fallback {display: none;}</style><div id=\"sk-container-id-255\" class=\"sk-top-container\"><div class=\"sk-text-repr-fallback\"><pre>KNeighborsClassifier()</pre><b>In a Jupyter environment, please rerun this cell to show the HTML representation or trust the notebook. <br />On GitHub, the HTML representation is unable to render, please try loading this page with nbviewer.org.</b></div><div class=\"sk-container\" hidden><div class=\"sk-item\"><div class=\"sk-estimator sk-toggleable\"><input class=\"sk-toggleable__control sk-hidden--visually\" id=\"sk-estimator-id-255\" type=\"checkbox\" checked><label for=\"sk-estimator-id-255\" class=\"sk-toggleable__label sk-toggleable__label-arrow\">KNeighborsClassifier</label><div class=\"sk-toggleable__content\"><pre>KNeighborsClassifier()</pre></div></div></div></div></div>"
            ]
          },
          "metadata": {},
          "execution_count": 3413
        }
      ]
    },
    {
      "cell_type": "code",
      "source": [
        "# evaluate the model\n",
        "time_i = time.time()\n",
        "train_score = model.score(X_train, y_train)\n",
        "test_score = model.score(X_test, y_test)\n",
        "time_f = time.time()\n",
        "execution_time = time_f - time_i\n",
        "print('train score:', train_score)\n",
        "print('test score:', test_score)\n",
        "print('execution time:', execution_time)"
      ],
      "metadata": {
        "colab": {
          "base_uri": "https://localhost:8080/"
        },
        "id": "8BER6BUIjvob",
        "outputId": "000d7966-5b42-4738-ed94-5dc2cca85ac3"
      },
      "execution_count": null,
      "outputs": [
        {
          "output_type": "stream",
          "name": "stdout",
          "text": [
            "train score: 0.8106060606060606\n",
            "test score: 0.7272727272727273\n",
            "execution time: 0.036075592041015625\n"
          ]
        }
      ]
    },
    {
      "cell_type": "code",
      "source": [
        "mean_score(X_test, y_test, 100)"
      ],
      "metadata": {
        "colab": {
          "base_uri": "https://localhost:8080/"
        },
        "id": "QtybLg-vElju",
        "outputId": "f9a66e9b-8c7a-440b-8fe1-b5f47c987552"
      },
      "execution_count": null,
      "outputs": [
        {
          "output_type": "execute_result",
          "data": {
            "text/plain": [
              "('test score: 0.7200000000000003', 'execution time: 0.009067330360412598')"
            ]
          },
          "metadata": {},
          "execution_count": 3415
        }
      ]
    },
    {
      "cell_type": "code",
      "source": [
        "# additional evaluation metrics\n",
        "time_i = time.time()\n",
        "y_pred = model.predict(X_test)\n",
        "acc = accuracy_score(y_test, y_pred)\n",
        "conf_matrix = confusion_matrix(y_test, y_pred)\n",
        "classi_report = classification_report(y_test, y_pred)\n",
        "time_f = time.time()\n",
        "execution_time = time_f - time_i\n",
        "print('accuracy score:', acc)\n",
        "print('confusion matrix:\\n', conf_matrix)\n",
        "print('classification report:\\n', classi_report)\n",
        "print('execution time:', execution_time)"
      ],
      "metadata": {
        "colab": {
          "base_uri": "https://localhost:8080/"
        },
        "id": "ngUqHPPxj7OY",
        "outputId": "b91e583d-09a8-4f60-df24-db069ca684fd"
      },
      "execution_count": null,
      "outputs": [
        {
          "output_type": "stream",
          "name": "stdout",
          "text": [
            "accuracy score: 0.7272727272727273\n",
            "confusion matrix:\n",
            " [[ 7  6]\n",
            " [ 3 17]]\n",
            "classification report:\n",
            "               precision    recall  f1-score   support\n",
            "\n",
            "        Dies       0.70      0.54      0.61        13\n",
            "       Lives       0.74      0.85      0.79        20\n",
            "\n",
            "    accuracy                           0.73        33\n",
            "   macro avg       0.72      0.69      0.70        33\n",
            "weighted avg       0.72      0.73      0.72        33\n",
            "\n",
            "execution time: 0.026925086975097656\n"
          ]
        }
      ]
    },
    {
      "cell_type": "code",
      "source": [
        "model_accuracies_knn_4 = []\n",
        "\n",
        "for repetition in range(100):\n",
        "    inputs_train_4, inputs_test_4, target_train_4, target_test_4 = train_test_split(inputs_n4,target,test_size=0.15,random_state=42)\n",
        "\n",
        "    knn_classifier_4 = KNeighborsClassifier()\n",
        "    knn_classifier_4.fit(inputs_train_4, target_train_4.values.ravel())\n",
        "    knn_classifier_accuracy_4 = knn_classifier_4.score(inputs_test_4, target_test_4.values.ravel())\n",
        "    model_accuracies_knn_4.append(knn_classifier_accuracy_4)\n",
        "\n",
        "plt.hist(model_accuracies_knn, label='KNN', color= 'pink')\n",
        "plt.title('Accuracy knn average score: {}'.format(np.average(knn_classifier_accuracy_2)));\n",
        "plt.legend()\n",
        "plt.show()"
      ],
      "metadata": {
        "colab": {
          "base_uri": "https://localhost:8080/",
          "height": 452
        },
        "id": "78GZ9NIWF3tQ",
        "outputId": "33620520-c473-41c5-ea9a-b2291ad7122a"
      },
      "execution_count": null,
      "outputs": [
        {
          "output_type": "display_data",
          "data": {
            "text/plain": [
              "<Figure size 640x480 with 1 Axes>"
            ],
            "image/png": "[encoded data removed]"
          },
          "metadata": {}
        }
      ]
    },
    {
      "cell_type": "markdown",
      "source": [
        "##Comparação de resultados\n"
      ],
      "metadata": {
        "id": "lyQgdTGU6vbw"
      }
    },
    {
      "cell_type": "code",
      "source": [
        "model_accuracies_dt = [model_accuracies_dt, model_accuracies_dt_2, model_accuracies_dt_3, model_accuracies_dt_4]\n",
        "fig, axs = plt.subplots(2, 2, figsize=(10, 6))  # Ajustar o tamanho da figura\n",
        "\n",
        "# Plotar cada um dos gráficos em um subplot diferente\n",
        "for i, model_accuracy in enumerate(model_accuracies_dt):\n",
        "    axs[i // 2, i % 2].set_xlim([0.5, 0.7])  # Definir limites do eixo x\n",
        "    axs[i // 2, i % 2].set_ylim([0, 35])\n",
        "    axs[i // 2, i % 2].hist(model_accuracy, label='Decision Tree')\n",
        "    axs[i // 2, i % 2].set_title('Accuracy average score (Test {}): {}'.format(i+2, np.average(model_accuracy)))\n",
        "    axs[i // 2, i % 2].legend()\n",
        "\n",
        "plt.tight_layout()\n",
        "plt.show()"
      ],
      "metadata": {
        "colab": {
          "base_uri": "https://localhost:8080/",
          "height": 607
        },
        "id": "aUk_XvQ-QKP8",
        "outputId": "df1808e4-b883-40c3-f92b-61704d16f7a1"
      },
      "execution_count": null,
      "outputs": [
        {
          "output_type": "display_data",
          "data": {
            "text/plain": [
              "<Figure size 1000x600 with 4 Axes>"
            ],
            "image/png": "[encoded data removed]"
          },
          "metadata": {}
        }
      ]
    },
    {
      "cell_type": "code",
      "source": [
        "model_accuracies_knn = [model_accuracies_knn, model_accuracies_knn_2, model_accuracies_knn_3, model_accuracies_knn_4]\n",
        "fig, axs = plt.subplots(2, 2, figsize=(10, 6))  # Ajustar o tamanho da figura\n",
        "\n",
        "# Plotar cada um dos gráficos em um subplot diferente\n",
        "for i, model_accuracy in enumerate(model_accuracies_knn):\n",
        "    axs[i // 2, i % 2].set_xlim([0.4, 1.0])  # Definir limites do eixo x\n",
        "    axs[i // 2, i % 2].set_ylim([0, 125])\n",
        "    axs[i // 2, i % 2].hist(model_accuracy, label='KNN', color= 'pink')\n",
        "    axs[i // 2, i % 2].set_title('Accuracy average score (Test {}): {}'.format(i+2, np.average(model_accuracy)))\n",
        "    axs[i // 2, i % 2].legend()\n",
        "\n",
        "plt.tight_layout()\n",
        "plt.show()"
      ],
      "metadata": {
        "colab": {
          "base_uri": "https://localhost:8080/",
          "height": 607
        },
        "id": "G6pxbtUWuTFv",
        "outputId": "495ec630-9a53-4f8f-b796-983ddfc811bd"
      },
      "execution_count": null,
      "outputs": [
        {
          "output_type": "display_data",
          "data": {
            "text/plain": [
              "<Figure size 1000x600 with 4 Axes>"
            ],
            "image/png": "[encoded data removed]"
          },
          "metadata": {}
        }
      ]
    },
    {
      "cell_type": "markdown",
      "source": [
        "# Conclusão\n",
        "[[voltar ao índice]](#Indice)\n",
        "##### No processo de classificação realizado neste estudo, foram conduzidos 4 testes abrangendo diferentes aspetos, desde a configuração dos dados até à aplicação de algoritmos de machine learning, como a 'Decision Tree' e o K-NN. Ao longo destes testes, observou-se que não houve grandes discrepâncias nos valores de pontuação média de precisão da árvore de decisão, que se manteve em torno de 0,62. Quanto ao K-NN, o teste 3 apresentou o valor mais alto de precisão média, atingindo 0,76, após a remoção de certos parâmetros (nomeadamente, a remoção das colunas que possuiam mais '?')\n",
        "##### Em relação a 'accuracy', verificamos que o teste 3 revelou-se o melhor teste em que se obteve 0,82 para a Decision Tree e 0,76 para o K-NN. Desta forma, utilizando o teste 3, empregou-se a técnica grid search, alcançando um score de 0,70 para a dt e 0,67 para o K-NN\n",
        "\n",
        "##### Estas conclusões destacam a importância de realizar uma análise cuidadosa dos dados, incluindo a exclusão de atributos redundantes, além de ressaltar a necessidade de ajuste de parâmetros para obter um desempenho otimizado dos modelos de clasificação usados.\n",
        "\n",
        "\n",
        "\n",
        "\n",
        "\n"
      ],
      "metadata": {
        "id": "HtllfPrh2CRC"
      }
    }
  ]
}